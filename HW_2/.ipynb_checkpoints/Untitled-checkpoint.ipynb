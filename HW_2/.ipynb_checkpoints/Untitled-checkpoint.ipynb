{
 "cells": [
  {
   "cell_type": "code",
   "execution_count": 1,
   "id": "f9c94d2b",
   "metadata": {},
   "outputs": [],
   "source": [
    "import pandas as pd\n",
    "import sqlite3\n",
    "from datetime import datetime\n",
    "from sqlite3 import Error"
   ]
  },
  {
   "cell_type": "code",
   "execution_count": 2,
   "id": "ce6c5cf8",
   "metadata": {},
   "outputs": [
    {
     "data": {
      "text/html": [
       "<div>\n",
       "<style scoped>\n",
       "    .dataframe tbody tr th:only-of-type {\n",
       "        vertical-align: middle;\n",
       "    }\n",
       "\n",
       "    .dataframe tbody tr th {\n",
       "        vertical-align: top;\n",
       "    }\n",
       "\n",
       "    .dataframe thead th {\n",
       "        text-align: right;\n",
       "    }\n",
       "</style>\n",
       "<table border=\"1\" class=\"dataframe\">\n",
       "  <thead>\n",
       "    <tr style=\"text-align: right;\">\n",
       "      <th></th>\n",
       "      <th>TRANSACTION_ID</th>\n",
       "      <th>TX_DATETIME</th>\n",
       "      <th>CUSTOMER_ID</th>\n",
       "      <th>TERMINAL_ID</th>\n",
       "      <th>TX_AMOUNT</th>\n",
       "    </tr>\n",
       "  </thead>\n",
       "  <tbody>\n",
       "    <tr>\n",
       "      <th>0</th>\n",
       "      <td>0</td>\n",
       "      <td>2023-01-01 00:00:31</td>\n",
       "      <td>596</td>\n",
       "      <td>3156</td>\n",
       "      <td>533.07</td>\n",
       "    </tr>\n",
       "    <tr>\n",
       "      <th>1</th>\n",
       "      <td>1</td>\n",
       "      <td>2023-01-01 00:02:10</td>\n",
       "      <td>4961</td>\n",
       "      <td>3412</td>\n",
       "      <td>808.56</td>\n",
       "    </tr>\n",
       "    <tr>\n",
       "      <th>2</th>\n",
       "      <td>2</td>\n",
       "      <td>2023-01-01 00:07:56</td>\n",
       "      <td>2</td>\n",
       "      <td>1365</td>\n",
       "      <td>1442.94</td>\n",
       "    </tr>\n",
       "    <tr>\n",
       "      <th>3</th>\n",
       "      <td>3</td>\n",
       "      <td>2023-01-01 00:09:29</td>\n",
       "      <td>4128</td>\n",
       "      <td>8737</td>\n",
       "      <td>620.65</td>\n",
       "    </tr>\n",
       "    <tr>\n",
       "      <th>4</th>\n",
       "      <td>4</td>\n",
       "      <td>2023-01-01 00:10:34</td>\n",
       "      <td>927</td>\n",
       "      <td>9906</td>\n",
       "      <td>490.66</td>\n",
       "    </tr>\n",
       "  </tbody>\n",
       "</table>\n",
       "</div>"
      ],
      "text/plain": [
       "   TRANSACTION_ID         TX_DATETIME  CUSTOMER_ID  TERMINAL_ID  TX_AMOUNT\n",
       "0               0 2023-01-01 00:00:31          596         3156     533.07\n",
       "1               1 2023-01-01 00:02:10         4961         3412     808.56\n",
       "2               2 2023-01-01 00:07:56            2         1365    1442.94\n",
       "3               3 2023-01-01 00:09:29         4128         8737     620.65\n",
       "4               4 2023-01-01 00:10:34          927         9906     490.66"
      ]
     },
     "execution_count": 2,
     "metadata": {},
     "output_type": "execute_result"
    }
   ],
   "source": [
    "df = pd.read_csv('final_transactions.csv', parse_dates=['TX_DATETIME'])\n",
    "df.head()"
   ]
  },
  {
   "cell_type": "code",
   "execution_count": 3,
   "id": "39442224",
   "metadata": {},
   "outputs": [
    {
     "data": {
      "text/html": [
       "<div>\n",
       "<style scoped>\n",
       "    .dataframe tbody tr th:only-of-type {\n",
       "        vertical-align: middle;\n",
       "    }\n",
       "\n",
       "    .dataframe tbody tr th {\n",
       "        vertical-align: top;\n",
       "    }\n",
       "\n",
       "    .dataframe thead th {\n",
       "        text-align: right;\n",
       "    }\n",
       "</style>\n",
       "<table border=\"1\" class=\"dataframe\">\n",
       "  <thead>\n",
       "    <tr style=\"text-align: right;\">\n",
       "      <th></th>\n",
       "      <th>TX_DATETIME</th>\n",
       "      <th>CUSTOMER_ID</th>\n",
       "      <th>TX_AMOUNT</th>\n",
       "    </tr>\n",
       "  </thead>\n",
       "  <tbody>\n",
       "    <tr>\n",
       "      <th>0</th>\n",
       "      <td>2023-01-01 00:00:31</td>\n",
       "      <td>596</td>\n",
       "      <td>533.07</td>\n",
       "    </tr>\n",
       "    <tr>\n",
       "      <th>1</th>\n",
       "      <td>2023-01-01 00:02:10</td>\n",
       "      <td>4961</td>\n",
       "      <td>808.56</td>\n",
       "    </tr>\n",
       "    <tr>\n",
       "      <th>2</th>\n",
       "      <td>2023-01-01 00:07:56</td>\n",
       "      <td>2</td>\n",
       "      <td>1442.94</td>\n",
       "    </tr>\n",
       "    <tr>\n",
       "      <th>3</th>\n",
       "      <td>2023-01-01 00:09:29</td>\n",
       "      <td>4128</td>\n",
       "      <td>620.65</td>\n",
       "    </tr>\n",
       "    <tr>\n",
       "      <th>4</th>\n",
       "      <td>2023-01-01 00:10:34</td>\n",
       "      <td>927</td>\n",
       "      <td>490.66</td>\n",
       "    </tr>\n",
       "  </tbody>\n",
       "</table>\n",
       "</div>"
      ],
      "text/plain": [
       "          TX_DATETIME  CUSTOMER_ID  TX_AMOUNT\n",
       "0 2023-01-01 00:00:31          596     533.07\n",
       "1 2023-01-01 00:02:10         4961     808.56\n",
       "2 2023-01-01 00:07:56            2    1442.94\n",
       "3 2023-01-01 00:09:29         4128     620.65\n",
       "4 2023-01-01 00:10:34          927     490.66"
      ]
     },
     "execution_count": 3,
     "metadata": {},
     "output_type": "execute_result"
    }
   ],
   "source": [
    "df_transaction_bd = df[['TX_DATETIME', 'CUSTOMER_ID', 'TX_AMOUNT']]\n",
    "df_transaction_bd.head()"
   ]
  },
  {
   "cell_type": "code",
   "execution_count": 4,
   "id": "a3453891",
   "metadata": {},
   "outputs": [
    {
     "name": "stdout",
     "output_type": "stream",
     "text": [
      "<class 'pandas.core.frame.DataFrame'>\n",
      "RangeIndex: 1048575 entries, 0 to 1048574\n",
      "Data columns (total 3 columns):\n",
      " #   Column       Non-Null Count    Dtype         \n",
      "---  ------       --------------    -----         \n",
      " 0   TX_DATETIME  1048575 non-null  datetime64[ns]\n",
      " 1   CUSTOMER_ID  1048575 non-null  int64         \n",
      " 2   TX_AMOUNT    1048575 non-null  float64       \n",
      "dtypes: datetime64[ns](1), float64(1), int64(1)\n",
      "memory usage: 24.0 MB\n"
     ]
    }
   ],
   "source": [
    "df_transaction_bd.info()"
   ]
  },
  {
   "cell_type": "code",
   "execution_count": 5,
   "id": "157d5b48",
   "metadata": {},
   "outputs": [],
   "source": [
    "def create_connection(path):\n",
    "    connection = None\n",
    "    try:\n",
    "        connection = sqlite3.connect(path)\n",
    "        print(\"Connection to SQLite DB successful\")\n",
    "    except Error as e:\n",
    "        print(f\"The error '{e}' occurred\")\n",
    "\n",
    "    return connection"
   ]
  },
  {
   "cell_type": "code",
   "execution_count": 6,
   "id": "a4627d74",
   "metadata": {},
   "outputs": [],
   "source": [
    "def execute_query(connection, query):\n",
    "    cursor = connection.cursor()\n",
    "    try:\n",
    "        cursor.execute(query)\n",
    "        connection.commit()\n",
    "        print(\"Query executed successfully\")\n",
    "    except Error as e:\n",
    "        print(f\"The error '{e}' occurred\")"
   ]
  },
  {
   "cell_type": "code",
   "execution_count": 7,
   "id": "658a4f07",
   "metadata": {},
   "outputs": [
    {
     "name": "stdout",
     "output_type": "stream",
     "text": [
      "Connection to SQLite DB successful\n"
     ]
    }
   ],
   "source": [
    "connection = create_connection('database.db')"
   ]
  },
  {
   "cell_type": "code",
   "execution_count": 8,
   "id": "87904283",
   "metadata": {},
   "outputs": [],
   "source": [
    "cursor = sqlite3.Cursor(connection)"
   ]
  },
  {
   "cell_type": "code",
   "execution_count": 9,
   "id": "7de03709",
   "metadata": {},
   "outputs": [],
   "source": [
    "sql_create_table = '''\n",
    "                        CREATE TABLE IF NOT EXISTS transaction_bd (\n",
    "                                            \"TX_DATETIME\" TEXT,\n",
    "                                            \"CUSTOMER_ID\" INTEGER,\n",
    "                                            \"TX_AMOUNT\" REAL\n",
    "                                                        )\n",
    "                     '''"
   ]
  },
  {
   "cell_type": "code",
   "execution_count": 10,
   "id": "d2a78a7b",
   "metadata": {},
   "outputs": [
    {
     "name": "stdout",
     "output_type": "stream",
     "text": [
      "Query executed successfully\n"
     ]
    }
   ],
   "source": [
    "execute_query(connection, sql_create_table)"
   ]
  },
  {
   "cell_type": "code",
   "execution_count": 11,
   "id": "0f01b509",
   "metadata": {},
   "outputs": [
    {
     "data": {
      "text/plain": [
       "1048575"
      ]
     },
     "execution_count": 11,
     "metadata": {},
     "output_type": "execute_result"
    }
   ],
   "source": [
    "df_transaction_bd.to_sql('transaction_bd', connection, if_exists='replace', index=False)"
   ]
  },
  {
   "cell_type": "markdown",
   "id": "b6896683",
   "metadata": {},
   "source": [
    "---"
   ]
  },
  {
   "cell_type": "markdown",
   "id": "0e84c97b",
   "metadata": {},
   "source": [
    "•\tA. Вывести всех клиентов, у которых сумма транзакций больше 700000 за весь период (сортируя клиентов по возрастанию);"
   ]
  },
  {
   "cell_type": "code",
   "execution_count": 12,
   "id": "b66d1f53",
   "metadata": {
    "scrolled": true
   },
   "outputs": [
    {
     "data": {
      "text/html": [
       "<div>\n",
       "<style scoped>\n",
       "    .dataframe tbody tr th:only-of-type {\n",
       "        vertical-align: middle;\n",
       "    }\n",
       "\n",
       "    .dataframe tbody tr th {\n",
       "        vertical-align: top;\n",
       "    }\n",
       "\n",
       "    .dataframe thead th {\n",
       "        text-align: right;\n",
       "    }\n",
       "</style>\n",
       "<table border=\"1\" class=\"dataframe\">\n",
       "  <thead>\n",
       "    <tr style=\"text-align: right;\">\n",
       "      <th></th>\n",
       "      <th>CUSTOMER_ID</th>\n",
       "      <th>TOTAL_AMOUNT</th>\n",
       "    </tr>\n",
       "  </thead>\n",
       "  <tbody>\n",
       "    <tr>\n",
       "      <th>0</th>\n",
       "      <td>2249</td>\n",
       "      <td>707478.64</td>\n",
       "    </tr>\n",
       "    <tr>\n",
       "      <th>1</th>\n",
       "      <td>3116</td>\n",
       "      <td>721980.69</td>\n",
       "    </tr>\n",
       "    <tr>\n",
       "      <th>2</th>\n",
       "      <td>389</td>\n",
       "      <td>753411.90</td>\n",
       "    </tr>\n",
       "    <tr>\n",
       "      <th>3</th>\n",
       "      <td>4163</td>\n",
       "      <td>765153.63</td>\n",
       "    </tr>\n",
       "    <tr>\n",
       "      <th>4</th>\n",
       "      <td>2891</td>\n",
       "      <td>786115.87</td>\n",
       "    </tr>\n",
       "  </tbody>\n",
       "</table>\n",
       "</div>"
      ],
      "text/plain": [
       "   CUSTOMER_ID  TOTAL_AMOUNT\n",
       "0         2249     707478.64\n",
       "1         3116     721980.69\n",
       "2          389     753411.90\n",
       "3         4163     765153.63\n",
       "4         2891     786115.87"
      ]
     },
     "execution_count": 12,
     "metadata": {},
     "output_type": "execute_result"
    }
   ],
   "source": [
    "df_task_1 = df_transaction_bd.groupby('CUSTOMER_ID', as_index=False)['TX_AMOUNT'].sum()\n",
    "df_task_1.query('TX_AMOUNT > 700000').sort_values('TX_AMOUNT').reset_index(drop=True).rename(columns={'TX_AMOUNT': 'TOTAL_AMOUNT'})"
   ]
  },
  {
   "cell_type": "code",
   "execution_count": 13,
   "id": "d87bd727",
   "metadata": {},
   "outputs": [
    {
     "data": {
      "text/html": [
       "<div>\n",
       "<style scoped>\n",
       "    .dataframe tbody tr th:only-of-type {\n",
       "        vertical-align: middle;\n",
       "    }\n",
       "\n",
       "    .dataframe tbody tr th {\n",
       "        vertical-align: top;\n",
       "    }\n",
       "\n",
       "    .dataframe thead th {\n",
       "        text-align: right;\n",
       "    }\n",
       "</style>\n",
       "<table border=\"1\" class=\"dataframe\">\n",
       "  <thead>\n",
       "    <tr style=\"text-align: right;\">\n",
       "      <th></th>\n",
       "      <th>CUSTOMER_ID</th>\n",
       "      <th>TOTAL_AMOUNT</th>\n",
       "    </tr>\n",
       "  </thead>\n",
       "  <tbody>\n",
       "    <tr>\n",
       "      <th>0</th>\n",
       "      <td>2249</td>\n",
       "      <td>707478.64</td>\n",
       "    </tr>\n",
       "    <tr>\n",
       "      <th>1</th>\n",
       "      <td>3116</td>\n",
       "      <td>721980.69</td>\n",
       "    </tr>\n",
       "    <tr>\n",
       "      <th>2</th>\n",
       "      <td>389</td>\n",
       "      <td>753411.90</td>\n",
       "    </tr>\n",
       "    <tr>\n",
       "      <th>3</th>\n",
       "      <td>4163</td>\n",
       "      <td>765153.63</td>\n",
       "    </tr>\n",
       "    <tr>\n",
       "      <th>4</th>\n",
       "      <td>2891</td>\n",
       "      <td>786115.87</td>\n",
       "    </tr>\n",
       "  </tbody>\n",
       "</table>\n",
       "</div>"
      ],
      "text/plain": [
       "   CUSTOMER_ID  TOTAL_AMOUNT\n",
       "0         2249     707478.64\n",
       "1         3116     721980.69\n",
       "2          389     753411.90\n",
       "3         4163     765153.63\n",
       "4         2891     786115.87"
      ]
     },
     "execution_count": 13,
     "metadata": {},
     "output_type": "execute_result"
    }
   ],
   "source": [
    "sql_task_a = '''\n",
    "            SELECT\n",
    "                CUSTOMER_ID,\n",
    "                sum(TX_AMOUNT) as TOTAL_AMOUNT\n",
    "            FROM\n",
    "                transaction_bd\n",
    "            GROUP by\n",
    "                CUSTOMER_ID\n",
    "            HAVING TOTAL_AMOUNT > 700000\n",
    "            ORDER by TOTAL_AMOUNT\n",
    "'''\n",
    "\n",
    "pd.read_sql(sql_task_a, connection)"
   ]
  },
  {
   "cell_type": "markdown",
   "id": "7da8ea3c",
   "metadata": {},
   "source": [
    "---"
   ]
  },
  {
   "cell_type": "markdown",
   "id": "d84c2ae4",
   "metadata": {},
   "source": [
    "•\tB. Вывести всех клиентов, у которых сумма транзакций больше 200000 за период 01.01.2023 - 13.01.2023 (сортируя клиентов по возрастанию);"
   ]
  },
  {
   "cell_type": "code",
   "execution_count": 14,
   "id": "e611a8d9",
   "metadata": {
    "scrolled": false
   },
   "outputs": [
    {
     "data": {
      "text/html": [
       "<div>\n",
       "<style scoped>\n",
       "    .dataframe tbody tr th:only-of-type {\n",
       "        vertical-align: middle;\n",
       "    }\n",
       "\n",
       "    .dataframe tbody tr th {\n",
       "        vertical-align: top;\n",
       "    }\n",
       "\n",
       "    .dataframe thead th {\n",
       "        text-align: right;\n",
       "    }\n",
       "</style>\n",
       "<table border=\"1\" class=\"dataframe\">\n",
       "  <thead>\n",
       "    <tr style=\"text-align: right;\">\n",
       "      <th></th>\n",
       "      <th>CUSTOMER_ID</th>\n",
       "      <th>TOTAL_AMOUNT</th>\n",
       "    </tr>\n",
       "  </thead>\n",
       "  <tbody>\n",
       "    <tr>\n",
       "      <th>0</th>\n",
       "      <td>3406</td>\n",
       "      <td>207733.48</td>\n",
       "    </tr>\n",
       "    <tr>\n",
       "      <th>1</th>\n",
       "      <td>4252</td>\n",
       "      <td>220650.36</td>\n",
       "    </tr>\n",
       "    <tr>\n",
       "      <th>2</th>\n",
       "      <td>1918</td>\n",
       "      <td>241299.96</td>\n",
       "    </tr>\n",
       "    <tr>\n",
       "      <th>3</th>\n",
       "      <td>3833</td>\n",
       "      <td>269107.40</td>\n",
       "    </tr>\n",
       "  </tbody>\n",
       "</table>\n",
       "</div>"
      ],
      "text/plain": [
       "   CUSTOMER_ID  TOTAL_AMOUNT\n",
       "0         3406     207733.48\n",
       "1         4252     220650.36\n",
       "2         1918     241299.96\n",
       "3         3833     269107.40"
      ]
     },
     "execution_count": 14,
     "metadata": {},
     "output_type": "execute_result"
    }
   ],
   "source": [
    "df_task_b = df_transaction_bd[(datetime(2023, 1, 1) <= df_transaction_bd['TX_DATETIME']) & (df_transaction_bd['TX_DATETIME'] <= datetime(2023, 1, 13, 23, 59, 59))]\n",
    "df_task_b.groupby('CUSTOMER_ID', as_index=False)['TX_AMOUNT'].sum().query('TX_AMOUNT > 200000').sort_values('TX_AMOUNT').reset_index(drop=True).rename(columns={'TX_AMOUNT': 'TOTAL_AMOUNT'})"
   ]
  },
  {
   "cell_type": "code",
   "execution_count": 15,
   "id": "681cdc28",
   "metadata": {},
   "outputs": [
    {
     "data": {
      "text/html": [
       "<div>\n",
       "<style scoped>\n",
       "    .dataframe tbody tr th:only-of-type {\n",
       "        vertical-align: middle;\n",
       "    }\n",
       "\n",
       "    .dataframe tbody tr th {\n",
       "        vertical-align: top;\n",
       "    }\n",
       "\n",
       "    .dataframe thead th {\n",
       "        text-align: right;\n",
       "    }\n",
       "</style>\n",
       "<table border=\"1\" class=\"dataframe\">\n",
       "  <thead>\n",
       "    <tr style=\"text-align: right;\">\n",
       "      <th></th>\n",
       "      <th>CUSTOMER_ID</th>\n",
       "      <th>TOTAL_AMOUNT</th>\n",
       "    </tr>\n",
       "  </thead>\n",
       "  <tbody>\n",
       "    <tr>\n",
       "      <th>0</th>\n",
       "      <td>3406</td>\n",
       "      <td>207733.48</td>\n",
       "    </tr>\n",
       "    <tr>\n",
       "      <th>1</th>\n",
       "      <td>4252</td>\n",
       "      <td>220650.36</td>\n",
       "    </tr>\n",
       "    <tr>\n",
       "      <th>2</th>\n",
       "      <td>1918</td>\n",
       "      <td>241299.96</td>\n",
       "    </tr>\n",
       "    <tr>\n",
       "      <th>3</th>\n",
       "      <td>3833</td>\n",
       "      <td>269107.40</td>\n",
       "    </tr>\n",
       "  </tbody>\n",
       "</table>\n",
       "</div>"
      ],
      "text/plain": [
       "   CUSTOMER_ID  TOTAL_AMOUNT\n",
       "0         3406     207733.48\n",
       "1         4252     220650.36\n",
       "2         1918     241299.96\n",
       "3         3833     269107.40"
      ]
     },
     "execution_count": 15,
     "metadata": {},
     "output_type": "execute_result"
    }
   ],
   "source": [
    "sql_task_b = '''\n",
    "                    SELECT\n",
    "                        CUSTOMER_ID,\n",
    "                        sum(TX_AMOUNT) as TOTAL_AMOUNT\n",
    "                    FROM\n",
    "                        transaction_bd\n",
    "                    WHERE TX_DATETIME BETWEEN '2023-01-01 00:00:00' AND '2023-01-13 23:59:59'\n",
    "                    GROUP by CUSTOMER_ID\n",
    "                    HAVING TOTAL_AMOUNT > 200000\n",
    "                    ORDER by TOTAL_AMOUNT\n",
    "'''\n",
    "\n",
    "pd.read_sql(sql_task_b, connection)"
   ]
  },
  {
   "cell_type": "markdown",
   "id": "67347ef3",
   "metadata": {},
   "source": [
    "---"
   ]
  },
  {
   "cell_type": "markdown",
   "id": "4477c488",
   "metadata": {},
   "source": [
    "•\tC. Вывести тех клиентов, у которых id начинается с 4 и количество транзакций за весь период более 444;"
   ]
  },
  {
   "cell_type": "code",
   "execution_count": 23,
   "id": "d0c48b92",
   "metadata": {},
   "outputs": [
    {
     "data": {
      "text/html": [
       "<div>\n",
       "<style scoped>\n",
       "    .dataframe tbody tr th:only-of-type {\n",
       "        vertical-align: middle;\n",
       "    }\n",
       "\n",
       "    .dataframe tbody tr th {\n",
       "        vertical-align: top;\n",
       "    }\n",
       "\n",
       "    .dataframe thead th {\n",
       "        text-align: right;\n",
       "    }\n",
       "</style>\n",
       "<table border=\"1\" class=\"dataframe\">\n",
       "  <thead>\n",
       "    <tr style=\"text-align: right;\">\n",
       "      <th></th>\n",
       "      <th>CUSTOMER_ID</th>\n",
       "      <th>TX_AMOUNT</th>\n",
       "    </tr>\n",
       "  </thead>\n",
       "  <tbody>\n",
       "    <tr>\n",
       "      <th>648</th>\n",
       "      <td>4539</td>\n",
       "      <td>445</td>\n",
       "    </tr>\n",
       "    <tr>\n",
       "      <th>770</th>\n",
       "      <td>4661</td>\n",
       "      <td>449</td>\n",
       "    </tr>\n",
       "    <tr>\n",
       "      <th>342</th>\n",
       "      <td>4231</td>\n",
       "      <td>451</td>\n",
       "    </tr>\n",
       "  </tbody>\n",
       "</table>\n",
       "</div>"
      ],
      "text/plain": [
       "     CUSTOMER_ID  TX_AMOUNT\n",
       "648         4539        445\n",
       "770         4661        449\n",
       "342         4231        451"
      ]
     },
     "execution_count": 23,
     "metadata": {},
     "output_type": "execute_result"
    }
   ],
   "source": [
    "df_task_c = (df_transaction_bd[df_transaction_bd['CUSTOMER_ID']\n",
    "                               .apply(lambda x: str(x).startswith('4'))])\n",
    "(df_task_c.groupby('CUSTOMER_ID', as_index=False)['TX_AMOUNT'].count()\n",
    "                                 .query('TX_AMOUNT > 444').sort_values('TX_AMOUNT'))"
   ]
  },
  {
   "cell_type": "code",
   "execution_count": 24,
   "id": "7ff3d6f5",
   "metadata": {},
   "outputs": [
    {
     "data": {
      "text/html": [
       "<div>\n",
       "<style scoped>\n",
       "    .dataframe tbody tr th:only-of-type {\n",
       "        vertical-align: middle;\n",
       "    }\n",
       "\n",
       "    .dataframe tbody tr th {\n",
       "        vertical-align: top;\n",
       "    }\n",
       "\n",
       "    .dataframe thead th {\n",
       "        text-align: right;\n",
       "    }\n",
       "</style>\n",
       "<table border=\"1\" class=\"dataframe\">\n",
       "  <thead>\n",
       "    <tr style=\"text-align: right;\">\n",
       "      <th></th>\n",
       "      <th>CUSTOMER_ID</th>\n",
       "      <th>COUNT_AMOUNT</th>\n",
       "    </tr>\n",
       "  </thead>\n",
       "  <tbody>\n",
       "    <tr>\n",
       "      <th>0</th>\n",
       "      <td>4539</td>\n",
       "      <td>445</td>\n",
       "    </tr>\n",
       "    <tr>\n",
       "      <th>1</th>\n",
       "      <td>4661</td>\n",
       "      <td>449</td>\n",
       "    </tr>\n",
       "    <tr>\n",
       "      <th>2</th>\n",
       "      <td>4231</td>\n",
       "      <td>451</td>\n",
       "    </tr>\n",
       "  </tbody>\n",
       "</table>\n",
       "</div>"
      ],
      "text/plain": [
       "   CUSTOMER_ID  COUNT_AMOUNT\n",
       "0         4539           445\n",
       "1         4661           449\n",
       "2         4231           451"
      ]
     },
     "execution_count": 24,
     "metadata": {},
     "output_type": "execute_result"
    }
   ],
   "source": [
    "sql_task_c = '''\n",
    "                    SELECT\n",
    "                        CUSTOMER_ID,\n",
    "                        count(TX_AMOUNT) as COUNT_AMOUNT\n",
    "                    FROM\n",
    "                        (SELECT\n",
    "                            *\n",
    "                        FROM\n",
    "                            transaction_bd\n",
    "                        WHERE substr(CUSTOMER_ID, 1, 1) = '4')\n",
    "                    GROUP by CUSTOMER_ID\n",
    "                    HAVING COUNT_AMOUNT > 444\n",
    "                    ORDER by COUNT_AMOUNT\n",
    "                '''\n",
    "\n",
    "pd.read_sql(sql_task_c, connection)"
   ]
  },
  {
   "cell_type": "code",
   "execution_count": 25,
   "id": "39eda2e1",
   "metadata": {},
   "outputs": [
    {
     "data": {
      "text/plain": [
       "<sqlite3.Cursor at 0x2bd09ae8a40>"
      ]
     },
     "execution_count": 25,
     "metadata": {},
     "output_type": "execute_result"
    }
   ],
   "source": [
    "# Добавление столбца 'INCOME_LEVEL' с флагом доходности клиентов\n",
    "cursor.execute('ALTER TABLE transaction_bd ADD COLUMN INCOME_LEVEL TEXT')"
   ]
  },
  {
   "cell_type": "code",
   "execution_count": 26,
   "id": "538aeaef",
   "metadata": {},
   "outputs": [
    {
     "data": {
      "text/plain": [
       "<sqlite3.Cursor at 0x2bd09ae8a40>"
      ]
     },
     "execution_count": 26,
     "metadata": {},
     "output_type": "execute_result"
    }
   ],
   "source": [
    "# Заполнение столбца 'INCOME_LEVEL' согласно заданию\n",
    "cursor.execute('''UPDATE transaction_bd SET INCOME_LEVEL = t.TOTAL_AMOUNT\n",
    "                    FROM\n",
    "                        (SELECT\n",
    "                            CUSTOMER_ID,\n",
    "                            CASE\n",
    "                                WHEN sum(TX_AMOUNT) <= 50000 THEN 'низкая доходность'\n",
    "                                WHEN sum(TX_AMOUNT) <= 100000 THEN 'средняя доходность'\n",
    "                                ELSE 'высокая доходность'\n",
    "                            END  as TOTAL_AMOUNT\n",
    "                        FROM\n",
    "                            transaction_bd\n",
    "                        GROUP BY CUSTOMER_ID) as t\n",
    "                    WHERE transaction_bd.CUSTOMER_ID=t.CUSTOMER_ID''')"
   ]
  },
  {
   "cell_type": "code",
   "execution_count": 27,
   "id": "c7d4f1bd",
   "metadata": {},
   "outputs": [],
   "source": [
    "connection.commit()"
   ]
  },
  {
   "cell_type": "code",
   "execution_count": 29,
   "id": "02fc53a8",
   "metadata": {},
   "outputs": [
    {
     "data": {
      "text/html": [
       "<div>\n",
       "<style scoped>\n",
       "    .dataframe tbody tr th:only-of-type {\n",
       "        vertical-align: middle;\n",
       "    }\n",
       "\n",
       "    .dataframe tbody tr th {\n",
       "        vertical-align: top;\n",
       "    }\n",
       "\n",
       "    .dataframe thead th {\n",
       "        text-align: right;\n",
       "    }\n",
       "</style>\n",
       "<table border=\"1\" class=\"dataframe\">\n",
       "  <thead>\n",
       "    <tr style=\"text-align: right;\">\n",
       "      <th></th>\n",
       "      <th>CUSTOMER_ID</th>\n",
       "      <th>TOTAL_AMOUNT</th>\n",
       "    </tr>\n",
       "  </thead>\n",
       "  <tbody>\n",
       "    <tr>\n",
       "      <th>0</th>\n",
       "      <td>0</td>\n",
       "      <td>119568.47</td>\n",
       "    </tr>\n",
       "    <tr>\n",
       "      <th>1</th>\n",
       "      <td>1</td>\n",
       "      <td>323510.82</td>\n",
       "    </tr>\n",
       "    <tr>\n",
       "      <th>2</th>\n",
       "      <td>2</td>\n",
       "      <td>162541.90</td>\n",
       "    </tr>\n",
       "    <tr>\n",
       "      <th>3</th>\n",
       "      <td>3</td>\n",
       "      <td>2406.56</td>\n",
       "    </tr>\n",
       "    <tr>\n",
       "      <th>4</th>\n",
       "      <td>4</td>\n",
       "      <td>300589.33</td>\n",
       "    </tr>\n",
       "  </tbody>\n",
       "</table>\n",
       "</div>"
      ],
      "text/plain": [
       "   CUSTOMER_ID  TOTAL_AMOUNT\n",
       "0            0     119568.47\n",
       "1            1     323510.82\n",
       "2            2     162541.90\n",
       "3            3       2406.56\n",
       "4            4     300589.33"
      ]
     },
     "execution_count": 29,
     "metadata": {},
     "output_type": "execute_result"
    }
   ],
   "source": [
    "df_type_amount = df_transaction_bd.groupby('CUSTOMER_ID', as_index=False)['TX_AMOUNT'].sum().rename(columns={'TX_AMOUNT': 'TOTAL_AMOUNT'})\n",
    "df_type_amount.head()"
   ]
  },
  {
   "cell_type": "code",
   "execution_count": 30,
   "id": "424d6768",
   "metadata": {},
   "outputs": [
    {
     "data": {
      "text/html": [
       "<div>\n",
       "<style scoped>\n",
       "    .dataframe tbody tr th:only-of-type {\n",
       "        vertical-align: middle;\n",
       "    }\n",
       "\n",
       "    .dataframe tbody tr th {\n",
       "        vertical-align: top;\n",
       "    }\n",
       "\n",
       "    .dataframe thead th {\n",
       "        text-align: right;\n",
       "    }\n",
       "</style>\n",
       "<table border=\"1\" class=\"dataframe\">\n",
       "  <thead>\n",
       "    <tr style=\"text-align: right;\">\n",
       "      <th></th>\n",
       "      <th>CUSTOMER_ID</th>\n",
       "      <th>TOTAL_AMOUNT</th>\n",
       "      <th>INCOME_LEVEL</th>\n",
       "    </tr>\n",
       "  </thead>\n",
       "  <tbody>\n",
       "    <tr>\n",
       "      <th>0</th>\n",
       "      <td>0</td>\n",
       "      <td>119568.47</td>\n",
       "      <td>высокая доходность</td>\n",
       "    </tr>\n",
       "    <tr>\n",
       "      <th>1</th>\n",
       "      <td>1</td>\n",
       "      <td>323510.82</td>\n",
       "      <td>высокая доходность</td>\n",
       "    </tr>\n",
       "    <tr>\n",
       "      <th>2</th>\n",
       "      <td>2</td>\n",
       "      <td>162541.90</td>\n",
       "      <td>высокая доходность</td>\n",
       "    </tr>\n",
       "    <tr>\n",
       "      <th>3</th>\n",
       "      <td>3</td>\n",
       "      <td>2406.56</td>\n",
       "      <td>низкая доходность</td>\n",
       "    </tr>\n",
       "    <tr>\n",
       "      <th>4</th>\n",
       "      <td>4</td>\n",
       "      <td>300589.33</td>\n",
       "      <td>высокая доходность</td>\n",
       "    </tr>\n",
       "  </tbody>\n",
       "</table>\n",
       "</div>"
      ],
      "text/plain": [
       "   CUSTOMER_ID  TOTAL_AMOUNT        INCOME_LEVEL\n",
       "0            0     119568.47  высокая доходность\n",
       "1            1     323510.82  высокая доходность\n",
       "2            2     162541.90  высокая доходность\n",
       "3            3       2406.56   низкая доходность\n",
       "4            4     300589.33  высокая доходность"
      ]
     },
     "execution_count": 30,
     "metadata": {},
     "output_type": "execute_result"
    }
   ],
   "source": [
    "df_type_amount['INCOME_LEVEL'] = df_type_amount['TOTAL_AMOUNT'].apply(lambda x: 'низкая доходность' if x <= 50000 else 'средняя доходность' if x <= 100000 else 'высокая доходность')\n",
    "df_type_amount.head()"
   ]
  },
  {
   "cell_type": "code",
   "execution_count": 34,
   "id": "ebbf5528",
   "metadata": {},
   "outputs": [
    {
     "data": {
      "text/html": [
       "<div>\n",
       "<style scoped>\n",
       "    .dataframe tbody tr th:only-of-type {\n",
       "        vertical-align: middle;\n",
       "    }\n",
       "\n",
       "    .dataframe tbody tr th {\n",
       "        vertical-align: top;\n",
       "    }\n",
       "\n",
       "    .dataframe thead th {\n",
       "        text-align: right;\n",
       "    }\n",
       "</style>\n",
       "<table border=\"1\" class=\"dataframe\">\n",
       "  <thead>\n",
       "    <tr style=\"text-align: right;\">\n",
       "      <th></th>\n",
       "      <th>TX_DATETIME</th>\n",
       "      <th>CUSTOMER_ID</th>\n",
       "      <th>TX_AMOUNT</th>\n",
       "      <th>INCOME_LEVEL</th>\n",
       "    </tr>\n",
       "  </thead>\n",
       "  <tbody>\n",
       "    <tr>\n",
       "      <th>0</th>\n",
       "      <td>2023-01-01 00:00:31</td>\n",
       "      <td>596</td>\n",
       "      <td>533.07</td>\n",
       "      <td>высокая доходность</td>\n",
       "    </tr>\n",
       "    <tr>\n",
       "      <th>1</th>\n",
       "      <td>2023-01-01 14:32:25</td>\n",
       "      <td>596</td>\n",
       "      <td>558.99</td>\n",
       "      <td>высокая доходность</td>\n",
       "    </tr>\n",
       "    <tr>\n",
       "      <th>2</th>\n",
       "      <td>2023-01-01 18:33:13</td>\n",
       "      <td>596</td>\n",
       "      <td>589.15</td>\n",
       "      <td>высокая доходность</td>\n",
       "    </tr>\n",
       "    <tr>\n",
       "      <th>3</th>\n",
       "      <td>2023-01-01 21:28:48</td>\n",
       "      <td>596</td>\n",
       "      <td>612.09</td>\n",
       "      <td>высокая доходность</td>\n",
       "    </tr>\n",
       "    <tr>\n",
       "      <th>4</th>\n",
       "      <td>2023-01-02 13:19:16</td>\n",
       "      <td>596</td>\n",
       "      <td>166.47</td>\n",
       "      <td>высокая доходность</td>\n",
       "    </tr>\n",
       "  </tbody>\n",
       "</table>\n",
       "</div>"
      ],
      "text/plain": [
       "          TX_DATETIME  CUSTOMER_ID  TX_AMOUNT        INCOME_LEVEL\n",
       "0 2023-01-01 00:00:31          596     533.07  высокая доходность\n",
       "1 2023-01-01 14:32:25          596     558.99  высокая доходность\n",
       "2 2023-01-01 18:33:13          596     589.15  высокая доходность\n",
       "3 2023-01-01 21:28:48          596     612.09  высокая доходность\n",
       "4 2023-01-02 13:19:16          596     166.47  высокая доходность"
      ]
     },
     "execution_count": 34,
     "metadata": {},
     "output_type": "execute_result"
    }
   ],
   "source": [
    "df_transaction_bd = df_transaction_bd.merge(df_type_amount, how='inner', on='CUSTOMER_ID')[['TX_DATETIME', 'CUSTOMER_ID', 'TX_AMOUNT', 'INCOME_LEVEL']]\n",
    "df_transaction_bd.head()"
   ]
  },
  {
   "cell_type": "code",
   "execution_count": 39,
   "id": "c30d8490",
   "metadata": {},
   "outputs": [
    {
     "data": {
      "text/html": [
       "<div>\n",
       "<style scoped>\n",
       "    .dataframe tbody tr th:only-of-type {\n",
       "        vertical-align: middle;\n",
       "    }\n",
       "\n",
       "    .dataframe tbody tr th {\n",
       "        vertical-align: top;\n",
       "    }\n",
       "\n",
       "    .dataframe thead th {\n",
       "        text-align: right;\n",
       "    }\n",
       "</style>\n",
       "<table border=\"1\" class=\"dataframe\">\n",
       "  <thead>\n",
       "    <tr style=\"text-align: right;\">\n",
       "      <th></th>\n",
       "      <th>INCOME_LEVEL</th>\n",
       "      <th>CUSTOMER_ID</th>\n",
       "    </tr>\n",
       "  </thead>\n",
       "  <tbody>\n",
       "    <tr>\n",
       "      <th>0</th>\n",
       "      <td>высокая доходность</td>\n",
       "      <td>2167</td>\n",
       "    </tr>\n",
       "    <tr>\n",
       "      <th>1</th>\n",
       "      <td>низкая доходность</td>\n",
       "      <td>1812</td>\n",
       "    </tr>\n",
       "    <tr>\n",
       "      <th>2</th>\n",
       "      <td>средняя доходность</td>\n",
       "      <td>1007</td>\n",
       "    </tr>\n",
       "  </tbody>\n",
       "</table>\n",
       "</div>"
      ],
      "text/plain": [
       "         INCOME_LEVEL  CUSTOMER_ID\n",
       "0  высокая доходность         2167\n",
       "1   низкая доходность         1812\n",
       "2  средняя доходность         1007"
      ]
     },
     "execution_count": 39,
     "metadata": {},
     "output_type": "execute_result"
    }
   ],
   "source": [
    "df_transaction_bd.groupby(['INCOME_LEVEL', 'CUSTOMER_ID'], as_index=False)['TX_AMOUNT'].count().groupby('INCOME_LEVEL', as_index=False)['CUSTOMER_ID'].count()"
   ]
  },
  {
   "cell_type": "code",
   "execution_count": 29,
   "id": "bf52a0e0",
   "metadata": {},
   "outputs": [
    {
     "data": {
      "text/html": [
       "<div>\n",
       "<style scoped>\n",
       "    .dataframe tbody tr th:only-of-type {\n",
       "        vertical-align: middle;\n",
       "    }\n",
       "\n",
       "    .dataframe tbody tr th {\n",
       "        vertical-align: top;\n",
       "    }\n",
       "\n",
       "    .dataframe thead th {\n",
       "        text-align: right;\n",
       "    }\n",
       "</style>\n",
       "<table border=\"1\" class=\"dataframe\">\n",
       "  <thead>\n",
       "    <tr style=\"text-align: right;\">\n",
       "      <th></th>\n",
       "      <th>INCOME_LEVEL</th>\n",
       "      <th>COUNT_CUSTOMER</th>\n",
       "    </tr>\n",
       "  </thead>\n",
       "  <tbody>\n",
       "    <tr>\n",
       "      <th>0</th>\n",
       "      <td>высокая доходность</td>\n",
       "      <td>2167</td>\n",
       "    </tr>\n",
       "    <tr>\n",
       "      <th>1</th>\n",
       "      <td>низкая доходность</td>\n",
       "      <td>1812</td>\n",
       "    </tr>\n",
       "    <tr>\n",
       "      <th>2</th>\n",
       "      <td>средняя доходность</td>\n",
       "      <td>1007</td>\n",
       "    </tr>\n",
       "  </tbody>\n",
       "</table>\n",
       "</div>"
      ],
      "text/plain": [
       "         INCOME_LEVEL  COUNT_CUSTOMER\n",
       "0  высокая доходность            2167\n",
       "1   низкая доходность            1812\n",
       "2  средняя доходность            1007"
      ]
     },
     "execution_count": 29,
     "metadata": {},
     "output_type": "execute_result"
    }
   ],
   "source": [
    "sql_task_e = '''\n",
    "                SELECT\n",
    "                    INCOME_LEVEL,\n",
    "                    count(CUSTOMER_ID) as COUNT_CUSTOMER\n",
    "                FROM\n",
    "                    (SELECT\n",
    "                        CUSTOMER_ID,\n",
    "                        INCOME_LEVEL\n",
    "                    FROM\n",
    "                        transaction_bd\n",
    "                    GROUP by\n",
    "                        CUSTOMER_ID,\n",
    "                        INCOME_LEVEL)\n",
    "                GROUP by INCOME_LEVEL\n",
    "'''\n",
    "pd.read_sql(sql_task_e, connection)"
   ]
  },
  {
   "cell_type": "markdown",
   "id": "b202af6a",
   "metadata": {},
   "source": [
    "---"
   ]
  },
  {
   "cell_type": "markdown",
   "id": "42a01b41",
   "metadata": {},
   "source": [
    "•\tF. Вывести сумму транзакций за каждый день (сортируя дни по возрастанию)."
   ]
  },
  {
   "cell_type": "code",
   "execution_count": 40,
   "id": "1f321a18",
   "metadata": {},
   "outputs": [
    {
     "name": "stderr",
     "output_type": "stream",
     "text": [
      "C:\\Users\\evstr\\AppData\\Local\\Temp\\ipykernel_6068\\1676692826.py:1: SettingWithCopyWarning: \n",
      "A value is trying to be set on a copy of a slice from a DataFrame.\n",
      "Try using .loc[row_indexer,col_indexer] = value instead\n",
      "\n",
      "See the caveats in the documentation: https://pandas.pydata.org/pandas-docs/stable/user_guide/indexing.html#returning-a-view-versus-a-copy\n",
      "  df_transaction_bd['DATE'] = df_transaction_bd.TX_DATETIME.apply(datetime.date)\n"
     ]
    }
   ],
   "source": [
    "df_transaction_bd['DATE'] = df_transaction_bd.TX_DATETIME.apply(datetime.date)"
   ]
  },
  {
   "cell_type": "code",
   "execution_count": 42,
   "id": "b84debf8",
   "metadata": {},
   "outputs": [
    {
     "data": {
      "text/html": [
       "<div>\n",
       "<style scoped>\n",
       "    .dataframe tbody tr th:only-of-type {\n",
       "        vertical-align: middle;\n",
       "    }\n",
       "\n",
       "    .dataframe tbody tr th {\n",
       "        vertical-align: top;\n",
       "    }\n",
       "\n",
       "    .dataframe thead th {\n",
       "        text-align: right;\n",
       "    }\n",
       "</style>\n",
       "<table border=\"1\" class=\"dataframe\">\n",
       "  <thead>\n",
       "    <tr style=\"text-align: right;\">\n",
       "      <th></th>\n",
       "      <th>TX_DATETIME</th>\n",
       "      <th>CUSTOMER_ID</th>\n",
       "      <th>TX_AMOUNT</th>\n",
       "      <th>DATE</th>\n",
       "    </tr>\n",
       "  </thead>\n",
       "  <tbody>\n",
       "    <tr>\n",
       "      <th>0</th>\n",
       "      <td>2023-01-01 00:00:31</td>\n",
       "      <td>596</td>\n",
       "      <td>533.07</td>\n",
       "      <td>2023-01-01</td>\n",
       "    </tr>\n",
       "    <tr>\n",
       "      <th>1</th>\n",
       "      <td>2023-01-01 00:02:10</td>\n",
       "      <td>4961</td>\n",
       "      <td>808.56</td>\n",
       "      <td>2023-01-01</td>\n",
       "    </tr>\n",
       "    <tr>\n",
       "      <th>2</th>\n",
       "      <td>2023-01-01 00:07:56</td>\n",
       "      <td>2</td>\n",
       "      <td>1442.94</td>\n",
       "      <td>2023-01-01</td>\n",
       "    </tr>\n",
       "    <tr>\n",
       "      <th>3</th>\n",
       "      <td>2023-01-01 00:09:29</td>\n",
       "      <td>4128</td>\n",
       "      <td>620.65</td>\n",
       "      <td>2023-01-01</td>\n",
       "    </tr>\n",
       "    <tr>\n",
       "      <th>4</th>\n",
       "      <td>2023-01-01 00:10:34</td>\n",
       "      <td>927</td>\n",
       "      <td>490.66</td>\n",
       "      <td>2023-01-01</td>\n",
       "    </tr>\n",
       "  </tbody>\n",
       "</table>\n",
       "</div>"
      ],
      "text/plain": [
       "          TX_DATETIME  CUSTOMER_ID  TX_AMOUNT        DATE\n",
       "0 2023-01-01 00:00:31          596     533.07  2023-01-01\n",
       "1 2023-01-01 00:02:10         4961     808.56  2023-01-01\n",
       "2 2023-01-01 00:07:56            2    1442.94  2023-01-01\n",
       "3 2023-01-01 00:09:29         4128     620.65  2023-01-01\n",
       "4 2023-01-01 00:10:34          927     490.66  2023-01-01"
      ]
     },
     "execution_count": 42,
     "metadata": {},
     "output_type": "execute_result"
    }
   ],
   "source": [
    "df_transaction_bd.head()"
   ]
  },
  {
   "cell_type": "code",
   "execution_count": 48,
   "id": "155faa87",
   "metadata": {},
   "outputs": [
    {
     "data": {
      "text/html": [
       "<div>\n",
       "<style scoped>\n",
       "    .dataframe tbody tr th:only-of-type {\n",
       "        vertical-align: middle;\n",
       "    }\n",
       "\n",
       "    .dataframe tbody tr th {\n",
       "        vertical-align: top;\n",
       "    }\n",
       "\n",
       "    .dataframe thead th {\n",
       "        text-align: right;\n",
       "    }\n",
       "</style>\n",
       "<table border=\"1\" class=\"dataframe\">\n",
       "  <thead>\n",
       "    <tr style=\"text-align: right;\">\n",
       "      <th></th>\n",
       "      <th>DATE</th>\n",
       "      <th>TOTAL_AMOUNT</th>\n",
       "    </tr>\n",
       "  </thead>\n",
       "  <tbody>\n",
       "    <tr>\n",
       "      <th>0</th>\n",
       "      <td>2023-01-01</td>\n",
       "      <td>4827656.26</td>\n",
       "    </tr>\n",
       "    <tr>\n",
       "      <th>1</th>\n",
       "      <td>2023-01-02</td>\n",
       "      <td>4862551.41</td>\n",
       "    </tr>\n",
       "    <tr>\n",
       "      <th>2</th>\n",
       "      <td>2023-01-03</td>\n",
       "      <td>5058973.71</td>\n",
       "    </tr>\n",
       "    <tr>\n",
       "      <th>3</th>\n",
       "      <td>2023-01-04</td>\n",
       "      <td>4938142.47</td>\n",
       "    </tr>\n",
       "    <tr>\n",
       "      <th>4</th>\n",
       "      <td>2023-01-05</td>\n",
       "      <td>5002954.23</td>\n",
       "    </tr>\n",
       "    <tr>\n",
       "      <th>...</th>\n",
       "      <td>...</td>\n",
       "      <td>...</td>\n",
       "    </tr>\n",
       "    <tr>\n",
       "      <th>105</th>\n",
       "      <td>2023-04-16</td>\n",
       "      <td>5299386.81</td>\n",
       "    </tr>\n",
       "    <tr>\n",
       "      <th>106</th>\n",
       "      <td>2023-04-17</td>\n",
       "      <td>5100973.31</td>\n",
       "    </tr>\n",
       "    <tr>\n",
       "      <th>107</th>\n",
       "      <td>2023-04-18</td>\n",
       "      <td>5233557.39</td>\n",
       "    </tr>\n",
       "    <tr>\n",
       "      <th>108</th>\n",
       "      <td>2023-04-19</td>\n",
       "      <td>5194846.44</td>\n",
       "    </tr>\n",
       "    <tr>\n",
       "      <th>109</th>\n",
       "      <td>2023-04-20</td>\n",
       "      <td>1795235.72</td>\n",
       "    </tr>\n",
       "  </tbody>\n",
       "</table>\n",
       "<p>110 rows × 2 columns</p>\n",
       "</div>"
      ],
      "text/plain": [
       "           DATE  TOTAL_AMOUNT\n",
       "0    2023-01-01    4827656.26\n",
       "1    2023-01-02    4862551.41\n",
       "2    2023-01-03    5058973.71\n",
       "3    2023-01-04    4938142.47\n",
       "4    2023-01-05    5002954.23\n",
       "..          ...           ...\n",
       "105  2023-04-16    5299386.81\n",
       "106  2023-04-17    5100973.31\n",
       "107  2023-04-18    5233557.39\n",
       "108  2023-04-19    5194846.44\n",
       "109  2023-04-20    1795235.72\n",
       "\n",
       "[110 rows x 2 columns]"
      ]
     },
     "execution_count": 48,
     "metadata": {},
     "output_type": "execute_result"
    }
   ],
   "source": [
    "df_transaction_bd.groupby('DATE', as_index=False)['TX_AMOUNT'].sum().sort_values('DATE').rename(columns={'TX_AMOUNT': 'TOTAL_AMOUNT'})"
   ]
  },
  {
   "cell_type": "code",
   "execution_count": 49,
   "id": "6029ab05",
   "metadata": {},
   "outputs": [
    {
     "data": {
      "text/html": [
       "<div>\n",
       "<style scoped>\n",
       "    .dataframe tbody tr th:only-of-type {\n",
       "        vertical-align: middle;\n",
       "    }\n",
       "\n",
       "    .dataframe tbody tr th {\n",
       "        vertical-align: top;\n",
       "    }\n",
       "\n",
       "    .dataframe thead th {\n",
       "        text-align: right;\n",
       "    }\n",
       "</style>\n",
       "<table border=\"1\" class=\"dataframe\">\n",
       "  <thead>\n",
       "    <tr style=\"text-align: right;\">\n",
       "      <th></th>\n",
       "      <th>DATE</th>\n",
       "      <th>TOTAL_AMOUNT</th>\n",
       "    </tr>\n",
       "  </thead>\n",
       "  <tbody>\n",
       "    <tr>\n",
       "      <th>0</th>\n",
       "      <td>2023-01-01</td>\n",
       "      <td>4827656.26</td>\n",
       "    </tr>\n",
       "    <tr>\n",
       "      <th>1</th>\n",
       "      <td>2023-01-02</td>\n",
       "      <td>4862551.41</td>\n",
       "    </tr>\n",
       "    <tr>\n",
       "      <th>2</th>\n",
       "      <td>2023-01-03</td>\n",
       "      <td>5058973.71</td>\n",
       "    </tr>\n",
       "    <tr>\n",
       "      <th>3</th>\n",
       "      <td>2023-01-04</td>\n",
       "      <td>4938142.47</td>\n",
       "    </tr>\n",
       "    <tr>\n",
       "      <th>4</th>\n",
       "      <td>2023-01-05</td>\n",
       "      <td>5002954.23</td>\n",
       "    </tr>\n",
       "    <tr>\n",
       "      <th>...</th>\n",
       "      <td>...</td>\n",
       "      <td>...</td>\n",
       "    </tr>\n",
       "    <tr>\n",
       "      <th>105</th>\n",
       "      <td>2023-04-16</td>\n",
       "      <td>5299386.81</td>\n",
       "    </tr>\n",
       "    <tr>\n",
       "      <th>106</th>\n",
       "      <td>2023-04-17</td>\n",
       "      <td>5100973.31</td>\n",
       "    </tr>\n",
       "    <tr>\n",
       "      <th>107</th>\n",
       "      <td>2023-04-18</td>\n",
       "      <td>5233557.39</td>\n",
       "    </tr>\n",
       "    <tr>\n",
       "      <th>108</th>\n",
       "      <td>2023-04-19</td>\n",
       "      <td>5194846.44</td>\n",
       "    </tr>\n",
       "    <tr>\n",
       "      <th>109</th>\n",
       "      <td>2023-04-20</td>\n",
       "      <td>1795235.72</td>\n",
       "    </tr>\n",
       "  </tbody>\n",
       "</table>\n",
       "<p>110 rows × 2 columns</p>\n",
       "</div>"
      ],
      "text/plain": [
       "           DATE  TOTAL_AMOUNT\n",
       "0    2023-01-01    4827656.26\n",
       "1    2023-01-02    4862551.41\n",
       "2    2023-01-03    5058973.71\n",
       "3    2023-01-04    4938142.47\n",
       "4    2023-01-05    5002954.23\n",
       "..          ...           ...\n",
       "105  2023-04-16    5299386.81\n",
       "106  2023-04-17    5100973.31\n",
       "107  2023-04-18    5233557.39\n",
       "108  2023-04-19    5194846.44\n",
       "109  2023-04-20    1795235.72\n",
       "\n",
       "[110 rows x 2 columns]"
      ]
     },
     "execution_count": 49,
     "metadata": {},
     "output_type": "execute_result"
    }
   ],
   "source": [
    "sql_task_f = '''\n",
    "                SELECT\n",
    "                    date(TX_DATETIME) as DATE,\n",
    "                    sum(TX_AMOUNT) as TOTAL_AMOUNT\n",
    "                FROM\n",
    "                    transaction_bd\n",
    "                GROUP by DATE\n",
    "                ORDER by DAtE\n",
    "            '''\n",
    "pd.read_sql(sql_task_f, connection)"
   ]
  },
  {
   "cell_type": "markdown",
   "id": "6e9e65d1",
   "metadata": {},
   "source": [
    "## Подготовка дашборда"
   ]
  },
  {
   "cell_type": "code",
   "execution_count": null,
   "id": "a305bf7d",
   "metadata": {},
   "outputs": [],
   "source": [
    "from dash import Dash, html, dcc\n",
    "import plotly.express as px\n",
    "import pandas as pd\n",
    "\n",
    "app = Dash()\n",
    "\n",
    "fig1 = px.bar(data, x=\"date\", y=\"num_orders\", title = 'Зависимость числа бронирований от даты')\n",
    "\n",
    "fig2 = px.pie(data_apart, values='num_orders', names='repeated_guest')\n",
    "\n",
    "app.layout = html.Div(children=[\n",
    "    html.H1(children='Данные по сервису бронирования'),\n",
    "\n",
    "    html.Div(children='''\n",
    "        Анализ данных по бронированию апартаментов.\n",
    "    '''),\n",
    "\n",
    "    dcc.Graph(\n",
    "        id='example-graph',\n",
    "        figure=fig1\n",
    "    ),\n",
    "     dcc.Graph(\n",
    "        id='example-graph1',\n",
    "        figure=fig2\n",
    "    )\n",
    "])\n",
    "\n",
    "app.run_server()"
   ]
  },
  {
   "cell_type": "code",
   "execution_count": null,
   "id": "d60c1fb2",
   "metadata": {},
   "outputs": [],
   "source": []
  },
  {
   "cell_type": "code",
   "execution_count": null,
   "id": "5de0eb46",
   "metadata": {},
   "outputs": [],
   "source": []
  },
  {
   "cell_type": "code",
   "execution_count": 12,
   "id": "d123ed6c",
   "metadata": {},
   "outputs": [],
   "source": [
    "# !pip install dash"
   ]
  },
  {
   "cell_type": "code",
   "execution_count": 14,
   "id": "8e768186",
   "metadata": {},
   "outputs": [],
   "source": [
    "# !pip install jupyter-dash"
   ]
  },
  {
   "cell_type": "code",
   "execution_count": 20,
   "id": "2b2ef0a1",
   "metadata": {
    "scrolled": true
   },
   "outputs": [],
   "source": [
    "connection.close()"
   ]
  },
  {
   "cell_type": "code",
   "execution_count": null,
   "id": "2f37b6c9",
   "metadata": {},
   "outputs": [],
   "source": []
  }
 ],
 "metadata": {
  "kernelspec": {
   "display_name": "Python 3 (ipykernel)",
   "language": "python",
   "name": "python3"
  },
  "language_info": {
   "codemirror_mode": {
    "name": "ipython",
    "version": 3
   },
   "file_extension": ".py",
   "mimetype": "text/x-python",
   "name": "python",
   "nbconvert_exporter": "python",
   "pygments_lexer": "ipython3",
   "version": "3.9.12"
  }
 },
 "nbformat": 4,
 "nbformat_minor": 5
}
