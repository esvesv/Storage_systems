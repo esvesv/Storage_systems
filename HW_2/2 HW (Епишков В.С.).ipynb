{
 "cells": [
  {
   "cell_type": "code",
   "execution_count": 2,
   "id": "1f847ffd-f688-4b6f-b437-b9c43321746d",
   "metadata": {},
   "outputs": [],
   "source": [
    "import sqlite3 \n",
    "from sqlite3 import Error \n",
    "\n",
    "import pandas as pd\n",
    "\n",
    "pd.set_option('display.max_columns', None)"
   ]
  },
  {
   "cell_type": "markdown",
   "id": "df913f5e",
   "metadata": {},
   "source": [
    "Необходимо скачать CSV-файл — [«final_transactions.csv»](https://drive.google.com/file/d/1_YrZPaD1zNCcXUkUfeWM0ZOdg_was_iA/view), создать таблицу transaction_bd со всеми полями, загрузить данные из файла в таблицу и оставить таблицу со структурой:\n",
    "\n",
    "* (0, 'TX_DATETIME', 'NUMERIC', 0, None, 0) - время транзакций\n",
    "* (1, 'CUSTOMER_ID', 'INTEGER', 0, None, 0) - клиент\n",
    "* (2, 'TX_AMOUNT', 'REAL', 0, None, 0) - сумма транзакций\n",
    "\n",
    "***Комментарий***: Можно оставить все 5 полей, но запросы будут выполняться чуть дольше."
   ]
  },
  {
   "cell_type": "code",
   "execution_count": 3,
   "id": "6a34091f",
   "metadata": {},
   "outputs": [],
   "source": [
    "data = pd.read_csv('final_transactions.csv')"
   ]
  },
  {
   "cell_type": "code",
   "execution_count": 4,
   "id": "845fe914",
   "metadata": {},
   "outputs": [
    {
     "name": "stdout",
     "output_type": "stream",
     "text": [
      "<class 'pandas.core.frame.DataFrame'>\n",
      "RangeIndex: 1048575 entries, 0 to 1048574\n",
      "Data columns (total 5 columns):\n",
      " #   Column          Non-Null Count    Dtype  \n",
      "---  ------          --------------    -----  \n",
      " 0   TRANSACTION_ID  1048575 non-null  int64  \n",
      " 1   TX_DATETIME     1048575 non-null  object \n",
      " 2   CUSTOMER_ID     1048575 non-null  int64  \n",
      " 3   TERMINAL_ID     1048575 non-null  int64  \n",
      " 4   TX_AMOUNT       1048575 non-null  float64\n",
      "dtypes: float64(1), int64(3), object(1)\n",
      "memory usage: 40.0+ MB\n"
     ]
    }
   ],
   "source": [
    "data.info()"
   ]
  },
  {
   "cell_type": "code",
   "execution_count": 5,
   "id": "9f7b8fc0",
   "metadata": {},
   "outputs": [],
   "source": [
    "def create_connection(path):\n",
    "\n",
    "    \"\"\"\n",
    "    Функция подключения к базе данных\n",
    "    \"\"\"\n",
    "\n",
    "    connection = None\n",
    "    try:\n",
    "        connection = sqlite3.connect(path)\n",
    "        print(\"Connection to SQLite DB successful\")\n",
    "    except Error as e:\n",
    "        print(f\"The error '{e}' occurred\")\n",
    "\n",
    "    return connection"
   ]
  },
  {
   "cell_type": "code",
   "execution_count": 6,
   "id": "9e8b33d1-06dc-481c-a86b-6bba64a68d2d",
   "metadata": {},
   "outputs": [],
   "source": [
    "def execute_query(connection, query):\n",
    "\n",
    "    \"\"\"\n",
    "    Функция выполнения запроса к базе данных\n",
    "    \"\"\"\n",
    "\n",
    "    cursor = connection.cursor()\n",
    "    try:\n",
    "        cursor.execute(query)\n",
    "        connection.commit()\n",
    "        print(\"Query executed successfully\")\n",
    "    except Error as e:\n",
    "        print(f\"The error '{e}' occurred\")"
   ]
  },
  {
   "cell_type": "code",
   "execution_count": 79,
   "id": "5355fdfe",
   "metadata": {},
   "outputs": [],
   "source": [
    "def sql_insert(connection, data, name, m=0, n=data.shape[1]):\n",
    "\n",
    "    \"\"\"\n",
    "    Функция для добавления значений в таблицу\n",
    "    \"\"\"\n",
    "\n",
    "    cursor = connection.cursor()\n",
    "    try:\n",
    "        cursor.executemany(f\"\"\"\n",
    "                INSERT INTO {name} {tuple(data.columns[m:n])} \n",
    "                    VALUES ({str(\"?, \" * (n-m-1) + \"?\")})\"\"\",\n",
    "                data.iloc[:, m:n].values)\n",
    "        connection.commit()\n",
    "    except Error as e:\n",
    "        print(f\"The error '{e}' occurred\")"
   ]
  },
  {
   "cell_type": "code",
   "execution_count": 7,
   "id": "73720f48-ab74-4095-90a1-3539ea0eee47",
   "metadata": {},
   "outputs": [
    {
     "name": "stdout",
     "output_type": "stream",
     "text": [
      "Connection to SQLite DB successful\n"
     ]
    }
   ],
   "source": [
    "# Подключаюсь к базе данных (если нет такой, то создается)\n",
    "connection = create_connection(\"HW_2.db\")"
   ]
  },
  {
   "cell_type": "code",
   "execution_count": 83,
   "id": "2a9a784d",
   "metadata": {},
   "outputs": [
    {
     "name": "stdout",
     "output_type": "stream",
     "text": [
      "Query executed successfully\n"
     ]
    }
   ],
   "source": [
    "# Код для создания таблицы\n",
    "create_users_table = \"\"\"\n",
    "    CREATE TABLE IF NOT EXISTS transaction_tbl (\n",
    "        transaction_id INTEGER PRIMARY KEY AUTOINCREMENT,\n",
    "        tx_datetime NUMERIC NOT NULL,\n",
    "        customer_id INTEGER NOT NULL,\n",
    "        terminal_id INTEGER NOT NULL,\n",
    "        tx_amount REAL NOT NULL\n",
    "    );\n",
    "    \"\"\"\n",
    "\n",
    "# Создание таблицы через функцию\n",
    "execute_query(connection, create_users_table)"
   ]
  },
  {
   "cell_type": "code",
   "execution_count": 80,
   "id": "276b8c24",
   "metadata": {},
   "outputs": [],
   "source": [
    "# Вставка данных в таблицу\n",
    "sql_insert(connection, data, 'transaction_tbl')"
   ]
  },
  {
   "cell_type": "code",
   "execution_count": 84,
   "id": "387e0f9f",
   "metadata": {},
   "outputs": [
    {
     "data": {
      "text/html": [
       "<div>\n",
       "<style scoped>\n",
       "    .dataframe tbody tr th:only-of-type {\n",
       "        vertical-align: middle;\n",
       "    }\n",
       "\n",
       "    .dataframe tbody tr th {\n",
       "        vertical-align: top;\n",
       "    }\n",
       "\n",
       "    .dataframe thead th {\n",
       "        text-align: right;\n",
       "    }\n",
       "</style>\n",
       "<table border=\"1\" class=\"dataframe\">\n",
       "  <thead>\n",
       "    <tr style=\"text-align: right;\">\n",
       "      <th></th>\n",
       "      <th>transaction_id</th>\n",
       "      <th>tx_datetime</th>\n",
       "      <th>customer_id</th>\n",
       "      <th>terminal_id</th>\n",
       "      <th>tx_amount</th>\n",
       "    </tr>\n",
       "  </thead>\n",
       "  <tbody>\n",
       "    <tr>\n",
       "      <th>0</th>\n",
       "      <td>0</td>\n",
       "      <td>2023-01-01 00:00:31</td>\n",
       "      <td>596</td>\n",
       "      <td>3156</td>\n",
       "      <td>533.07</td>\n",
       "    </tr>\n",
       "    <tr>\n",
       "      <th>1</th>\n",
       "      <td>1</td>\n",
       "      <td>2023-01-01 00:02:10</td>\n",
       "      <td>4961</td>\n",
       "      <td>3412</td>\n",
       "      <td>808.56</td>\n",
       "    </tr>\n",
       "    <tr>\n",
       "      <th>2</th>\n",
       "      <td>2</td>\n",
       "      <td>2023-01-01 00:07:56</td>\n",
       "      <td>2</td>\n",
       "      <td>1365</td>\n",
       "      <td>1442.94</td>\n",
       "    </tr>\n",
       "    <tr>\n",
       "      <th>3</th>\n",
       "      <td>3</td>\n",
       "      <td>2023-01-01 00:09:29</td>\n",
       "      <td>4128</td>\n",
       "      <td>8737</td>\n",
       "      <td>620.65</td>\n",
       "    </tr>\n",
       "    <tr>\n",
       "      <th>4</th>\n",
       "      <td>4</td>\n",
       "      <td>2023-01-01 00:10:34</td>\n",
       "      <td>927</td>\n",
       "      <td>9906</td>\n",
       "      <td>490.66</td>\n",
       "    </tr>\n",
       "    <tr>\n",
       "      <th>...</th>\n",
       "      <td>...</td>\n",
       "      <td>...</td>\n",
       "      <td>...</td>\n",
       "      <td>...</td>\n",
       "      <td>...</td>\n",
       "    </tr>\n",
       "    <tr>\n",
       "      <th>1048570</th>\n",
       "      <td>1048570</td>\n",
       "      <td>2023-04-20 10:07:13</td>\n",
       "      <td>2380</td>\n",
       "      <td>3780</td>\n",
       "      <td>325.64</td>\n",
       "    </tr>\n",
       "    <tr>\n",
       "      <th>1048571</th>\n",
       "      <td>1048571</td>\n",
       "      <td>2023-04-20 10:07:28</td>\n",
       "      <td>738</td>\n",
       "      <td>5151</td>\n",
       "      <td>20.38</td>\n",
       "    </tr>\n",
       "    <tr>\n",
       "      <th>1048572</th>\n",
       "      <td>1048572</td>\n",
       "      <td>2023-04-20 10:07:33</td>\n",
       "      <td>1000</td>\n",
       "      <td>5417</td>\n",
       "      <td>182.79</td>\n",
       "    </tr>\n",
       "    <tr>\n",
       "      <th>1048573</th>\n",
       "      <td>1048573</td>\n",
       "      <td>2023-04-20 10:07:39</td>\n",
       "      <td>3028</td>\n",
       "      <td>6439</td>\n",
       "      <td>455.44</td>\n",
       "    </tr>\n",
       "    <tr>\n",
       "      <th>1048574</th>\n",
       "      <td>1048574</td>\n",
       "      <td>2023-04-20 10:07:43</td>\n",
       "      <td>3252</td>\n",
       "      <td>6009</td>\n",
       "      <td>304.55</td>\n",
       "    </tr>\n",
       "  </tbody>\n",
       "</table>\n",
       "<p>1048575 rows × 5 columns</p>\n",
       "</div>"
      ],
      "text/plain": [
       "         transaction_id          tx_datetime  customer_id  terminal_id  \\\n",
       "0                     0  2023-01-01 00:00:31          596         3156   \n",
       "1                     1  2023-01-01 00:02:10         4961         3412   \n",
       "2                     2  2023-01-01 00:07:56            2         1365   \n",
       "3                     3  2023-01-01 00:09:29         4128         8737   \n",
       "4                     4  2023-01-01 00:10:34          927         9906   \n",
       "...                 ...                  ...          ...          ...   \n",
       "1048570         1048570  2023-04-20 10:07:13         2380         3780   \n",
       "1048571         1048571  2023-04-20 10:07:28          738         5151   \n",
       "1048572         1048572  2023-04-20 10:07:33         1000         5417   \n",
       "1048573         1048573  2023-04-20 10:07:39         3028         6439   \n",
       "1048574         1048574  2023-04-20 10:07:43         3252         6009   \n",
       "\n",
       "         tx_amount  \n",
       "0           533.07  \n",
       "1           808.56  \n",
       "2          1442.94  \n",
       "3           620.65  \n",
       "4           490.66  \n",
       "...            ...  \n",
       "1048570     325.64  \n",
       "1048571      20.38  \n",
       "1048572     182.79  \n",
       "1048573     455.44  \n",
       "1048574     304.55  \n",
       "\n",
       "[1048575 rows x 5 columns]"
      ]
     },
     "execution_count": 84,
     "metadata": {},
     "output_type": "execute_result"
    }
   ],
   "source": [
    "pd.read_sql('SELECT * FROM transaction_tbl', connection)"
   ]
  },
  {
   "cell_type": "markdown",
   "id": "9c64bb68",
   "metadata": {},
   "source": [
    "A. Вывести всех клиентов, у которых сумма транзакций больше 700000 за весь период (сортируя клиентов по возрастанию);"
   ]
  },
  {
   "cell_type": "code",
   "execution_count": 108,
   "id": "5da47c77",
   "metadata": {},
   "outputs": [
    {
     "data": {
      "text/html": [
       "<div>\n",
       "<style scoped>\n",
       "    .dataframe tbody tr th:only-of-type {\n",
       "        vertical-align: middle;\n",
       "    }\n",
       "\n",
       "    .dataframe tbody tr th {\n",
       "        vertical-align: top;\n",
       "    }\n",
       "\n",
       "    .dataframe thead th {\n",
       "        text-align: right;\n",
       "    }\n",
       "</style>\n",
       "<table border=\"1\" class=\"dataframe\">\n",
       "  <thead>\n",
       "    <tr style=\"text-align: right;\">\n",
       "      <th></th>\n",
       "      <th>customer_id</th>\n",
       "      <th>tx_sum</th>\n",
       "    </tr>\n",
       "  </thead>\n",
       "  <tbody>\n",
       "    <tr>\n",
       "      <th>0</th>\n",
       "      <td>389</td>\n",
       "      <td>753411.90</td>\n",
       "    </tr>\n",
       "    <tr>\n",
       "      <th>1</th>\n",
       "      <td>2249</td>\n",
       "      <td>707478.64</td>\n",
       "    </tr>\n",
       "    <tr>\n",
       "      <th>2</th>\n",
       "      <td>2891</td>\n",
       "      <td>786115.87</td>\n",
       "    </tr>\n",
       "    <tr>\n",
       "      <th>3</th>\n",
       "      <td>3116</td>\n",
       "      <td>721980.69</td>\n",
       "    </tr>\n",
       "    <tr>\n",
       "      <th>4</th>\n",
       "      <td>4163</td>\n",
       "      <td>765153.63</td>\n",
       "    </tr>\n",
       "  </tbody>\n",
       "</table>\n",
       "</div>"
      ],
      "text/plain": [
       "   customer_id     tx_sum\n",
       "0          389  753411.90\n",
       "1         2249  707478.64\n",
       "2         2891  786115.87\n",
       "3         3116  721980.69\n",
       "4         4163  765153.63"
      ]
     },
     "execution_count": 108,
     "metadata": {},
     "output_type": "execute_result"
    }
   ],
   "source": [
    "pd.read_sql(\"\"\"\n",
    "    SELECT \n",
    "        customer_id,\n",
    "        SUM(tx_amount) as tx_sum\n",
    "    FROM \n",
    "        transaction_tbl\n",
    "    GROUP BY\n",
    "        customer_id\n",
    "    HAVING\n",
    "        SUM(tx_amount) > 700000\n",
    "    ORDER BY\n",
    "        customer_id\n",
    "    \"\"\", connection)"
   ]
  },
  {
   "cell_type": "markdown",
   "id": "edef94fb",
   "metadata": {},
   "source": [
    "B. Вывести всех клиентов, у которых сумма транзакций больше 200000 за период 01.01.2023 - 13.01.2023 (сортируя клиентов по возрастанию);"
   ]
  },
  {
   "cell_type": "code",
   "execution_count": 107,
   "id": "8f5607ba",
   "metadata": {},
   "outputs": [
    {
     "data": {
      "text/html": [
       "<div>\n",
       "<style scoped>\n",
       "    .dataframe tbody tr th:only-of-type {\n",
       "        vertical-align: middle;\n",
       "    }\n",
       "\n",
       "    .dataframe tbody tr th {\n",
       "        vertical-align: top;\n",
       "    }\n",
       "\n",
       "    .dataframe thead th {\n",
       "        text-align: right;\n",
       "    }\n",
       "</style>\n",
       "<table border=\"1\" class=\"dataframe\">\n",
       "  <thead>\n",
       "    <tr style=\"text-align: right;\">\n",
       "      <th></th>\n",
       "      <th>customer_id</th>\n",
       "      <th>tx_sum</th>\n",
       "    </tr>\n",
       "  </thead>\n",
       "  <tbody>\n",
       "    <tr>\n",
       "      <th>0</th>\n",
       "      <td>1918</td>\n",
       "      <td>241299.96</td>\n",
       "    </tr>\n",
       "    <tr>\n",
       "      <th>1</th>\n",
       "      <td>3406</td>\n",
       "      <td>207733.48</td>\n",
       "    </tr>\n",
       "    <tr>\n",
       "      <th>2</th>\n",
       "      <td>3833</td>\n",
       "      <td>269107.40</td>\n",
       "    </tr>\n",
       "    <tr>\n",
       "      <th>3</th>\n",
       "      <td>4252</td>\n",
       "      <td>220650.36</td>\n",
       "    </tr>\n",
       "  </tbody>\n",
       "</table>\n",
       "</div>"
      ],
      "text/plain": [
       "   customer_id     tx_sum\n",
       "0         1918  241299.96\n",
       "1         3406  207733.48\n",
       "2         3833  269107.40\n",
       "3         4252  220650.36"
      ]
     },
     "execution_count": 107,
     "metadata": {},
     "output_type": "execute_result"
    }
   ],
   "source": [
    "pd.read_sql(\"\"\"\n",
    "    SELECT \n",
    "        customer_id,\n",
    "        SUM(tx_amount) as tx_sum\n",
    "    FROM \n",
    "        transaction_tbl\n",
    "    WHERE\n",
    "        date(tx_datetime) BETWEEN '2023-01-01' AND '2023-01-13'\n",
    "    GROUP BY\n",
    "        customer_id\n",
    "    HAVING\n",
    "        SUM(tx_amount) > 200000\n",
    "    ORDER BY\n",
    "        customer_id\n",
    "    \"\"\", connection)"
   ]
  },
  {
   "cell_type": "markdown",
   "id": "d6c55091",
   "metadata": {},
   "source": [
    "C. Вывести тех клиентов, у которых id начинается с 4 и количество транзакций за весь период более 444;"
   ]
  },
  {
   "cell_type": "code",
   "execution_count": 109,
   "id": "03a17ca7",
   "metadata": {},
   "outputs": [
    {
     "data": {
      "text/html": [
       "<div>\n",
       "<style scoped>\n",
       "    .dataframe tbody tr th:only-of-type {\n",
       "        vertical-align: middle;\n",
       "    }\n",
       "\n",
       "    .dataframe tbody tr th {\n",
       "        vertical-align: top;\n",
       "    }\n",
       "\n",
       "    .dataframe thead th {\n",
       "        text-align: right;\n",
       "    }\n",
       "</style>\n",
       "<table border=\"1\" class=\"dataframe\">\n",
       "  <thead>\n",
       "    <tr style=\"text-align: right;\">\n",
       "      <th></th>\n",
       "      <th>customer_id</th>\n",
       "      <th>tx_cnt</th>\n",
       "    </tr>\n",
       "  </thead>\n",
       "  <tbody>\n",
       "    <tr>\n",
       "      <th>0</th>\n",
       "      <td>4231</td>\n",
       "      <td>451</td>\n",
       "    </tr>\n",
       "    <tr>\n",
       "      <th>1</th>\n",
       "      <td>4539</td>\n",
       "      <td>445</td>\n",
       "    </tr>\n",
       "    <tr>\n",
       "      <th>2</th>\n",
       "      <td>4661</td>\n",
       "      <td>449</td>\n",
       "    </tr>\n",
       "  </tbody>\n",
       "</table>\n",
       "</div>"
      ],
      "text/plain": [
       "   customer_id  tx_cnt\n",
       "0         4231     451\n",
       "1         4539     445\n",
       "2         4661     449"
      ]
     },
     "execution_count": 109,
     "metadata": {},
     "output_type": "execute_result"
    }
   ],
   "source": [
    "pd.read_sql(\"\"\"\n",
    "    SELECT \n",
    "        customer_id,\n",
    "        COUNT(transaction_id) as tx_cnt\n",
    "    FROM \n",
    "        transaction_tbl\n",
    "    WHERE\n",
    "        customer_id LIKE '4%'\n",
    "    GROUP BY\n",
    "        customer_id\n",
    "    HAVING\n",
    "        COUNT(transaction_id) > 444\n",
    "    ORDER BY\n",
    "        customer_id\n",
    "    \"\"\", connection)"
   ]
  },
  {
   "cell_type": "markdown",
   "id": "b5b39d1b",
   "metadata": {},
   "source": [
    "D. Создать флаг доходности клиентов по логике:\n",
    "1. Если сумма транзакций не более 50000, тогда вывести 'низкая доходность';\n",
    "2. Если сумма транзакций больше 50000 и не более 10000 тогда вывести 'средняя доходность';\n",
    "3. Если сумма транзакций больше 100000 тогда вывести 'высокая доходность'."
   ]
  },
  {
   "cell_type": "code",
   "execution_count": 112,
   "id": "83c03242",
   "metadata": {},
   "outputs": [
    {
     "data": {
      "text/html": [
       "<div>\n",
       "<style scoped>\n",
       "    .dataframe tbody tr th:only-of-type {\n",
       "        vertical-align: middle;\n",
       "    }\n",
       "\n",
       "    .dataframe tbody tr th {\n",
       "        vertical-align: top;\n",
       "    }\n",
       "\n",
       "    .dataframe thead th {\n",
       "        text-align: right;\n",
       "    }\n",
       "</style>\n",
       "<table border=\"1\" class=\"dataframe\">\n",
       "  <thead>\n",
       "    <tr style=\"text-align: right;\">\n",
       "      <th></th>\n",
       "      <th>customer_id</th>\n",
       "      <th>tx_sum</th>\n",
       "      <th>income_lvl</th>\n",
       "    </tr>\n",
       "  </thead>\n",
       "  <tbody>\n",
       "    <tr>\n",
       "      <th>0</th>\n",
       "      <td>0</td>\n",
       "      <td>119568.47</td>\n",
       "      <td>high</td>\n",
       "    </tr>\n",
       "    <tr>\n",
       "      <th>1</th>\n",
       "      <td>1</td>\n",
       "      <td>323510.82</td>\n",
       "      <td>high</td>\n",
       "    </tr>\n",
       "    <tr>\n",
       "      <th>2</th>\n",
       "      <td>2</td>\n",
       "      <td>162541.90</td>\n",
       "      <td>high</td>\n",
       "    </tr>\n",
       "    <tr>\n",
       "      <th>3</th>\n",
       "      <td>3</td>\n",
       "      <td>2406.56</td>\n",
       "      <td>low</td>\n",
       "    </tr>\n",
       "    <tr>\n",
       "      <th>4</th>\n",
       "      <td>4</td>\n",
       "      <td>300589.33</td>\n",
       "      <td>high</td>\n",
       "    </tr>\n",
       "    <tr>\n",
       "      <th>...</th>\n",
       "      <td>...</td>\n",
       "      <td>...</td>\n",
       "      <td>...</td>\n",
       "    </tr>\n",
       "    <tr>\n",
       "      <th>4981</th>\n",
       "      <td>4995</td>\n",
       "      <td>149962.31</td>\n",
       "      <td>high</td>\n",
       "    </tr>\n",
       "    <tr>\n",
       "      <th>4982</th>\n",
       "      <td>4996</td>\n",
       "      <td>27135.67</td>\n",
       "      <td>low</td>\n",
       "    </tr>\n",
       "    <tr>\n",
       "      <th>4983</th>\n",
       "      <td>4997</td>\n",
       "      <td>131288.62</td>\n",
       "      <td>high</td>\n",
       "    </tr>\n",
       "    <tr>\n",
       "      <th>4984</th>\n",
       "      <td>4998</td>\n",
       "      <td>337988.39</td>\n",
       "      <td>high</td>\n",
       "    </tr>\n",
       "    <tr>\n",
       "      <th>4985</th>\n",
       "      <td>4999</td>\n",
       "      <td>101289.30</td>\n",
       "      <td>high</td>\n",
       "    </tr>\n",
       "  </tbody>\n",
       "</table>\n",
       "<p>4986 rows × 3 columns</p>\n",
       "</div>"
      ],
      "text/plain": [
       "      customer_id     tx_sum income_lvl\n",
       "0               0  119568.47       high\n",
       "1               1  323510.82       high\n",
       "2               2  162541.90       high\n",
       "3               3    2406.56        low\n",
       "4               4  300589.33       high\n",
       "...           ...        ...        ...\n",
       "4981         4995  149962.31       high\n",
       "4982         4996   27135.67        low\n",
       "4983         4997  131288.62       high\n",
       "4984         4998  337988.39       high\n",
       "4985         4999  101289.30       high\n",
       "\n",
       "[4986 rows x 3 columns]"
      ]
     },
     "execution_count": 112,
     "metadata": {},
     "output_type": "execute_result"
    }
   ],
   "source": [
    "pd.read_sql(\"\"\"\n",
    "    SELECT \n",
    "        customer_id,\n",
    "        SUM(tx_amount) AS tx_sum,\n",
    "        CASE\n",
    "            WHEN SUM(tx_amount) <= 50000 \n",
    "                THEN 'low'\n",
    "            WHEN SUM(tx_amount) > 100000 \n",
    "                THEN 'high'\n",
    "            ELSE 'middle'\n",
    "        END AS income_lvl\n",
    "    FROM \n",
    "        transaction_tbl\n",
    "    GROUP BY\n",
    "        customer_id\n",
    "    ORDER BY\n",
    "        customer_id\n",
    "    \"\"\", connection)"
   ]
  },
  {
   "cell_type": "markdown",
   "id": "abe2c1da",
   "metadata": {},
   "source": [
    "E. Посмотреть количество клиентов с каждым видом доходности (из пункта 2.d);"
   ]
  },
  {
   "cell_type": "code",
   "execution_count": 114,
   "id": "a785a91d",
   "metadata": {},
   "outputs": [
    {
     "data": {
      "text/html": [
       "<div>\n",
       "<style scoped>\n",
       "    .dataframe tbody tr th:only-of-type {\n",
       "        vertical-align: middle;\n",
       "    }\n",
       "\n",
       "    .dataframe tbody tr th {\n",
       "        vertical-align: top;\n",
       "    }\n",
       "\n",
       "    .dataframe thead th {\n",
       "        text-align: right;\n",
       "    }\n",
       "</style>\n",
       "<table border=\"1\" class=\"dataframe\">\n",
       "  <thead>\n",
       "    <tr style=\"text-align: right;\">\n",
       "      <th></th>\n",
       "      <th>income_lvl</th>\n",
       "      <th>cust_cnt</th>\n",
       "    </tr>\n",
       "  </thead>\n",
       "  <tbody>\n",
       "    <tr>\n",
       "      <th>0</th>\n",
       "      <td>high</td>\n",
       "      <td>2167</td>\n",
       "    </tr>\n",
       "    <tr>\n",
       "      <th>1</th>\n",
       "      <td>low</td>\n",
       "      <td>1812</td>\n",
       "    </tr>\n",
       "    <tr>\n",
       "      <th>2</th>\n",
       "      <td>middle</td>\n",
       "      <td>1007</td>\n",
       "    </tr>\n",
       "  </tbody>\n",
       "</table>\n",
       "</div>"
      ],
      "text/plain": [
       "  income_lvl  cust_cnt\n",
       "0       high      2167\n",
       "1        low      1812\n",
       "2     middle      1007"
      ]
     },
     "execution_count": 114,
     "metadata": {},
     "output_type": "execute_result"
    }
   ],
   "source": [
    "pd.read_sql(\"\"\"\n",
    "    SELECT\n",
    "        income_lvl, \n",
    "        COUNT(customer_id) AS cust_cnt\n",
    "    FROM (\n",
    "        SELECT \n",
    "            customer_id,\n",
    "            SUM(tx_amount) AS sum_amnt,\n",
    "            CASE\n",
    "                WHEN SUM(tx_amount) <= 50000 \n",
    "                    THEN 'low'\n",
    "                WHEN SUM(tx_amount) > 100000 \n",
    "                    THEN 'high'\n",
    "                ELSE 'middle'\n",
    "            END AS income_lvl\n",
    "        FROM \n",
    "            transaction_tbl\n",
    "        GROUP BY\n",
    "            customer_id\n",
    "        ORDER BY\n",
    "            customer_id\n",
    "    )\n",
    "    GROUP BY\n",
    "        income_lvl\n",
    "    \"\"\", connection)"
   ]
  },
  {
   "cell_type": "markdown",
   "id": "41e2b9aa",
   "metadata": {},
   "source": [
    "F. Вывести сумму транзакций за каждый день (сортируя дни по возрастанию)."
   ]
  },
  {
   "cell_type": "code",
   "execution_count": 8,
   "id": "a9196ef3",
   "metadata": {},
   "outputs": [
    {
     "ename": "DatabaseError",
     "evalue": "Execution failed on sql '\n    SELECT \n        date(tx_datetime) AS tx_date,\n        SUM(tx_amount) AS tx_sum\n    FROM \n        transaction_tbl\n    GROUP BY\n        date(tx_datetime)\n    ORDER BY\n        date(tx_datetime)\n    ': no such table: transaction_tbl",
     "output_type": "error",
     "traceback": [
      "\u001b[1;31m---------------------------------------------------------------------------\u001b[0m",
      "\u001b[1;31mOperationalError\u001b[0m                          Traceback (most recent call last)",
      "File \u001b[1;32m~\\anaconda3\\lib\\site-packages\\pandas\\io\\sql.py:2020\u001b[0m, in \u001b[0;36mSQLiteDatabase.execute\u001b[1;34m(self, *args, **kwargs)\u001b[0m\n\u001b[0;32m   2019\u001b[0m \u001b[38;5;28;01mtry\u001b[39;00m:\n\u001b[1;32m-> 2020\u001b[0m     cur\u001b[38;5;241m.\u001b[39mexecute(\u001b[38;5;241m*\u001b[39margs, \u001b[38;5;241m*\u001b[39m\u001b[38;5;241m*\u001b[39mkwargs)\n\u001b[0;32m   2021\u001b[0m     \u001b[38;5;28;01mreturn\u001b[39;00m cur\n",
      "\u001b[1;31mOperationalError\u001b[0m: no such table: transaction_tbl",
      "\nThe above exception was the direct cause of the following exception:\n",
      "\u001b[1;31mDatabaseError\u001b[0m                             Traceback (most recent call last)",
      "Input \u001b[1;32mIn [8]\u001b[0m, in \u001b[0;36m<cell line: 1>\u001b[1;34m()\u001b[0m\n\u001b[1;32m----> 1\u001b[0m data_ \u001b[38;5;241m=\u001b[39m \u001b[43mpd\u001b[49m\u001b[38;5;241;43m.\u001b[39;49m\u001b[43mread_sql\u001b[49m\u001b[43m(\u001b[49m\u001b[38;5;124;43m\"\"\"\u001b[39;49m\n\u001b[0;32m      2\u001b[0m \u001b[38;5;124;43m    SELECT \u001b[39;49m\n\u001b[0;32m      3\u001b[0m \u001b[38;5;124;43m        date(tx_datetime) AS tx_date,\u001b[39;49m\n\u001b[0;32m      4\u001b[0m \u001b[38;5;124;43m        SUM(tx_amount) AS tx_sum\u001b[39;49m\n\u001b[0;32m      5\u001b[0m \u001b[38;5;124;43m    FROM \u001b[39;49m\n\u001b[0;32m      6\u001b[0m \u001b[38;5;124;43m        transaction_tbl\u001b[39;49m\n\u001b[0;32m      7\u001b[0m \u001b[38;5;124;43m    GROUP BY\u001b[39;49m\n\u001b[0;32m      8\u001b[0m \u001b[38;5;124;43m        date(tx_datetime)\u001b[39;49m\n\u001b[0;32m      9\u001b[0m \u001b[38;5;124;43m    ORDER BY\u001b[39;49m\n\u001b[0;32m     10\u001b[0m \u001b[38;5;124;43m        date(tx_datetime)\u001b[39;49m\n\u001b[0;32m     11\u001b[0m \u001b[38;5;124;43m    \u001b[39;49m\u001b[38;5;124;43m\"\"\"\u001b[39;49m\u001b[43m,\u001b[49m\u001b[43m \u001b[49m\u001b[43mconnection\u001b[49m\u001b[43m)\u001b[49m\n\u001b[0;32m     13\u001b[0m display(data_)\n",
      "File \u001b[1;32m~\\anaconda3\\lib\\site-packages\\pandas\\io\\sql.py:566\u001b[0m, in \u001b[0;36mread_sql\u001b[1;34m(sql, con, index_col, coerce_float, params, parse_dates, columns, chunksize)\u001b[0m\n\u001b[0;32m    563\u001b[0m pandas_sql \u001b[38;5;241m=\u001b[39m pandasSQL_builder(con)\n\u001b[0;32m    565\u001b[0m \u001b[38;5;28;01mif\u001b[39;00m \u001b[38;5;28misinstance\u001b[39m(pandas_sql, SQLiteDatabase):\n\u001b[1;32m--> 566\u001b[0m     \u001b[38;5;28;01mreturn\u001b[39;00m \u001b[43mpandas_sql\u001b[49m\u001b[38;5;241;43m.\u001b[39;49m\u001b[43mread_query\u001b[49m\u001b[43m(\u001b[49m\n\u001b[0;32m    567\u001b[0m \u001b[43m        \u001b[49m\u001b[43msql\u001b[49m\u001b[43m,\u001b[49m\n\u001b[0;32m    568\u001b[0m \u001b[43m        \u001b[49m\u001b[43mindex_col\u001b[49m\u001b[38;5;241;43m=\u001b[39;49m\u001b[43mindex_col\u001b[49m\u001b[43m,\u001b[49m\n\u001b[0;32m    569\u001b[0m \u001b[43m        \u001b[49m\u001b[43mparams\u001b[49m\u001b[38;5;241;43m=\u001b[39;49m\u001b[43mparams\u001b[49m\u001b[43m,\u001b[49m\n\u001b[0;32m    570\u001b[0m \u001b[43m        \u001b[49m\u001b[43mcoerce_float\u001b[49m\u001b[38;5;241;43m=\u001b[39;49m\u001b[43mcoerce_float\u001b[49m\u001b[43m,\u001b[49m\n\u001b[0;32m    571\u001b[0m \u001b[43m        \u001b[49m\u001b[43mparse_dates\u001b[49m\u001b[38;5;241;43m=\u001b[39;49m\u001b[43mparse_dates\u001b[49m\u001b[43m,\u001b[49m\n\u001b[0;32m    572\u001b[0m \u001b[43m        \u001b[49m\u001b[43mchunksize\u001b[49m\u001b[38;5;241;43m=\u001b[39;49m\u001b[43mchunksize\u001b[49m\u001b[43m,\u001b[49m\n\u001b[0;32m    573\u001b[0m \u001b[43m    \u001b[49m\u001b[43m)\u001b[49m\n\u001b[0;32m    575\u001b[0m \u001b[38;5;28;01mtry\u001b[39;00m:\n\u001b[0;32m    576\u001b[0m     _is_table_name \u001b[38;5;241m=\u001b[39m pandas_sql\u001b[38;5;241m.\u001b[39mhas_table(sql)\n",
      "File \u001b[1;32m~\\anaconda3\\lib\\site-packages\\pandas\\io\\sql.py:2080\u001b[0m, in \u001b[0;36mSQLiteDatabase.read_query\u001b[1;34m(self, sql, index_col, coerce_float, params, parse_dates, chunksize, dtype)\u001b[0m\n\u001b[0;32m   2068\u001b[0m \u001b[38;5;28;01mdef\u001b[39;00m \u001b[38;5;21mread_query\u001b[39m(\n\u001b[0;32m   2069\u001b[0m     \u001b[38;5;28mself\u001b[39m,\n\u001b[0;32m   2070\u001b[0m     sql,\n\u001b[1;32m   (...)\u001b[0m\n\u001b[0;32m   2076\u001b[0m     dtype: DtypeArg \u001b[38;5;241m|\u001b[39m \u001b[38;5;28;01mNone\u001b[39;00m \u001b[38;5;241m=\u001b[39m \u001b[38;5;28;01mNone\u001b[39;00m,\n\u001b[0;32m   2077\u001b[0m ):\n\u001b[0;32m   2079\u001b[0m     args \u001b[38;5;241m=\u001b[39m _convert_params(sql, params)\n\u001b[1;32m-> 2080\u001b[0m     cursor \u001b[38;5;241m=\u001b[39m \u001b[38;5;28;43mself\u001b[39;49m\u001b[38;5;241;43m.\u001b[39;49m\u001b[43mexecute\u001b[49m\u001b[43m(\u001b[49m\u001b[38;5;241;43m*\u001b[39;49m\u001b[43margs\u001b[49m\u001b[43m)\u001b[49m\n\u001b[0;32m   2081\u001b[0m     columns \u001b[38;5;241m=\u001b[39m [col_desc[\u001b[38;5;241m0\u001b[39m] \u001b[38;5;28;01mfor\u001b[39;00m col_desc \u001b[38;5;129;01min\u001b[39;00m cursor\u001b[38;5;241m.\u001b[39mdescription]\n\u001b[0;32m   2083\u001b[0m     \u001b[38;5;28;01mif\u001b[39;00m chunksize \u001b[38;5;129;01mis\u001b[39;00m \u001b[38;5;129;01mnot\u001b[39;00m \u001b[38;5;28;01mNone\u001b[39;00m:\n",
      "File \u001b[1;32m~\\anaconda3\\lib\\site-packages\\pandas\\io\\sql.py:2032\u001b[0m, in \u001b[0;36mSQLiteDatabase.execute\u001b[1;34m(self, *args, **kwargs)\u001b[0m\n\u001b[0;32m   2029\u001b[0m     \u001b[38;5;28;01mraise\u001b[39;00m ex \u001b[38;5;28;01mfrom\u001b[39;00m \u001b[38;5;21;01minner_exc\u001b[39;00m\n\u001b[0;32m   2031\u001b[0m ex \u001b[38;5;241m=\u001b[39m DatabaseError(\u001b[38;5;124mf\u001b[39m\u001b[38;5;124m\"\u001b[39m\u001b[38;5;124mExecution failed on sql \u001b[39m\u001b[38;5;124m'\u001b[39m\u001b[38;5;132;01m{\u001b[39;00margs[\u001b[38;5;241m0\u001b[39m]\u001b[38;5;132;01m}\u001b[39;00m\u001b[38;5;124m'\u001b[39m\u001b[38;5;124m: \u001b[39m\u001b[38;5;132;01m{\u001b[39;00mexc\u001b[38;5;132;01m}\u001b[39;00m\u001b[38;5;124m\"\u001b[39m)\n\u001b[1;32m-> 2032\u001b[0m \u001b[38;5;28;01mraise\u001b[39;00m ex \u001b[38;5;28;01mfrom\u001b[39;00m \u001b[38;5;21;01mexc\u001b[39;00m\n",
      "\u001b[1;31mDatabaseError\u001b[0m: Execution failed on sql '\n    SELECT \n        date(tx_datetime) AS tx_date,\n        SUM(tx_amount) AS tx_sum\n    FROM \n        transaction_tbl\n    GROUP BY\n        date(tx_datetime)\n    ORDER BY\n        date(tx_datetime)\n    ': no such table: transaction_tbl"
     ]
    }
   ],
   "source": [
    "data_ = pd.read_sql(\"\"\"\n",
    "    SELECT \n",
    "        date(tx_datetime) AS tx_date,\n",
    "        SUM(tx_amount) AS tx_sum\n",
    "    FROM \n",
    "        transaction_tbl\n",
    "    GROUP BY\n",
    "        date(tx_datetime)\n",
    "    ORDER BY\n",
    "        date(tx_datetime)\n",
    "    \"\"\", connection)\n",
    "\n",
    "display(data_)"
   ]
  },
  {
   "cell_type": "markdown",
   "id": "b9da594b",
   "metadata": {},
   "source": [
    "Подготовить дашборд с помощью Dash по пункту 2.f, включив туда графики bar и histogram; вставить в конце ноутбука скрин графиков из дашборда."
   ]
  },
  {
   "cell_type": "code",
   "execution_count": 125,
   "id": "84a5180f",
   "metadata": {},
   "outputs": [
    {
     "name": "stdout",
     "output_type": "stream",
     "text": [
      "Dash is running on http://127.0.0.1:8050/\n",
      "\n",
      " * Serving Flask app \"__main__\" (lazy loading)\n",
      " * Environment: production\n",
      "\u001b[31m   WARNING: This is a development server. Do not use it in a production deployment.\u001b[0m\n",
      "\u001b[2m   Use a production WSGI server instead.\u001b[0m\n",
      " * Debug mode: off\n"
     ]
    },
    {
     "name": "stderr",
     "output_type": "stream",
     "text": [
      " * Running on http://127.0.0.1:8050/ (Press CTRL+C to quit)\n",
      "127.0.0.1 - - [28/Mar/2023 22:58:01] \"GET / HTTP/1.1\" 200 -\n",
      "127.0.0.1 - - [28/Mar/2023 22:58:01] \"GET /_dash-layout HTTP/1.1\" 200 -\n",
      "127.0.0.1 - - [28/Mar/2023 22:58:01] \"GET /_dash-dependencies HTTP/1.1\" 200 -\n",
      "127.0.0.1 - - [28/Mar/2023 22:58:01] \"GET /_favicon.ico?v=2.9.1 HTTP/1.1\" 200 -\n",
      "127.0.0.1 - - [28/Mar/2023 22:58:01] \"GET /_dash-component-suites/dash/dcc/async-graph.js HTTP/1.1\" 200 -\n",
      "127.0.0.1 - - [28/Mar/2023 22:58:01] \"GET /_dash-component-suites/dash/dcc/async-plotlyjs.js HTTP/1.1\" 200 -\n"
     ]
    }
   ],
   "source": [
    "from dash import Dash, html, dcc\n",
    "import plotly.express as px\n",
    "import pandas as pd\n",
    "\n",
    "app = Dash()\n",
    "\n",
    "fig1 = px.bar(data_, x=\"tx_date\", y=\"tx_sum\")\n",
    "\n",
    "fig2 = px.histogram(data_, x=\"tx_sum\", nbins=45, color_discrete_sequence=['indianred'])\n",
    "\n",
    "app.layout = html.Div(children=[\n",
    "    html.H1(children='Данные по транзакциям', style={'text-align': 'center'}),\n",
    "    html.Div(children='Сумма транзакций за каждый день'),\n",
    "\n",
    "    dcc.Graph(\n",
    "        id='example-graph',\n",
    "        figure=fig1\n",
    "    ),\n",
    "    \n",
    "    html.Div(children='Количество дней с диапазоннами сумм по транзакциям'),\n",
    "    dcc.Graph(\n",
    "        id='example-graph1',\n",
    "        figure=fig2\n",
    "    )\n",
    "])\n",
    "\n",
    "app.run_server()"
   ]
  },
  {
   "cell_type": "code",
   "execution_count": 126,
   "id": "f53c453a",
   "metadata": {},
   "outputs": [],
   "source": [
    "connection.close()"
   ]
  },
  {
   "attachments": {
    "picture.png": {
     "image/png": "[encoded data removed]"
    }
   },
   "cell_type": "markdown",
   "id": "dfab7117",
   "metadata": {},
   "source": [
    "![picture.png](attachment:picture.png)"
   ]
  },
  {
   "cell_type": "code",
   "execution_count": null,
   "id": "bd431954",
   "metadata": {},
   "outputs": [],
   "source": []
  }
 ],
 "metadata": {
  "kernelspec": {
   "display_name": "Python 3 (ipykernel)",
   "language": "python",
   "name": "python3"
  },
  "language_info": {
   "codemirror_mode": {
    "name": "ipython",
    "version": 3
   },
   "file_extension": ".py",
   "mimetype": "text/x-python",
   "name": "python",
   "nbconvert_exporter": "python",
   "pygments_lexer": "ipython3",
   "version": "3.9.12"
  }
 },
 "nbformat": 4,
 "nbformat_minor": 5
}
