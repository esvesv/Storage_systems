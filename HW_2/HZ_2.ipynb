{
  "cells": [
    {
      "cell_type": "code",
      "execution_count": null,
      "metadata": {
        "id": "4t9DqJnKsL6x"
      },
      "outputs": [],
      "source": [
        "import pandas as pd\n",
        "import sqlite3"
      ]
    },
    {
      "cell_type": "markdown",
      "metadata": {
        "id": "AtN9ur6RxyKT"
      },
      "source": [
        "# Шаг 1 - Чтение публичного CSV файла в pandas"
      ]
    },
    {
      "cell_type": "markdown",
      "metadata": {
        "id": "2HOibY5W0ocz"
      },
      "source": [
        "Шаг 1\n",
        "(Балл - 0.2) Необходимо:\n",
        "- скачать CSV-файл — «final_transactions.csv»,\n",
        "- создать таблицу transaction_bd со всеми полями,\n",
        "- загрузить данные из файла в таблицу и оставить таблицу со структурой:\n",
        "\n",
        "      (0, 'TX_DATETIME', 'NUMERIC', 0, None, 0) - время транзакций\n",
        "      (1, 'CUSTOMER_ID', 'INTEGER', 0, None, 0) - клиент\n",
        "      (2, 'TX_AMOUNT', 'REAL', 0, None, 0) - сумма транзакций\n",
        "\n",
        "Комментарий: Можно оставить все 5 полей, но запросы будут выполняться чуть дольше."
      ]
    },
    {
      "cell_type": "code",
      "execution_count": null,
      "metadata": {
        "id": "zc4xE77UvRYu"
      },
      "outputs": [],
      "source": [
        "# публичная ссылка на файл 'final_transactions.csv'\n",
        "url_file = 'https://drive.google.com/file/d/1_YrZPaD1zNCcXUkUfeWM0ZOdg_was_iA/view'\n",
        "\n",
        "# замена левой части адреса\n",
        "main = 'https://drive.google.com/uc?id='\n",
        "\n",
        "# Берем id файла \n",
        "id_url = url_file.split('/')[-2]\n",
        "\n",
        "# url пригодный для чтения\n",
        "direct_url = main + id_url\n",
        "\n",
        "# cкачиваем и читаем файл\n",
        "df = pd.read_csv(direct_url)\n",
        "df.head()\n"
      ]
    },
    {
      "cell_type": "markdown",
      "metadata": {
        "id": "GFUN7cxWp9iS"
      },
      "source": [
        "## Создание пустой базы"
      ]
    },
    {
      "cell_type": "code",
      "execution_count": null,
      "metadata": {
        "id": "1Hc0YosTs_r-"
      },
      "outputs": [],
      "source": [
        "from sqlite3 import Error \n",
        "def create_connection(path):\n",
        "    '''\n",
        "    Подключаемся к имеющейся или создаем новую\n",
        "    есл не найдена\n",
        "    '''\n",
        "    connection = None\n",
        "    try:\n",
        "        connection = sqlite3.connect(path)\n",
        "        print(\"Connection to SQLite DB successful\")\n",
        "    except Error as e:\n",
        "        print(f\"The error '{e}' occurred\")\n",
        "\n",
        "    return connection\n",
        "\n",
        "\n",
        "def execute_query(connection, query):\n",
        "    \"\"\"\n",
        "    Передаем запрос в бакзу с созданным \n",
        "    ранее connection\n",
        "    \"\"\"\n",
        "    cursor = connection.cursor()\n",
        "    try:\n",
        "        cursor.execute(query)\n",
        "        connection.commit()\n",
        "        print(\"Query executed successfully\")\n",
        "    except Error as e:\n",
        "        print(f\"The error '{e}' occurred\")"
      ]
    },
    {
      "cell_type": "code",
      "execution_count": null,
      "metadata": {
        "id": "ujp747EVp9iT"
      },
      "outputs": [],
      "source": [
        "# создаем базу transaction_bd\n",
        "data_base = 'Transaction_bd.db'\n",
        "connection = create_connection(data_base)"
      ]
    },
    {
      "cell_type": "markdown",
      "metadata": {
        "id": "10SwtjJhp9iT"
      },
      "source": [
        "## Создание таблицы в базе"
      ]
    },
    {
      "cell_type": "code",
      "execution_count": null,
      "metadata": {
        "id": "R3mxx_Jsp9iT"
      },
      "outputs": [],
      "source": [
        "df.columns"
      ]
    },
    {
      "cell_type": "code",
      "execution_count": null,
      "metadata": {
        "id": "NJnx0qi3p9iT"
      },
      "outputs": [],
      "source": [
        "# создаем запрос на таблицу пустую\n",
        "table = 'Transactions'\n",
        "create_table = f\"\"\"\n",
        "CREATE TABLE IF NOT EXISTS {table} (\n",
        "  TRANSACTION_ID INTEGER PRIMARY KEY AUTOINCREMENT,\n",
        "  TX_DATETIME NUMERIC NOT NULL,\n",
        "  CUSTOMER_ID INTEGER,\n",
        "  TERMINAL_I INTEGER,\n",
        "  TX_AMOUNT REAL\n",
        ");\n",
        "\"\"\""
      ]
    },
    {
      "cell_type": "code",
      "execution_count": null,
      "metadata": {
        "id": "BuV1MsXwp9iU"
      },
      "outputs": [],
      "source": [
        "# создаем в базе таблицу  Transactions\n",
        "execute_query(connection, create_table)"
      ]
    },
    {
      "cell_type": "markdown",
      "metadata": {
        "id": "__OJoGjCp9iU"
      },
      "source": [
        "## Наполнение таблицы  из датафрейма"
      ]
    },
    {
      "cell_type": "code",
      "execution_count": null,
      "metadata": {
        "id": "JIWwVhm4p9iU"
      },
      "outputs": [],
      "source": [
        "# создаем в базе таблицу  Transactions из датафрейма\n",
        "df.to_sql(table, connection, if_exists='replace', index=False)"
      ]
    },
    {
      "cell_type": "code",
      "execution_count": null,
      "metadata": {
        "id": "2XFi64RYp9iU"
      },
      "outputs": [],
      "source": [
        "# смотрим базу\n",
        "sql_string = 'SELECT * FROM Transactions'\n",
        "df_check = pd.read_sql(sql_string, connection,  index_col='TRANSACTION_ID')\n",
        "df_check.tail()"
      ]
    },
    {
      "cell_type": "markdown",
      "metadata": {
        "id": "DYM2KJrBp9iU"
      },
      "source": [
        "## Удаление лишних колонок из таблицы базы SQL"
      ]
    },
    {
      "cell_type": "code",
      "execution_count": null,
      "metadata": {
        "id": "OmXXX49hp9iU"
      },
      "outputs": [],
      "source": [
        "DROP_COLUMNS = ('TERMINAL_ID',) # TRANSACTION_ID\n",
        "# удаляем столбцы лишние по заданию\n",
        "for column in DROP_COLUMNS:  \n",
        "    cursor = connection.cursor()\n",
        "    alter_column = f'ALTER TABLE {table} DROP COLUMN {column}'\n",
        "    cursor.execute(alter_column)\n",
        "    connection.commit()"
      ]
    },
    {
      "cell_type": "code",
      "execution_count": null,
      "metadata": {
        "id": "_snrtwMxp9iU"
      },
      "outputs": [],
      "source": [
        "# смотрим базу\n",
        "sql_string = 'SELECT * FROM Transactions'\n",
        "df_check = pd.read_sql(sql_string, connection, index_col='TRANSACTION_ID')\n",
        "df_check.head()"
      ]
    },
    {
      "cell_type": "markdown",
      "metadata": {
        "id": "lrOXwwMEp9iU"
      },
      "source": [
        "# Шаг 2\n",
        "(Балл - 0.1 за каждый пункт) Написать следующие запросы к таблице transaction_bd:\n",
        "\n",
        "- A. Вывести всех клиентов, у которых сумма транзакций больше 700000 за весь период (сортируя клиентов по возрастанию);\n",
        "- B. Вывести всех клиентов, у которых сумма транзакций больше 200000 за период 01.01.2023 - 13.01.2023 (сортируя клиентов по возрастанию);\n",
        "- C. Вывести тех клиентов, у которых id начинается с 4 и количество транзакций за весь период более 444;\n",
        "- D. Создать флаг доходности клиентов по логике:\n",
        "    1. Если сумма транзакций не более 50000, тогда вывести 'низкая доходность';\n",
        "    2. Если сумма транзакций больше 50000 и не более 10000 тогда вывести 'средняя доходность';\n",
        "    3. Если сумма транзакций больше 100000 тогда вывести 'высокая доходность'.\n",
        "- E. Посмотреть количество клиентов с каждым видом доходности (из пункта 2.d);\n",
        "- F. Вывести сумму транзакций за каждый день (сортируя дни по возрастанию).\n"
      ]
    },
    {
      "cell_type": "markdown",
      "metadata": {
        "id": "CCCHnSHNp9iU"
      },
      "source": [
        "Оконные функции SQL простым языком с примерами - https://habr.com/ru/post/664000/"
      ]
    },
    {
      "cell_type": "markdown",
      "metadata": {
        "id": "SzzmZ6qrp9iV"
      },
      "source": [
        "### A. Вывести всех клиентов, у которых сумма транзакций больше 700000 за весь период (сортируя клиентов по возрастанию);"
      ]
    },
    {
      "cell_type": "code",
      "execution_count": null,
      "metadata": {
        "id": "muNRe3_yp9iV"
      },
      "outputs": [],
      "source": [
        "limit = 700000\n",
        "query_a = f'''\n",
        "SELECT CUSTOMER_ID\n",
        "FROM {table}\n",
        "GROUP BY CUSTOMER_ID\n",
        "HAVING sum(TX_AMOUNT) > {limit}\n",
        "ORDER BY CUSTOMER_ID ASC\n",
        "'''\n",
        "# получаем датафрейм по запросу\n",
        "data = pd.read_sql(query_a, connection)\n",
        "data"
      ]
    },
    {
      "cell_type": "markdown",
      "metadata": {
        "id": "VhaohFTzp9iV"
      },
      "source": [
        "### B. Вывести всех клиентов, у которых сумма транзакций больше 200000 за период 01.01.2023 - 13.01.2023 (сортируя клиентов по возрастанию);"
      ]
    },
    {
      "cell_type": "code",
      "execution_count": null,
      "metadata": {
        "id": "bHic27nFp9iV"
      },
      "outputs": [],
      "source": [
        "limit = 200000\n",
        "query_b = f'''\n",
        "SELECT CUSTOMER_ID\n",
        "FROM {table}\n",
        "GROUP BY CUSTOMER_ID\n",
        "HAVING sum(TX_AMOUNT) > {limit} AND\n",
        "TX_DATETIME BETWEEN '2023-01-01' AND '2023-01-13'\n",
        "ORDER BY CUSTOMER_ID ASC \n",
        "'''\n",
        "# получаем датафрейм по запросу\n",
        "data = pd.read_sql(query_b, connection)\n",
        "data"
      ]
    },
    {
      "cell_type": "markdown",
      "metadata": {
        "id": "hTiSTsekp9iV"
      },
      "source": [
        "### C. Вывести тех клиентов, у которых id начинается с 4 и количество транзакций за весь период более 444;"
      ]
    },
    {
      "cell_type": "code",
      "execution_count": null,
      "metadata": {
        "id": "iA9u-GVVp9iV"
      },
      "outputs": [],
      "source": [
        "limit = 444\n",
        "query_c = f'''\n",
        "SELECT CUSTOMER_ID\n",
        "FROM {table}\n",
        "where SUBSTRING(CUSTOMER_ID, 1, 1) = '4'\n",
        "GROUP BY CUSTOMER_ID\n",
        "HAVING sum(TX_AMOUNT) > {limit}\n",
        "ORDER BY CUSTOMER_ID ASC \n",
        "'''\n",
        "# получаем датафрейм по запросу\n",
        "data = pd.read_sql(query_c, connection)\n",
        "data"
      ]
    },
    {
      "cell_type": "markdown",
      "metadata": {
        "id": "j5AVJyT2p9iV"
      },
      "source": [
        "### D. Создать флаг доходности клиентов по логике:\n",
        "    1. Если сумма транзакций не более 50000, тогда вывести 'низкая доходность';\n",
        "    2. Если сумма транзакций больше 50000 и не более 100000 тогда вывести 'средняя доходность';\n",
        "    3. Если сумма транзакций больше 100000 тогда вывести 'высокая доходность'."
      ]
    },
    {
      "cell_type": "code",
      "execution_count": null,
      "metadata": {
        "id": "rrLfP6Lup9iV"
      },
      "outputs": [],
      "source": [
        "level_1 = 50000\n",
        "level_2 = 100000\n",
        "query_d = f'''\n",
        "SELECT CUSTOMER_ID,\n",
        "CASE WHEN sum(TX_AMOUNT) <= {level_1} THEN 'низкая доходность'\n",
        "     WHEN sum(TX_AMOUNT) > {level_1} and sum(TX_AMOUNT) <= {level_2} THEN 'средняя доходность'\n",
        "ELSE 'высокая доходность' \n",
        "END  RATE\n",
        "FROM {table}\n",
        "GROUP BY CUSTOMER_ID\n",
        "ORDER BY CUSTOMER_ID ASC \n",
        "\n",
        "'''\n",
        "# получаем датафрейм по запросу\n",
        "data = pd.read_sql(query_d, connection)\n",
        "data"
      ]
    },
    {
      "cell_type": "markdown",
      "metadata": {
        "id": "k5K28Dsyp9iV"
      },
      "source": [
        "### E. Посмотреть количество клиентов с каждым видом доходности (из пункта 2.d);"
      ]
    },
    {
      "cell_type": "code",
      "execution_count": null,
      "metadata": {
        "id": "h2Rcfq5Dp9iV"
      },
      "outputs": [],
      "source": [
        "# берем предыдущий запрос и вставляем его в новый\n",
        "query_e = f'''\n",
        "WITH TAB as ({query_d})\n",
        "SELECT TAB.RATE, count(TAB.RATE) as QTY\n",
        "FROM TAB\n",
        "GROUP BY RATE\n",
        "'''\n",
        "# получаем датафрейм по запросу\n",
        "data = pd.read_sql(query_e, connection)\n",
        "data"
      ]
    },
    {
      "cell_type": "markdown",
      "metadata": {
        "id": "yQJ5kWA7p9iV"
      },
      "source": [
        "### F. Вывести сумму транзакций за каждый день (сортируя дни по возрастанию)."
      ]
    },
    {
      "cell_type": "code",
      "execution_count": null,
      "metadata": {
        "id": "WFxCH948p9iV"
      },
      "outputs": [],
      "source": [
        "# берем предыдущий запрос и вставляем его в новый\n",
        "query_f = f'''\n",
        "SELECT SUBSTRING(TX_DATETIME, 1, 10) as DATE,\n",
        "       sum(TX_AMOUNT) as SUMM\n",
        "FROM  {table}\n",
        "GROUP BY DATE\n",
        "ORDER BY DATE ASC\n",
        "'''\n",
        "# получаем датафрейм по запросу\n",
        "data_dash = pd.read_sql(query_f, connection)\n",
        "data_dash"
      ]
    },
    {
      "cell_type": "code",
      "execution_count": null,
      "metadata": {
        "id": "yvDFsJo6p9iV"
      },
      "outputs": [],
      "source": [
        "connection.close()"
      ]
    },
    {
      "cell_type": "markdown",
      "metadata": {
        "id": "O1L8Zkv1p9iV"
      },
      "source": [
        "# Шаг 3\n",
        "(Балл - 0.2) \n",
        "\n",
        "- Подготовить дашборд с помощью Dash по пункту 2.f, включив туда графики bar и histogram;\n",
        "- Bставить в конце ноутбука скрин графиков из дашборда.\n"
      ]
    },
    {
      "cell_type": "markdown",
      "metadata": {
        "id": "Hk0_sDFKp9iV"
      },
      "source": [
        "## Подготовка дашборда"
      ]
    },
    {
      "cell_type": "code",
      "execution_count": null,
      "metadata": {
        "id": "ru0Wa0mWp9iV"
      },
      "outputs": [],
      "source": [
        "#!pip install dash\n",
        "#!pip install jupyter-dash"
      ]
    },
    {
      "cell_type": "code",
      "execution_count": null,
      "metadata": {
        "id": "0B0awfdPp9iW"
      },
      "outputs": [],
      "source": [
        "from dash import Dash, html, dcc\n",
        "import plotly.express as px"
      ]
    },
    {
      "cell_type": "markdown",
      "metadata": {
        "id": "X8IjqINzp9iW"
      },
      "source": [
        "## Графики\n",
        "\n",
        "Шпаргалка по визуализации данных в Python с помощью Plotly - https://habr.com/ru/post/502958/"
      ]
    },
    {
      "cell_type": "code",
      "execution_count": null,
      "metadata": {
        "id": "TH0F8wC6p9iW"
      },
      "outputs": [],
      "source": [
        "app = Dash()\n",
        "title_1 = 'Сумма транзакций за каждый день'\n",
        "title_2 = 'Распределение сумм транзакций в день'\n",
        "\n",
        "fig1 = px.bar(data_dash, x=\"DATE\", y=\"SUMM\", title = title_1)\n",
        "\n",
        "fig2 = px.histogram(data_dash, x = \"SUMM\",\n",
        "             title = title_2,\n",
        "             nbins = 100,\n",
        "             )\n",
        "fig1.update_layout(template = 'plotly_dark') # темная тема\n",
        "fig2.update_layout(template = 'plotly_dark') # темная тема\n",
        "\n",
        "# публикация на веб_сервере для браузера\n",
        "app.layout = html.Div(children=[\n",
        "    html.H1(children = title_1),\n",
        "\n",
        "    html.Div(children = title_2),\n",
        "\n",
        "    dcc.Graph(\n",
        "        id='example-graph',\n",
        "        figure=fig1\n",
        "    ),\n",
        "     dcc.Graph(\n",
        "        id='example-graph1',\n",
        "        figure=fig2\n",
        "    )\n",
        "])\n",
        "\n",
        "app.run_server()"
      ]
    },
    {
      "cell_type": "markdown",
      "metadata": {
        "id": "kNY0of1ep9iW"
      },
      "source": [
        "<img src=\"https://raw.githubusercontent.com/Mike030668/MIPT_magistratura/main/Data%20storage%20and%20processing%20systems/images/img-2023-03-29-20-57-12.png\" alt=\"Screenshort\" />"
      ]
    }
  ],
  "metadata": {
    "colab": {
      "provenance": []
    },
    "kernelspec": {
      "display_name": "Python 3",
      "name": "python3"
    },
    "language_info": {
      "codemirror_mode": {
        "name": "ipython",
        "version": 3
      },
      "file_extension": ".py",
      "mimetype": "text/x-python",
      "name": "python",
      "nbconvert_exporter": "python",
      "pygments_lexer": "ipython3",
      "version": "3.11.2"
    }
  },
  "nbformat": 4,
  "nbformat_minor": 0
}