{
 "cells": [
  {
   "cell_type": "markdown",
   "id": "b74e095f",
   "metadata": {},
   "source": [
    "# О задании\n",
    "\n",
    "## Тема\n",
    "Объединение таблиц и сложные выборки\n",
    "\n",
    "## Цель домашнего задания\n",
    "- научиться работать с интервальными таблицы, уметь их джойнить с другими таблицами;\n",
    "- научиться обрабатывать транзакции относительно какого-то промежутка времени.\n",
    " \n",
    "\n",
    "## Условия\n",
    "Дано 2 CSV-файла: один с транзакциями за период 01.01.2023 – 20.04.2023, второй с информацией о клиентах.\n",
    "\n",
    "**За дефолтную дату для выборки действующих клиентов брать ‘2023-05-01’**\n",
    "\n",
    "Необходимо в Jupyter- ноутбуке выполнить следующие пункты, используя SQLite:\n",
    "\n",
    "<font size=4>[**Шаг 1**](#Шаг-1)</font>\n",
    "\n",
    "(Балл - 2) Необходимо скачать CSV-файл - «[transactions_for_dz2.csv](https://drive.google.com/file/d/1GsKxPQ3cp1_uuyoLoAQLlsHTLEbXOMIo/view?usp=share_link)», создать таблицу *transaction_bd* со всеми полями, загрузить данные из файла в таблицу и оставить таблицу со структурой:\n",
    "\n",
    "(0, 'TRANSACTION_ID', 'INTEGER', 0, None, 0) - id транзакции\n",
    "\n",
    "(1, 'TX_DATETIME', 'NUMERIC', 0, None, 0) - дата транзакции\n",
    "\n",
    "(2, 'CUSTOMER_ID', 'INTEGER', 0, None, 0) - id клиента\n",
    "\n",
    "(3, 'TERMINAL_ID', 'INTEGER', 0, None, 0) - id терминала\n",
    "\n",
    "(4, 'TX_AMOUNT', 'REAL', 0, None, 0) - сумма транзакции\n",
    "\n",
    "Также необходимо скачать второй CSV-файл - «[client_info.csv](https://drive.google.com/file/d/1oFzZfwHBtP0NOulBYlp4osIY5NIPIdn-/view?usp=share_link)», создать таблицу *customer_bd* со всеми полями, загрузить данные из файла в таблицу и получить таблицу со структурой:\n",
    "\n",
    "(0, 'CLIENT_ID', 'INTEGER', 0, None, 0) - id клиента\n",
    "\n",
    "(1, 'START_DT', 'NUMERIC', 0, None, 0) - дата начало записи о клиенте\n",
    "\n",
    "(2, 'END_DT', 'NUMERIC', 0, None, 0) - дата закрытия записи о клиенте\n",
    "\n",
    "(3, 'CLIENT_NAME', 'TEXT', 0, None, 0) - название клиента\n",
    "\n",
    "(4, 'YEAR_BIRTH', 'TEXT', 0, None, 0) - дата рождение клиента\n",
    "\n",
    "**Примечание для следующих шагов:** сумма транзакций не может быть null-ом, это всегда число.\n",
    "\n",
    "<font size=4>[**Шаг 2**](#Шаг-2)</font>\n",
    "\n",
    "**(Балл - 1 за каждый пункт)** Написать скрипты:\n",
    "\n",
    "- a. Найти имя клиента/клиентов с максимальной суммой транзакций за весь период (клиент должен быть действующим, то есть дата закрытия записи о клиенте не должна быть меньше дня относительно которого мы считаемся).\n",
    "- b. Найти имя клиента/клиентов с минимальной суммой транзакций за весь период (клиент должен быть действующим, то есть дата закрытия записи о клиенте не должна быть меньше дня относительно которого мы считаемся).\n",
    "- c. Найти сумму транзакций относительно даты 2023-04-01 для клиентов, у которых id начинается с 111 (клиент должен быть действующим, то есть дата закрытия записи о клиенте не должна быть меньше дня относительно которого мы считаемся). Транзакции учитываются только после завершении дня.\n",
    "- d. Найти сумму транзакций относительно года рождения клиентов (клиент должен быть действующим, то есть дата закрытия записи о клиенте не должна быть меньше дня относительно которого мы считаемся). Сортировать по убыванию года рождения.\n",
    "- e. Найти количество транзакций для каждого клиента (клиент должен быть действующим, то есть дата закрытия записи о клиенте не должна быть меньше дня относительно которого мы считаемся). Сортировать по убыванию количества транзакций.\n",
    "\n",
    "<font size=4>[**Шаг 3**](#Шаг-3)</font>\n",
    "\n",
    "**(Балл - 3)** Найти сумму транзакций за каждый месяц (январь, февраль, март, апрель) для всех клиентов (клиент должен быть действующим, то есть дата закрытия записи о клиенте не должна быть меньше дня относительно которого мы считаемся).\n",
    " \n",
    "\n",
    "## Сроки выполнения задания\n",
    "До 09.04.2023, 23:59."
   ]
  },
  {
   "cell_type": "code",
   "execution_count": null,
   "id": "d9aface7",
   "metadata": {},
   "outputs": [],
   "source": []
  },
  {
   "cell_type": "code",
   "execution_count": 115,
   "id": "661b2fd1",
   "metadata": {},
   "outputs": [],
   "source": [
    "import pandas as pd\n",
    "import sqlite3"
   ]
  },
  {
   "cell_type": "markdown",
   "id": "0f4022de",
   "metadata": {},
   "source": [
    "## Шаг 1"
   ]
  },
  {
   "cell_type": "code",
   "execution_count": 116,
   "id": "6bb199de",
   "metadata": {},
   "outputs": [],
   "source": [
    "transaction_bd = pd.read_csv('transactions_for_dz2.csv')#, parse_dates=['TX_DATETIME'])"
   ]
  },
  {
   "cell_type": "code",
   "execution_count": 117,
   "id": "c4739fbb",
   "metadata": {},
   "outputs": [
    {
     "data": {
      "text/html": [
       "<div>\n",
       "<style scoped>\n",
       "    .dataframe tbody tr th:only-of-type {\n",
       "        vertical-align: middle;\n",
       "    }\n",
       "\n",
       "    .dataframe tbody tr th {\n",
       "        vertical-align: top;\n",
       "    }\n",
       "\n",
       "    .dataframe thead th {\n",
       "        text-align: right;\n",
       "    }\n",
       "</style>\n",
       "<table border=\"1\" class=\"dataframe\">\n",
       "  <thead>\n",
       "    <tr style=\"text-align: right;\">\n",
       "      <th></th>\n",
       "      <th>TRANSACTION_ID</th>\n",
       "      <th>TX_DATETIME</th>\n",
       "      <th>CUSTOMER_ID</th>\n",
       "      <th>TERMINAL_ID</th>\n",
       "      <th>TX_AMOUNT</th>\n",
       "    </tr>\n",
       "  </thead>\n",
       "  <tbody>\n",
       "    <tr>\n",
       "      <th>0</th>\n",
       "      <td>0</td>\n",
       "      <td>2023-01-01 00:00:31</td>\n",
       "      <td>596</td>\n",
       "      <td>3156</td>\n",
       "      <td>533.07</td>\n",
       "    </tr>\n",
       "    <tr>\n",
       "      <th>1</th>\n",
       "      <td>1</td>\n",
       "      <td>2023-01-01 00:02:10</td>\n",
       "      <td>4961</td>\n",
       "      <td>3412</td>\n",
       "      <td>808.56</td>\n",
       "    </tr>\n",
       "    <tr>\n",
       "      <th>2</th>\n",
       "      <td>2</td>\n",
       "      <td>2023-01-01 00:07:56</td>\n",
       "      <td>2</td>\n",
       "      <td>1365</td>\n",
       "      <td>1442.94</td>\n",
       "    </tr>\n",
       "  </tbody>\n",
       "</table>\n",
       "</div>"
      ],
      "text/plain": [
       "   TRANSACTION_ID          TX_DATETIME  CUSTOMER_ID  TERMINAL_ID  TX_AMOUNT\n",
       "0               0  2023-01-01 00:00:31          596         3156     533.07\n",
       "1               1  2023-01-01 00:02:10         4961         3412     808.56\n",
       "2               2  2023-01-01 00:07:56            2         1365    1442.94"
      ]
     },
     "execution_count": 117,
     "metadata": {},
     "output_type": "execute_result"
    }
   ],
   "source": [
    "transaction_bd.head(3)"
   ]
  },
  {
   "cell_type": "code",
   "execution_count": 119,
   "id": "86fd91a1",
   "metadata": {},
   "outputs": [
    {
     "data": {
      "text/html": [
       "<div>\n",
       "<style scoped>\n",
       "    .dataframe tbody tr th:only-of-type {\n",
       "        vertical-align: middle;\n",
       "    }\n",
       "\n",
       "    .dataframe tbody tr th {\n",
       "        vertical-align: top;\n",
       "    }\n",
       "\n",
       "    .dataframe thead th {\n",
       "        text-align: right;\n",
       "    }\n",
       "</style>\n",
       "<table border=\"1\" class=\"dataframe\">\n",
       "  <thead>\n",
       "    <tr style=\"text-align: right;\">\n",
       "      <th></th>\n",
       "      <th>TRANSACTION_ID</th>\n",
       "      <th>TX_DATETIME</th>\n",
       "      <th>CUSTOMER_ID</th>\n",
       "      <th>TERMINAL_ID</th>\n",
       "      <th>TX_AMOUNT</th>\n",
       "    </tr>\n",
       "  </thead>\n",
       "  <tbody>\n",
       "    <tr>\n",
       "      <th>0</th>\n",
       "      <td>0</td>\n",
       "      <td>2023-01-01 00:00:31</td>\n",
       "      <td>596</td>\n",
       "      <td>3156</td>\n",
       "      <td>533.07</td>\n",
       "    </tr>\n",
       "    <tr>\n",
       "      <th>1</th>\n",
       "      <td>1</td>\n",
       "      <td>2023-01-01 00:02:10</td>\n",
       "      <td>4961</td>\n",
       "      <td>3412</td>\n",
       "      <td>808.56</td>\n",
       "    </tr>\n",
       "    <tr>\n",
       "      <th>2</th>\n",
       "      <td>2</td>\n",
       "      <td>2023-01-01 00:07:56</td>\n",
       "      <td>2</td>\n",
       "      <td>1365</td>\n",
       "      <td>1442.94</td>\n",
       "    </tr>\n",
       "  </tbody>\n",
       "</table>\n",
       "</div>"
      ],
      "text/plain": [
       "   TRANSACTION_ID          TX_DATETIME  CUSTOMER_ID  TERMINAL_ID  TX_AMOUNT\n",
       "0               0  2023-01-01 00:00:31          596         3156     533.07\n",
       "1               1  2023-01-01 00:02:10         4961         3412     808.56\n",
       "2               2  2023-01-01 00:07:56            2         1365    1442.94"
      ]
     },
     "execution_count": 119,
     "metadata": {},
     "output_type": "execute_result"
    }
   ],
   "source": [
    "transaction_bd.head(3)"
   ]
  },
  {
   "cell_type": "code",
   "execution_count": 120,
   "id": "469d57a6",
   "metadata": {
    "scrolled": false
   },
   "outputs": [
    {
     "name": "stdout",
     "output_type": "stream",
     "text": [
      "<class 'pandas.core.frame.DataFrame'>\n",
      "RangeIndex: 1048575 entries, 0 to 1048574\n",
      "Data columns (total 5 columns):\n",
      " #   Column          Non-Null Count    Dtype  \n",
      "---  ------          --------------    -----  \n",
      " 0   TRANSACTION_ID  1048575 non-null  int64  \n",
      " 1   TX_DATETIME     1048575 non-null  object \n",
      " 2   CUSTOMER_ID     1048575 non-null  int64  \n",
      " 3   TERMINAL_ID     1048575 non-null  int64  \n",
      " 4   TX_AMOUNT       1048575 non-null  float64\n",
      "dtypes: float64(1), int64(3), object(1)\n",
      "memory usage: 40.0+ MB\n"
     ]
    }
   ],
   "source": [
    "transaction_bd.info()"
   ]
  },
  {
   "cell_type": "code",
   "execution_count": 121,
   "id": "5e94242b",
   "metadata": {},
   "outputs": [],
   "source": [
    "customer_bd = pd.read_csv('client_info.csv', sep=';', parse_dates=['START_DT', 'END_DT'])"
   ]
  },
  {
   "cell_type": "code",
   "execution_count": 122,
   "id": "64430cba",
   "metadata": {},
   "outputs": [
    {
     "data": {
      "text/html": [
       "<div>\n",
       "<style scoped>\n",
       "    .dataframe tbody tr th:only-of-type {\n",
       "        vertical-align: middle;\n",
       "    }\n",
       "\n",
       "    .dataframe tbody tr th {\n",
       "        vertical-align: top;\n",
       "    }\n",
       "\n",
       "    .dataframe thead th {\n",
       "        text-align: right;\n",
       "    }\n",
       "</style>\n",
       "<table border=\"1\" class=\"dataframe\">\n",
       "  <thead>\n",
       "    <tr style=\"text-align: right;\">\n",
       "      <th></th>\n",
       "      <th>START_DT</th>\n",
       "      <th>END_DT</th>\n",
       "      <th>CLIENT_NAME</th>\n",
       "      <th>YEAR_BIRTH</th>\n",
       "      <th>CLIENT_ID</th>\n",
       "    </tr>\n",
       "  </thead>\n",
       "  <tbody>\n",
       "    <tr>\n",
       "      <th>0</th>\n",
       "      <td>2015-07-16</td>\n",
       "      <td>2021-01-01</td>\n",
       "      <td>Olivia</td>\n",
       "      <td>1979</td>\n",
       "      <td>2213</td>\n",
       "    </tr>\n",
       "    <tr>\n",
       "      <th>1</th>\n",
       "      <td>2015-07-17</td>\n",
       "      <td>2021-01-01</td>\n",
       "      <td>Emma</td>\n",
       "      <td>1979</td>\n",
       "      <td>1148</td>\n",
       "    </tr>\n",
       "    <tr>\n",
       "      <th>2</th>\n",
       "      <td>2015-07-18</td>\n",
       "      <td>2021-01-01</td>\n",
       "      <td>Charlotte</td>\n",
       "      <td>1979</td>\n",
       "      <td>2293</td>\n",
       "    </tr>\n",
       "    <tr>\n",
       "      <th>3</th>\n",
       "      <td>2015-07-19</td>\n",
       "      <td>2021-01-01</td>\n",
       "      <td>Amelia</td>\n",
       "      <td>1979</td>\n",
       "      <td>1867</td>\n",
       "    </tr>\n",
       "    <tr>\n",
       "      <th>4</th>\n",
       "      <td>2015-07-20</td>\n",
       "      <td>2021-01-01</td>\n",
       "      <td>Ava</td>\n",
       "      <td>1979</td>\n",
       "      <td>1767</td>\n",
       "    </tr>\n",
       "  </tbody>\n",
       "</table>\n",
       "</div>"
      ],
      "text/plain": [
       "    START_DT      END_DT CLIENT_NAME  YEAR_BIRTH  CLIENT_ID\n",
       "0 2015-07-16  2021-01-01      Olivia        1979       2213\n",
       "1 2015-07-17  2021-01-01        Emma        1979       1148\n",
       "2 2015-07-18  2021-01-01   Charlotte        1979       2293\n",
       "3 2015-07-19  2021-01-01      Amelia        1979       1867\n",
       "4 2015-07-20  2021-01-01         Ava        1979       1767"
      ]
     },
     "execution_count": 122,
     "metadata": {},
     "output_type": "execute_result"
    }
   ],
   "source": [
    "customer_bd.head()"
   ]
  },
  {
   "cell_type": "markdown",
   "id": "0bfa5c77",
   "metadata": {},
   "source": [
    "Создадим функции для подключения к базе данных, выполнения запросов и создании таблиц."
   ]
  },
  {
   "cell_type": "code",
   "execution_count": 123,
   "id": "dc66d9c8",
   "metadata": {},
   "outputs": [],
   "source": [
    "def create_connection(path):\n",
    "    connection = None\n",
    "    try:\n",
    "        connection = sqlite3.connect(path)\n",
    "        print(\"Connection to SQLite DB successful\")\n",
    "    except Error as e:\n",
    "        print(f\"The error '{e}' occurred\")\n",
    "\n",
    "    return connection"
   ]
  },
  {
   "cell_type": "code",
   "execution_count": 124,
   "id": "74ae597d",
   "metadata": {},
   "outputs": [],
   "source": [
    "def execute_query(connection, query):\n",
    "    cursor = connection.cursor()\n",
    "    try:\n",
    "        cursor.execute(query)\n",
    "        connection.commit()\n",
    "        print(\"Query executed successfully\")\n",
    "    except Error as e:\n",
    "        print(f\"The error '{e}' occurred\")"
   ]
  },
  {
   "cell_type": "code",
   "execution_count": 125,
   "id": "9b3fd2f9",
   "metadata": {},
   "outputs": [],
   "source": [
    "def sql_insert(con, entities, text_sql_insert_into_table):\n",
    "\n",
    "    cursorObj = con.cursor()\n",
    "    cursorObj.execute(text_sql_insert_into_table, entities)"
   ]
  },
  {
   "cell_type": "markdown",
   "id": "d03b8983",
   "metadata": {},
   "source": [
    "Подключимся к базе данных"
   ]
  },
  {
   "cell_type": "code",
   "execution_count": 126,
   "id": "0bf14822",
   "metadata": {
    "scrolled": false
   },
   "outputs": [
    {
     "name": "stdout",
     "output_type": "stream",
     "text": [
      "Connection to SQLite DB successful\n"
     ]
    }
   ],
   "source": [
    "connection = create_connection('database.db')"
   ]
  },
  {
   "cell_type": "markdown",
   "id": "f7d536be",
   "metadata": {},
   "source": [
    "Создадим таблицу transaction_bd"
   ]
  },
  {
   "cell_type": "code",
   "execution_count": 127,
   "id": "c1f19bb1",
   "metadata": {},
   "outputs": [],
   "source": [
    "sql_create_table = '''\n",
    "                        CREATE TABLE IF NOT EXISTS transaction_bd (\n",
    "                                            \"TRANSACTION_ID\" INTEGER,\n",
    "                                            \"TX_DATETIME\" NUMERIC,\n",
    "                                            \"CUSTOMER_ID\" INTEGER,\n",
    "                                            \"TERMINAL_ID\" INTEGER,\n",
    "                                            \"TX_AMOUNT\" REAL\n",
    "                                                        )\n",
    "                     '''"
   ]
  },
  {
   "cell_type": "code",
   "execution_count": 128,
   "id": "5a70a726",
   "metadata": {
    "scrolled": false
   },
   "outputs": [
    {
     "name": "stdout",
     "output_type": "stream",
     "text": [
      "Query executed successfully\n"
     ]
    }
   ],
   "source": [
    "execute_query(connection, sql_create_table)"
   ]
  },
  {
   "cell_type": "markdown",
   "id": "cfd87695",
   "metadata": {},
   "source": [
    "Создадим таблицу customer_bd"
   ]
  },
  {
   "cell_type": "code",
   "execution_count": 129,
   "id": "6a87b139",
   "metadata": {},
   "outputs": [],
   "source": [
    "sql_create_table = '''\n",
    "                        CREATE TABLE IF NOT EXISTS customer_bd (\n",
    "                                            \"CLIENT_ID\" INTEGER,\n",
    "                                            \"START_DT\" NUMERIC,\n",
    "                                            \"END_DT\" NUMERIC,\n",
    "                                            \"CLIENT_NAME\" TEXT,\n",
    "                                            \"YEAR_BIRTH\" TEXT\n",
    "                                                        )\n",
    "                     '''"
   ]
  },
  {
   "cell_type": "code",
   "execution_count": 130,
   "id": "bd06569a",
   "metadata": {
    "scrolled": true
   },
   "outputs": [
    {
     "name": "stdout",
     "output_type": "stream",
     "text": [
      "Query executed successfully\n"
     ]
    }
   ],
   "source": [
    "execute_query(connection, sql_create_table)"
   ]
  },
  {
   "cell_type": "markdown",
   "id": "c9d08a7a",
   "metadata": {},
   "source": [
    "Прочитаем данные из файлов и вставим их в таблицы"
   ]
  },
  {
   "cell_type": "code",
   "execution_count": 131,
   "id": "2cdf8725",
   "metadata": {},
   "outputs": [],
   "source": [
    "text_sql_insert_into_table = '''\n",
    "                                 INSERT INTO transaction_bd(\n",
    "                                                         TRANSACTION_ID,\n",
    "                                                         TX_DATETIME,\n",
    "                                                         CUSTOMER_ID,\n",
    "                                                         TERMINAL_ID,\n",
    "                                                         TX_AMOUNT\n",
    "                                                      )\n",
    "                                 VALUES(?, ?, ?, ?, ?)\n",
    "                             '''"
   ]
  },
  {
   "cell_type": "code",
   "execution_count": 132,
   "id": "4fdd5dfb",
   "metadata": {},
   "outputs": [],
   "source": [
    "with open('transactions_for_dz2.csv', encoding='utf-8') as file:\n",
    "    text = file.readlines()\n",
    "for line in text[1:]:\n",
    "    sql_insert(connection, line.split(','), text_sql_insert_into_table)\n",
    "connection.commit()"
   ]
  },
  {
   "cell_type": "code",
   "execution_count": 133,
   "id": "5008ad19",
   "metadata": {},
   "outputs": [],
   "source": [
    "text_sql_insert_into_table = '''\n",
    "                                 INSERT INTO customer_bd(\n",
    "                                                         START_DT,\n",
    "                                                         END_DT,\n",
    "                                                         CLIENT_NAME,\n",
    "                                                         YEAR_BIRTH,\n",
    "                                                         CLIENT_ID\n",
    "                                                      )\n",
    "                                 VALUES(?, ?, ?, ?, ?)\n",
    "                             '''"
   ]
  },
  {
   "cell_type": "code",
   "execution_count": 134,
   "id": "5bd3e016",
   "metadata": {},
   "outputs": [],
   "source": [
    "with open('client_info.csv', encoding='utf-8') as file:\n",
    "    text = file.readlines()\n",
    "for line in text[1:]:\n",
    "    sql_insert(connection, line.split(';'), text_sql_insert_into_table)\n",
    "connection.commit()"
   ]
  },
  {
   "cell_type": "code",
   "execution_count": 135,
   "id": "5736b9ce",
   "metadata": {},
   "outputs": [],
   "source": [
    "connection.close()"
   ]
  },
  {
   "cell_type": "markdown",
   "id": "6c1abac0",
   "metadata": {},
   "source": [
    "## Шаг 2\n",
    "Напишем скрипты:"
   ]
  },
  {
   "cell_type": "markdown",
   "id": "47bc7adb",
   "metadata": {},
   "source": [
    "a. Найти имя клиента/клиентов с максимальной суммой транзакций за весь период (клиент должен быть действующим, то есть дата закрытия записи о клиенте не должна быть меньше дня относительно которого мы считаемся)."
   ]
  },
  {
   "cell_type": "code",
   "execution_count": null,
   "id": "86410c39",
   "metadata": {},
   "outputs": [],
   "source": []
  },
  {
   "cell_type": "code",
   "execution_count": null,
   "id": "4c88f5f8",
   "metadata": {},
   "outputs": [],
   "source": []
  },
  {
   "cell_type": "code",
   "execution_count": null,
   "id": "90ae29ee",
   "metadata": {},
   "outputs": [],
   "source": []
  },
  {
   "cell_type": "code",
   "execution_count": null,
   "id": "d5571730",
   "metadata": {},
   "outputs": [],
   "source": []
  },
  {
   "cell_type": "code",
   "execution_count": null,
   "id": "ef36d054",
   "metadata": {},
   "outputs": [],
   "source": []
  },
  {
   "cell_type": "markdown",
   "id": "2cb773d6",
   "metadata": {},
   "source": [
    "b. Найти имя клиента/клиентов с минимальной суммой транзакций за весь период (клиент должен быть действующим, то есть дата закрытия записи о клиенте не должна быть меньше дня относительно которого мы считаемся).\n",
    "c. Найти сумму транзакций относительно даты 2023-04-01 для клиентов, у которых id начинается с 111 (клиент должен быть действующим, то есть дата закрытия записи о клиенте не должна быть меньше дня относительно которого мы считаемся). Транзакции учитываются только после завершении дня.\n",
    "d. Найти сумму транзакций относительно года рождения клиентов (клиент должен быть действующим, то есть дата закрытия записи о клиенте не должна быть меньше дня относительно которого мы считаемся). Сортировать по убыванию года рождения.\n",
    "e. Найти количество транзакций для каждого клиента (клиент должен быть действующим, то есть дата закрытия записи о клиенте не должна быть меньше дня относительно которого мы считаемся). Сортировать по убыванию количества транзакций."
   ]
  },
  {
   "cell_type": "code",
   "execution_count": null,
   "id": "b2263bce",
   "metadata": {},
   "outputs": [],
   "source": []
  },
  {
   "cell_type": "code",
   "execution_count": null,
   "id": "1c9fdaa4",
   "metadata": {},
   "outputs": [],
   "source": []
  },
  {
   "cell_type": "code",
   "execution_count": null,
   "id": "8e0fd88f",
   "metadata": {},
   "outputs": [],
   "source": []
  },
  {
   "cell_type": "code",
   "execution_count": null,
   "id": "284bc84b",
   "metadata": {},
   "outputs": [],
   "source": []
  },
  {
   "cell_type": "markdown",
   "id": "5e7c90ec",
   "metadata": {},
   "source": [
    "## Шаг 3"
   ]
  }
 ],
 "metadata": {
  "kernelspec": {
   "display_name": "Python 3 (ipykernel)",
   "language": "python",
   "name": "python3"
  },
  "language_info": {
   "codemirror_mode": {
    "name": "ipython",
    "version": 3
   },
   "file_extension": ".py",
   "mimetype": "text/x-python",
   "name": "python",
   "nbconvert_exporter": "python",
   "pygments_lexer": "ipython3",
   "version": "3.9.12"
  }
 },
 "nbformat": 4,
 "nbformat_minor": 5
}
