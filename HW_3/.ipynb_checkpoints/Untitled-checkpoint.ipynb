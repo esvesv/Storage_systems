{
 "cells": [
  {
   "cell_type": "markdown",
   "id": "b74e095f",
   "metadata": {},
   "source": [
    "# О задании\n",
    "\n",
    "## Тема\n",
    "Объединение таблиц и сложные выборки\n",
    "\n",
    "## Цель домашнего задания\n",
    "- научиться работать с интервальными таблицы, уметь их джойнить с другими таблицами;\n",
    "- научиться обрабатывать транзакции относительно какого-то промежутка времени.\n",
    " \n",
    "\n",
    "## Условия\n",
    "Дано 2 CSV-файла: один с транзакциями за период 01.01.2023 – 20.04.2023, второй с информацией о клиентах.\n",
    "\n",
    "**За дефолтную дату для выборки действующих клиентов брать ‘2023-05-01’**\n",
    "\n",
    "Необходимо в Jupyter- ноутбуке выполнить следующие пункты, используя SQLite:\n",
    "\n",
    "<font size=4>[**Шаг 1**](#Шаг-1)</font>\n",
    "\n",
    "(Балл - 2) Необходимо скачать CSV-файл - «[transactions_for_dz2.csv](https://drive.google.com/file/d/1GsKxPQ3cp1_uuyoLoAQLlsHTLEbXOMIo/view?usp=share_link)», создать таблицу *transaction_bd* со всеми полями, загрузить данные из файла в таблицу и оставить таблицу со структурой:\n",
    "\n",
    "(0, 'TRANSACTION_ID', 'INTEGER', 0, None, 0) - id транзакции\n",
    "\n",
    "(1, 'TX_DATETIME', 'NUMERIC', 0, None, 0) - дата транзакции\n",
    "\n",
    "(2, 'CUSTOMER_ID', 'INTEGER', 0, None, 0) - id клиента\n",
    "\n",
    "(3, 'TERMINAL_ID', 'INTEGER', 0, None, 0) - id терминала\n",
    "\n",
    "(4, 'TX_AMOUNT', 'REAL', 0, None, 0) - сумма транзакции\n",
    "\n",
    "Также необходимо скачать второй CSV-файл - «[client_info.csv](https://drive.google.com/file/d/1oFzZfwHBtP0NOulBYlp4osIY5NIPIdn-/view?usp=share_link)», создать таблицу *customer_bd* со всеми полями, загрузить данные из файла в таблицу и получить таблицу со структурой:\n",
    "\n",
    "(0, 'CLIENT_ID', 'INTEGER', 0, None, 0) - id клиента\n",
    "\n",
    "(1, 'START_DT', 'NUMERIC', 0, None, 0) - дата начало записи о клиенте\n",
    "\n",
    "(2, 'END_DT', 'NUMERIC', 0, None, 0) - дата закрытия записи о клиенте\n",
    "\n",
    "(3, 'CLIENT_NAME', 'TEXT', 0, None, 0) - название клиента\n",
    "\n",
    "(4, 'YEAR_BIRTH', 'TEXT', 0, None, 0) - дата рождение клиента\n",
    "\n",
    "**Примечание для следующих шагов:** сумма транзакций не может быть null-ом, это всегда число.\n",
    "\n",
    "<font size=4>[**Шаг 2**](#Шаг-2)</font>\n",
    "\n",
    "**(Балл - 1 за каждый пункт)** Написать скрипты:\n",
    "\n",
    "- a. Найти имя клиента/клиентов с максимальной суммой транзакций за весь период (клиент должен быть действующим, то есть дата закрытия записи о клиенте не должна быть меньше дня относительно которого мы считаемся).\n",
    "- b. Найти имя клиента/клиентов с минимальной суммой транзакций за весь период (клиент должен быть действующим, то есть дата закрытия записи о клиенте не должна быть меньше дня относительно которого мы считаемся).\n",
    "- c. Найти сумму транзакций относительно даты 2023-04-01 для клиентов, у которых id начинается с 111 (клиент должен быть действующим, то есть дата закрытия записи о клиенте не должна быть меньше дня относительно которого мы считаемся). Транзакции учитываются только после завершении дня.\n",
    "- d. Найти сумму транзакций относительно года рождения клиентов (клиент должен быть действующим, то есть дата закрытия записи о клиенте не должна быть меньше дня относительно которого мы считаемся). Сортировать по убыванию года рождения.\n",
    "- e. Найти количество транзакций для каждого клиента (клиент должен быть действующим, то есть дата закрытия записи о клиенте не должна быть меньше дня относительно которого мы считаемся). Сортировать по убыванию количества транзакций.\n",
    "\n",
    "<font size=4>[**Шаг 3**](#Шаг-3)</font>\n",
    "\n",
    "**(Балл - 3)** Найти сумму транзакций за каждый месяц (январь, февраль, март, апрель) для всех клиентов (клиент должен быть действующим, то есть дата закрытия записи о клиенте не должна быть меньше дня относительно которого мы считаемся).\n",
    " \n",
    "\n",
    "## Сроки выполнения задания\n",
    "До 09.04.2023, 23:59."
   ]
  },
  {
   "cell_type": "code",
   "execution_count": null,
   "id": "1f079e62",
   "metadata": {},
   "outputs": [],
   "source": []
  },
  {
   "cell_type": "code",
   "execution_count": 1,
   "id": "661b2fd1",
   "metadata": {},
   "outputs": [],
   "source": [
    "import pandas as pd\n",
    "import sqlite3\n",
    "from datetime import datetime\n",
    "import re"
   ]
  },
  {
   "cell_type": "markdown",
   "id": "0bfa5c77",
   "metadata": {},
   "source": [
    "Создадим функции для подключения к базе данных, выполнения запросов и создании таблиц."
   ]
  },
  {
   "cell_type": "code",
   "execution_count": 4,
   "id": "dc66d9c8",
   "metadata": {},
   "outputs": [],
   "source": [
    "def create_connection(path):\n",
    "    connection = None\n",
    "    try:\n",
    "        connection = sqlite3.connect(path)\n",
    "        print(\"Connection to SQLite DB successful\")\n",
    "    except Error as e:\n",
    "        print(f\"The error '{e}' occurred\")\n",
    "\n",
    "    return connection"
   ]
  },
  {
   "cell_type": "code",
   "execution_count": 3,
   "id": "74ae597d",
   "metadata": {},
   "outputs": [],
   "source": [
    "def execute_query(connection, query):\n",
    "    cursor = connection.cursor()\n",
    "    try:\n",
    "        cursor.execute(query)\n",
    "        connection.commit()\n",
    "        print(\"Query executed successfully\")\n",
    "    except Error as e:\n",
    "        print(f\"The error '{e}' occurred\")"
   ]
  },
  {
   "cell_type": "code",
   "execution_count": 4,
   "id": "9b3fd2f9",
   "metadata": {},
   "outputs": [],
   "source": [
    "def sql_insert(con, entities, text_sql_insert_into_table):\n",
    "\n",
    "    cursorObj = con.cursor()\n",
    "    cursorObj.execute(text_sql_insert_into_table, entities)"
   ]
  },
  {
   "cell_type": "markdown",
   "id": "0f4022de",
   "metadata": {},
   "source": [
    "## Шаг 1"
   ]
  },
  {
   "cell_type": "markdown",
   "id": "fe3b0bb2",
   "metadata": {},
   "source": [
    "Подключимся к базе данных"
   ]
  },
  {
   "cell_type": "code",
   "execution_count": 5,
   "id": "0bf14822",
   "metadata": {
    "scrolled": false
   },
   "outputs": [
    {
     "name": "stdout",
     "output_type": "stream",
     "text": [
      "Connection to SQLite DB successful\n"
     ]
    }
   ],
   "source": [
    "connection = create_connection('database.db')"
   ]
  },
  {
   "cell_type": "markdown",
   "id": "05e11289",
   "metadata": {},
   "source": [
    "Создадим таблицу transaction_bd"
   ]
  },
  {
   "cell_type": "code",
   "execution_count": 32,
   "id": "c1f19bb1",
   "metadata": {},
   "outputs": [],
   "source": [
    "sql_create_table = '''\n",
    "                        CREATE TABLE IF NOT EXISTS transaction_bd (\n",
    "                                            \"TRANSACTION_ID\" INTEGER,\n",
    "                                            \"TX_DATETIME\" NUMERIC,\n",
    "                                            \"CUSTOMER_ID\" INTEGER,\n",
    "                                            \"TERMINAL_ID\" INTEGER,\n",
    "                                            \"TX_AMOUNT\" REAL\n",
    "                                                        )\n",
    "                     '''"
   ]
  },
  {
   "cell_type": "code",
   "execution_count": 33,
   "id": "5a70a726",
   "metadata": {
    "scrolled": false
   },
   "outputs": [
    {
     "name": "stdout",
     "output_type": "stream",
     "text": [
      "Query executed successfully\n"
     ]
    }
   ],
   "source": [
    "execute_query(connection, sql_create_table)"
   ]
  },
  {
   "cell_type": "markdown",
   "id": "0e7264c4",
   "metadata": {},
   "source": [
    "Создадим таблицу customer_bd"
   ]
  },
  {
   "cell_type": "code",
   "execution_count": 34,
   "id": "6a87b139",
   "metadata": {},
   "outputs": [],
   "source": [
    "sql_create_table = '''\n",
    "                        CREATE TABLE IF NOT EXISTS customer_bd (\n",
    "                                            \"CLIENT_ID\" INTEGER,\n",
    "                                            \"START_DT\" NUMERIC,\n",
    "                                            \"END_DT\" NUMERIC,\n",
    "                                            \"CLIENT_NAME\" TEXT,\n",
    "                                            \"YEAR_BIRTH\" TEXT\n",
    "                                                        )\n",
    "                     '''"
   ]
  },
  {
   "cell_type": "code",
   "execution_count": 35,
   "id": "bd06569a",
   "metadata": {
    "scrolled": false
   },
   "outputs": [
    {
     "name": "stdout",
     "output_type": "stream",
     "text": [
      "Query executed successfully\n"
     ]
    }
   ],
   "source": [
    "execute_query(connection, sql_create_table)"
   ]
  },
  {
   "cell_type": "markdown",
   "id": "c0b2f263",
   "metadata": {},
   "source": [
    "Прочитаем данные из файлов и вставим их в таблицы"
   ]
  },
  {
   "cell_type": "code",
   "execution_count": 36,
   "id": "2cdf8725",
   "metadata": {},
   "outputs": [],
   "source": [
    "text_sql_insert_into_table = '''\n",
    "                                 INSERT INTO transaction_bd(\n",
    "                                                         TRANSACTION_ID,\n",
    "                                                         TX_DATETIME,\n",
    "                                                         CUSTOMER_ID,\n",
    "                                                         TERMINAL_ID,\n",
    "                                                         TX_AMOUNT\n",
    "                                                      )\n",
    "                                 VALUES(?, ?, ?, ?, ?)\n",
    "                             '''"
   ]
  },
  {
   "cell_type": "code",
   "execution_count": 37,
   "id": "4fdd5dfb",
   "metadata": {},
   "outputs": [],
   "source": [
    "with open('transactions_for_dz2.csv', encoding='utf-8') as file:\n",
    "    text = file.readlines()\n",
    "for line in text[1:]:\n",
    "    sql_insert(connection, line.split(','), text_sql_insert_into_table)\n",
    "connection.commit()"
   ]
  },
  {
   "cell_type": "code",
   "execution_count": 38,
   "id": "5008ad19",
   "metadata": {},
   "outputs": [],
   "source": [
    "text_sql_insert_into_table = '''\n",
    "                                 INSERT INTO customer_bd(\n",
    "                                                         START_DT,\n",
    "                                                         END_DT,\n",
    "                                                         CLIENT_NAME,\n",
    "                                                         YEAR_BIRTH,\n",
    "                                                         CLIENT_ID\n",
    "                                                      )\n",
    "                                 VALUES(?, ?, ?, ?, ?)\n",
    "                             '''"
   ]
  },
  {
   "cell_type": "code",
   "execution_count": 39,
   "id": "5bd3e016",
   "metadata": {},
   "outputs": [],
   "source": [
    "with open('client_info.csv', encoding='utf-8') as file:\n",
    "    text = file.readlines()\n",
    "for line in text[1:]:\n",
    "    sql_insert(connection, line.split(';'), text_sql_insert_into_table)\n",
    "connection.commit()"
   ]
  },
  {
   "cell_type": "markdown",
   "id": "6c1abac0",
   "metadata": {},
   "source": [
    "## Шаг 2\n",
    "Напишем скрипты:"
   ]
  },
  {
   "cell_type": "markdown",
   "id": "6ce6d77c",
   "metadata": {},
   "source": [
    "a. Найти имя клиента/клиентов с максимальной суммой транзакций за весь период (клиент должен быть действующим, то есть дата закрытия записи о клиенте не должна быть меньше дня относительно которого мы считаемся)."
   ]
  },
  {
   "cell_type": "code",
   "execution_count": 8,
   "id": "f9d3a81d",
   "metadata": {},
   "outputs": [],
   "source": [
    "actual_date = '2023-05-01'"
   ]
  },
  {
   "cell_type": "code",
   "execution_count": 9,
   "id": "20417c41",
   "metadata": {},
   "outputs": [
    {
     "data": {
      "text/html": [
       "<div>\n",
       "<style scoped>\n",
       "    .dataframe tbody tr th:only-of-type {\n",
       "        vertical-align: middle;\n",
       "    }\n",
       "\n",
       "    .dataframe tbody tr th {\n",
       "        vertical-align: top;\n",
       "    }\n",
       "\n",
       "    .dataframe thead th {\n",
       "        text-align: right;\n",
       "    }\n",
       "</style>\n",
       "<table border=\"1\" class=\"dataframe\">\n",
       "  <thead>\n",
       "    <tr style=\"text-align: right;\">\n",
       "      <th></th>\n",
       "      <th>CLIENT_NAME</th>\n",
       "    </tr>\n",
       "  </thead>\n",
       "  <tbody>\n",
       "    <tr>\n",
       "      <th>0</th>\n",
       "      <td>Kylee</td>\n",
       "    </tr>\n",
       "  </tbody>\n",
       "</table>\n",
       "</div>"
      ],
      "text/plain": [
       "  CLIENT_NAME\n",
       "0       Kylee"
      ]
     },
     "execution_count": 9,
     "metadata": {},
     "output_type": "execute_result"
    }
   ],
   "source": [
    "sql_task_a = f'''\n",
    "            WITH\n",
    "            \n",
    "            actual_cusomers as\n",
    "                (SELECT\n",
    "                    CLIENT_ID\n",
    "                FROM\n",
    "                    customer_bd\n",
    "                WHERE END_DT >= {actual_date}),\n",
    "                \n",
    "            sum_total as\n",
    "                (SELECT\n",
    "                    CUSTOMER_ID,\n",
    "                    sum(TX_AMOUNT) as TOTAL_AMOUNT\n",
    "                FROM\n",
    "                    transaction_bd\n",
    "                WHERE\n",
    "                    CUSTOMER_ID in actual_cusomers\n",
    "                GROUP by CUSTOMER_ID),\n",
    "\n",
    "                max_total as\n",
    "                (SELECT\n",
    "                    *,\n",
    "                    max(TOTAL_AMOUNT) over () as MAX_TOTAL_AMOUNT\n",
    "\n",
    "                FROM\n",
    "                    sum_total\n",
    "                )\n",
    "\n",
    "\n",
    "            SELECT\n",
    "                CLIENT_NAME\n",
    "            FROM\n",
    "                max_total as m\n",
    "            JOIN customer_bd as c on c.CLIENT_ID = m.CUSTOMER_ID\n",
    "            WHERE TOTAL_AMOUNT = MAX_TOTAL_AMOUNT\n",
    "\n",
    "\n",
    "            '''\n",
    "data = pd.read_sql(sql_task_a, connection)\n",
    "data"
   ]
  },
  {
   "cell_type": "markdown",
   "id": "598b72e6",
   "metadata": {},
   "source": [
    "b. Найти имя клиента/клиентов с минимальной суммой транзакций за весь период (клиент должен быть действующим, то есть дата закрытия записи о клиенте не должна быть меньше дня относительно которого мы считаемся)."
   ]
  },
  {
   "cell_type": "code",
   "execution_count": 21,
   "id": "725ebf38",
   "metadata": {},
   "outputs": [
    {
     "data": {
      "text/html": [
       "<div>\n",
       "<style scoped>\n",
       "    .dataframe tbody tr th:only-of-type {\n",
       "        vertical-align: middle;\n",
       "    }\n",
       "\n",
       "    .dataframe tbody tr th {\n",
       "        vertical-align: top;\n",
       "    }\n",
       "\n",
       "    .dataframe thead th {\n",
       "        text-align: right;\n",
       "    }\n",
       "</style>\n",
       "<table border=\"1\" class=\"dataframe\">\n",
       "  <thead>\n",
       "    <tr style=\"text-align: right;\">\n",
       "      <th></th>\n",
       "      <th>CLIENT_NAME</th>\n",
       "    </tr>\n",
       "  </thead>\n",
       "  <tbody>\n",
       "    <tr>\n",
       "      <th>0</th>\n",
       "      <td>Kloe</td>\n",
       "    </tr>\n",
       "  </tbody>\n",
       "</table>\n",
       "</div>"
      ],
      "text/plain": [
       "  CLIENT_NAME\n",
       "0        Kloe"
      ]
     },
     "execution_count": 21,
     "metadata": {},
     "output_type": "execute_result"
    }
   ],
   "source": [
    "sql_task_b = f'''\n",
    "            WITH \n",
    "                      \n",
    "            actual_cusomers as\n",
    "                (SELECT\n",
    "                    CLIENT_ID\n",
    "                FROM\n",
    "                    customer_bd\n",
    "                WHERE END_DT >= {actual_date}),\n",
    "                \n",
    "            sum_total as\n",
    "                (SELECT\n",
    "                    CUSTOMER_ID,\n",
    "                    sum(TX_AMOUNT) as TOTAL_AMOUNT\n",
    "                FROM\n",
    "                    transaction_bd\n",
    "                WHERE\n",
    "                    CUSTOMER_ID in actual_cusomers\n",
    "                GROUP by CUSTOMER_ID),\n",
    "\n",
    "                min_total as\n",
    "                (SELECT\n",
    "                    *,\n",
    "                    min(TOTAL_AMOUNT) over () as MIN_TOTAL_AMOUNT\n",
    "\n",
    "                FROM\n",
    "                    sum_total\n",
    "                )\n",
    "\n",
    "\n",
    "            SELECT\n",
    "                CLIENT_NAME\n",
    "            FROM\n",
    "                min_total as m\n",
    "            JOIN customer_bd as c on c.CLIENT_ID = m.CUSTOMER_ID\n",
    "            WHERE TOTAL_AMOUNT = MIN_TOTAL_AMOUNT\n",
    "\n",
    "\n",
    "            '''\n",
    "data = pd.read_sql(sql_task_b, connection)\n",
    "data"
   ]
  },
  {
   "cell_type": "markdown",
   "id": "cdc7aa39",
   "metadata": {},
   "source": [
    "c. Найти сумму транзакций относительно даты 2023-04-01 для клиентов, у которых id начинается с 111 (клиент должен быть действующим, то есть дата закрытия записи о клиенте не должна быть меньше дня относительно которого мы считаемся). Транзакции учитываются только после завершении дня."
   ]
  },
  {
   "cell_type": "code",
   "execution_count": 14,
   "id": "73024ec1",
   "metadata": {},
   "outputs": [],
   "source": [
    "actual_date = '2023-04-01'"
   ]
  },
  {
   "cell_type": "code",
   "execution_count": 23,
   "id": "d4fa977d",
   "metadata": {},
   "outputs": [
    {
     "data": {
      "text/html": [
       "<div>\n",
       "<style scoped>\n",
       "    .dataframe tbody tr th:only-of-type {\n",
       "        vertical-align: middle;\n",
       "    }\n",
       "\n",
       "    .dataframe tbody tr th {\n",
       "        vertical-align: top;\n",
       "    }\n",
       "\n",
       "    .dataframe thead th {\n",
       "        text-align: right;\n",
       "    }\n",
       "</style>\n",
       "<table border=\"1\" class=\"dataframe\">\n",
       "  <thead>\n",
       "    <tr style=\"text-align: right;\">\n",
       "      <th></th>\n",
       "      <th>CUSTOMER_ID</th>\n",
       "      <th>TOTAL_AMOUNT</th>\n",
       "    </tr>\n",
       "  </thead>\n",
       "  <tbody>\n",
       "    <tr>\n",
       "      <th>0</th>\n",
       "      <td>1112</td>\n",
       "      <td>35273.16</td>\n",
       "    </tr>\n",
       "    <tr>\n",
       "      <th>1</th>\n",
       "      <td>1113</td>\n",
       "      <td>229558.85</td>\n",
       "    </tr>\n",
       "    <tr>\n",
       "      <th>2</th>\n",
       "      <td>1114</td>\n",
       "      <td>108622.52</td>\n",
       "    </tr>\n",
       "    <tr>\n",
       "      <th>3</th>\n",
       "      <td>1115</td>\n",
       "      <td>38690.76</td>\n",
       "    </tr>\n",
       "    <tr>\n",
       "      <th>4</th>\n",
       "      <td>1116</td>\n",
       "      <td>191203.59</td>\n",
       "    </tr>\n",
       "    <tr>\n",
       "      <th>5</th>\n",
       "      <td>1117</td>\n",
       "      <td>52751.58</td>\n",
       "    </tr>\n",
       "    <tr>\n",
       "      <th>6</th>\n",
       "      <td>1118</td>\n",
       "      <td>353003.39</td>\n",
       "    </tr>\n",
       "    <tr>\n",
       "      <th>7</th>\n",
       "      <td>1119</td>\n",
       "      <td>221192.71</td>\n",
       "    </tr>\n",
       "  </tbody>\n",
       "</table>\n",
       "</div>"
      ],
      "text/plain": [
       "   CUSTOMER_ID  TOTAL_AMOUNT\n",
       "0         1112      35273.16\n",
       "1         1113     229558.85\n",
       "2         1114     108622.52\n",
       "3         1115      38690.76\n",
       "4         1116     191203.59\n",
       "5         1117      52751.58\n",
       "6         1118     353003.39\n",
       "7         1119     221192.71"
      ]
     },
     "execution_count": 23,
     "metadata": {},
     "output_type": "execute_result"
    }
   ],
   "source": [
    "sql_task_c = f'''\n",
    "                WITH \n",
    "\n",
    "                actual_cusomer as\n",
    "                    (SELECT\n",
    "                        CLIENT_ID\n",
    "                    FROM\n",
    "                        customer_bd\n",
    "                    WHERE END_DT >= '2023-04-01')\n",
    "\n",
    "                SELECT\n",
    "                    CUSTOMER_ID,\n",
    "                    sum(TX_AMOUNT) as TOTAL_AMOUNT\n",
    "                FROM\n",
    "                    transaction_bd\n",
    "                WHERE TX_DATETIME < '2023-04-01' AND CUSTOMER_ID in actual_cusomer AND substr(CUSTOMER_ID, 1, 3) = \"111\"\n",
    "                GROUP by CUSTOMER_ID\n",
    "                '''\n",
    "data = pd.read_sql(sql_task_c, connection)\n",
    "data"
   ]
  },
  {
   "cell_type": "code",
   "execution_count": 17,
   "id": "21681b3d",
   "metadata": {},
   "outputs": [
    {
     "data": {
      "text/plain": [
       "'\\n                WITH \\n\\n                    actual_cusomers as\\n                        (SELECT\\n                            CLIENT_ID\\n                        FROM\\n                            customer_bd\\n                        WHERE END_DT >= 2023-04-01)\\n\\n                SELECT\\n                    CUSTOMER_ID,\\n                    sum(TX_AMOUNT) as TOTAL_AMOUNT\\n                FROM\\n                    transaction_bd\\n                where TX_DATETIME < 2023-04-01 AND CUSTOMER_ID in actual_cusomers AND substr(CUSTOMER_ID, 1, 3) = \"111\"\\n                GROUP by CUSTOMER_ID\\n                '"
      ]
     },
     "execution_count": 17,
     "metadata": {},
     "output_type": "execute_result"
    }
   ],
   "source": [
    "sql_task_c"
   ]
  },
  {
   "cell_type": "code",
   "execution_count": null,
   "id": "4e8e8ce5",
   "metadata": {},
   "outputs": [],
   "source": []
  },
  {
   "cell_type": "markdown",
   "id": "7cb54e5a",
   "metadata": {},
   "source": [
    "d. Найти сумму транзакций относительно года рождения клиентов (клиент должен быть действующим, то есть дата закрытия записи о клиенте не должна быть меньше дня относительно которого мы считаемся). Сортировать по убыванию года рождения.\n",
    "e. Найти количество транзакций для каждого клиента (клиент должен быть действующим, то есть дата закрытия записи о клиенте не должна быть меньше дня относительно которого мы считаемся). Сортировать по убыванию количества транзакций."
   ]
  },
  {
   "cell_type": "code",
   "execution_count": null,
   "id": "b2263bce",
   "metadata": {},
   "outputs": [],
   "source": []
  },
  {
   "cell_type": "code",
   "execution_count": 6,
   "id": "94b74166",
   "metadata": {},
   "outputs": [],
   "source": [
    "connection.close()"
   ]
  },
  {
   "cell_type": "code",
   "execution_count": null,
   "id": "1c9fdaa4",
   "metadata": {},
   "outputs": [],
   "source": []
  },
  {
   "cell_type": "code",
   "execution_count": null,
   "id": "8e0fd88f",
   "metadata": {},
   "outputs": [],
   "source": []
  },
  {
   "cell_type": "code",
   "execution_count": null,
   "id": "284bc84b",
   "metadata": {},
   "outputs": [],
   "source": []
  },
  {
   "cell_type": "markdown",
   "id": "5e7c90ec",
   "metadata": {},
   "source": [
    "## Шаг 3"
   ]
  },
  {
   "cell_type": "code",
   "execution_count": 135,
   "id": "5736b9ce",
   "metadata": {},
   "outputs": [],
   "source": [
    "connection.close()"
   ]
  }
 ],
 "metadata": {
  "kernelspec": {
   "display_name": "Python 3 (ipykernel)",
   "language": "python",
   "name": "python3"
  },
  "language_info": {
   "codemirror_mode": {
    "name": "ipython",
    "version": 3
   },
   "file_extension": ".py",
   "mimetype": "text/x-python",
   "name": "python",
   "nbconvert_exporter": "python",
   "pygments_lexer": "ipython3",
   "version": "3.9.12"
  }
 },
 "nbformat": 4,
 "nbformat_minor": 5
}
