{
 "cells": [
  {
   "cell_type": "markdown",
   "id": "67b606ba",
   "metadata": {},
   "source": [
    "**Цель домашнего задания**\n",
    "\n",
    "Отработать навык работы с оконными функциями на транзакционных данных.\n",
    "\n",
    " \n",
    "\n",
    "**Условия**\n",
    "\n",
    "Дано 2 csv-файла: один с транзакциями за период 01.01.2023 - 20.04.2023, второй с информацией о клиентах.\n",
    "\n",
    "**За дефолтную дату для выборки действующих клиентов брать ‘2023-05-01’**\n",
    "\n",
    "Необходимо в Jupyter-ноутбуке выполнить следующие пункты, используя SQLite:\n",
    "\n",
    "**Шаг 1. Подготовительный этап**\n",
    "\n",
    "*Аналогичные действия вы делали в прошлом домашнем задании.*\n",
    "\n",
    "**(Балл - 2)** Необходимо скачать CSV-файл - «[transactions_for_dz2.csv](https://drive.google.com/file/d/1GsKxPQ3cp1_uuyoLoAQLlsHTLEbXOMIo/view?usp=share_link)», создать таблицу transaction_bd со всеми полями, загрузить данные из файла в таблицу и оставить таблицу со структурой:\n",
    "\n",
    "(0, 'TRANSACTION_ID', 'INTEGER', 0, None, 0) - id транзакции\n",
    "\n",
    "(1, 'TX_DATETIME', 'NUMERIC', 0, None, 0) - дата транзакции\n",
    "\n",
    "(2, 'CUSTOMER_ID', 'INTEGER', 0, None, 0) - id клиента\n",
    "\n",
    "(3, 'TERMINAL_ID', 'INTEGER', 0, None, 0) - id терминала\n",
    "\n",
    "(4, 'TX_AMOUNT', 'REAL', 0, None, 0) - сумма транзакции\n",
    "\n",
    "Также необходимо скачать второй CSV-файл - «[client_info.csv](https://drive.google.com/file/d/1oFzZfwHBtP0NOulBYlp4osIY5NIPIdn-/view?usp=share_link)», создать таблицу customer_bd со всеми полями, загрузить данные из файла в таблицу и получить таблицу со структурой:\n",
    "\n",
    "(0, 'CLIENT_ID', 'INTEGER', 0, None, 0) - id клиента\n",
    "\n",
    "(1, 'START_DT', 'NUMERIC', 0, None, 0) - дата начало записи о клиенте\n",
    "\n",
    "(2, 'END_DT', 'NUMERIC', 0, None, 0) - дата закрытия записи о клиенте\n",
    "\n",
    "(3, 'CLIENT_NAME', 'TEXT', 0, None, 0) - название клиента\n",
    "\n",
    "(4, 'YEAR_BIRTH', 'TEXT', 0, None, 0) - дата рождения клиента\n",
    "\n",
    "**Шаг 2**\n",
    "\n",
    "**(Балл - 2 за каждый пункт)** Написать скрипты:\n",
    "\n",
    "- a. Вывести список всех клиентов, у которых между двумя ближайшими транзакциями был перерыв больше 35 дней хотя бы один раз (клиент должен быть действующим, то есть дата закрытия записи о клиенте не должна быть меньше дня относительно которого мы считаемся).\n",
    "\n",
    "- b. Вывести список клиентов, у которых максимальная сумма транзакции (имеется ввиду максимальное значение TX_AMOUNT) больше 50000. В ответе должен быть id клиента, максимальное значение суммы транзакций, минимальное значение суммы транзакций (клиент должен быть действующим, то есть дата закрытия записи о клиенте не должна быть меньше дня относительно которого мы считаемся).\n",
    "- c. Вывести топ-10 клиентов (сортируя их по убыванию id), у которых сумма дневных транзакций больше суммы вечерних транзакций Условимся, что дневными считаются транзакции, которые были произведены до 12 часов, а вечерними - после 12 часов включительно. (клиент должен быть действующим, то есть дата закрытия записи о клиенте не должна быть меньше дня относительно которого мы считаемся).\n",
    "\n",
    "- d. Найти для каждого клиента день, когда у него была максимальная сумма транзакции, то есть вывести клиента, дату транзакции, сумму транзакции (клиент должен быть действующим, то есть дата закрытия записи о клиенте не должна быть меньше дня относительно которого мы считаемся).\n",
    "\n",
    "- e. Вычислить интегральное распределение суммы транзакций для каждого дня за весь период, то есть вывести дату транзакции, сумму транзакции и интегральное распределение по сумме (не учитываем что клиент может быть недействующим)\n",
    " \n",
    "\n",
    " \n",
    "\n",
    "Сроки выполнения задания\n",
    "До 16.04.2023, 23:59."
   ]
  },
  {
   "cell_type": "markdown",
   "id": "4f256da2",
   "metadata": {},
   "source": [
    "Импортируем библиотеки"
   ]
  },
  {
   "cell_type": "code",
   "execution_count": 6,
   "id": "73c0d3be",
   "metadata": {},
   "outputs": [],
   "source": [
    "import pandas as pd\n",
    "import sqlite3"
   ]
  },
  {
   "cell_type": "markdown",
   "id": "9480ed84",
   "metadata": {},
   "source": [
    "Создадим функции для подключения к базе данных, выполнения запросов и создании таблиц."
   ]
  },
  {
   "cell_type": "code",
   "execution_count": 7,
   "id": "4eff5e5d",
   "metadata": {},
   "outputs": [],
   "source": [
    "def create_connection(path):\n",
    "    connection = None\n",
    "    try:\n",
    "        connection = sqlite3.connect(path)\n",
    "        print(\"Connection to SQLite DB successful\")\n",
    "    except Error as e:\n",
    "        print(f\"The error '{e}' occurred\")\n",
    "\n",
    "    return connection"
   ]
  },
  {
   "cell_type": "code",
   "execution_count": 8,
   "id": "d374da24",
   "metadata": {},
   "outputs": [],
   "source": [
    "def execute_query(connection, query):\n",
    "    cursor = connection.cursor()\n",
    "    try:\n",
    "        cursor.execute(query)\n",
    "        connection.commit()\n",
    "        print(\"Query executed successfully\")\n",
    "    except Error as e:\n",
    "        print(f\"The error '{e}' occurred\")"
   ]
  },
  {
   "cell_type": "code",
   "execution_count": 9,
   "id": "637977cd",
   "metadata": {},
   "outputs": [],
   "source": [
    "def sql_insert(con, entities, text_sql_insert_into_table):\n",
    "\n",
    "    cursorObj = con.cursor()\n",
    "    cursorObj.execute(text_sql_insert_into_table, entities)"
   ]
  },
  {
   "cell_type": "markdown",
   "id": "5b0b02f5",
   "metadata": {},
   "source": [
    "## Шаг 1"
   ]
  },
  {
   "cell_type": "markdown",
   "id": "42ca8246",
   "metadata": {},
   "source": [
    "Подключимся к базе данных"
   ]
  },
  {
   "cell_type": "code",
   "execution_count": 10,
   "id": "c7f5bf27",
   "metadata": {},
   "outputs": [
    {
     "name": "stdout",
     "output_type": "stream",
     "text": [
      "Connection to SQLite DB successful\n"
     ]
    }
   ],
   "source": [
    "connection = create_connection('database.db')"
   ]
  },
  {
   "cell_type": "code",
   "execution_count": 11,
   "id": "89053bee",
   "metadata": {},
   "outputs": [],
   "source": [
    "cursor = sqlite3.Cursor(connection)"
   ]
  },
  {
   "cell_type": "markdown",
   "id": "d9a0217e",
   "metadata": {},
   "source": [
    "Создадим таблицу transaction_bd"
   ]
  },
  {
   "cell_type": "code",
   "execution_count": 12,
   "id": "1e3b88fd",
   "metadata": {},
   "outputs": [],
   "source": [
    "sql_create_table = '''\n",
    "                        CREATE TABLE IF NOT EXISTS transaction_bd (\n",
    "                                            \"TRANSACTION_ID\" INTEGER,\n",
    "                                            \"TX_DATETIME\" NUMERIC,\n",
    "                                            \"CUSTOMER_ID\" INTEGER,\n",
    "                                            \"TERMINAL_ID\" INTEGER,\n",
    "                                            \"TX_AMOUNT\" REAL NOT NULL\n",
    "                                                        )\n",
    "                     '''"
   ]
  },
  {
   "cell_type": "code",
   "execution_count": 13,
   "id": "8397ff04",
   "metadata": {},
   "outputs": [
    {
     "name": "stdout",
     "output_type": "stream",
     "text": [
      "Query executed successfully\n"
     ]
    }
   ],
   "source": [
    "execute_query(connection, sql_create_table)"
   ]
  },
  {
   "cell_type": "markdown",
   "id": "1485d019",
   "metadata": {},
   "source": [
    "Создадим таблицу customer_bd"
   ]
  },
  {
   "cell_type": "code",
   "execution_count": 14,
   "id": "ce114812",
   "metadata": {},
   "outputs": [],
   "source": [
    "sql_create_table = '''\n",
    "                        CREATE TABLE IF NOT EXISTS customer_bd (\n",
    "                                            \"CLIENT_ID\" INTEGER,\n",
    "                                            \"START_DT\" NUMERIC,\n",
    "                                            \"END_DT\" NUMERIC,\n",
    "                                            \"CLIENT_NAME\" TEXT,\n",
    "                                            \"YEAR_BIRTH\" TEXT\n",
    "                                                        )\n",
    "                     '''"
   ]
  },
  {
   "cell_type": "code",
   "execution_count": 15,
   "id": "41cc604b",
   "metadata": {},
   "outputs": [
    {
     "name": "stdout",
     "output_type": "stream",
     "text": [
      "Query executed successfully\n"
     ]
    }
   ],
   "source": [
    "execute_query(connection, sql_create_table)"
   ]
  },
  {
   "cell_type": "markdown",
   "id": "332a140e",
   "metadata": {},
   "source": [
    "Прочитаем данные из файлов и вставим их в таблицы"
   ]
  },
  {
   "cell_type": "code",
   "execution_count": 16,
   "id": "e808ce2c",
   "metadata": {},
   "outputs": [],
   "source": [
    "text_sql_insert_into_table = '''\n",
    "                                 INSERT INTO transaction_bd(\n",
    "                                                         TRANSACTION_ID,\n",
    "                                                         TX_DATETIME,\n",
    "                                                         CUSTOMER_ID,\n",
    "                                                         TERMINAL_ID,\n",
    "                                                         TX_AMOUNT\n",
    "                                                      )\n",
    "                                 VALUES(?, ?, ?, ?, ?)\n",
    "                             '''"
   ]
  },
  {
   "cell_type": "code",
   "execution_count": 17,
   "id": "d07e055e",
   "metadata": {},
   "outputs": [],
   "source": [
    "with open('transactions_for_dz2.csv', encoding='utf-8') as file:\n",
    "    text = file.readlines()\n",
    "for line in text[1:]:\n",
    "    sql_insert(connection, line.split(','), text_sql_insert_into_table)\n",
    "connection.commit()"
   ]
  },
  {
   "cell_type": "code",
   "execution_count": 18,
   "id": "5d0a408b",
   "metadata": {},
   "outputs": [],
   "source": [
    "text_sql_insert_into_table = '''\n",
    "                                 INSERT INTO customer_bd(\n",
    "                                                         START_DT,\n",
    "                                                         END_DT,\n",
    "                                                         CLIENT_NAME,\n",
    "                                                         YEAR_BIRTH,\n",
    "                                                         CLIENT_ID\n",
    "                                                      )\n",
    "                                 VALUES(?, ?, ?, ?, ?)\n",
    "                             '''"
   ]
  },
  {
   "cell_type": "code",
   "execution_count": 19,
   "id": "d6ac9878",
   "metadata": {},
   "outputs": [],
   "source": [
    "with open('client_info.csv', encoding='utf-8') as file:\n",
    "    text = file.readlines()\n",
    "for line in text[1:]:\n",
    "    sql_insert(connection, line.split(';'), text_sql_insert_into_table)\n",
    "connection.commit()"
   ]
  },
  {
   "cell_type": "markdown",
   "id": "975949d8",
   "metadata": {},
   "source": [
    "## Шаг 2\n",
    "Напишем скрипты:"
   ]
  },
  {
   "cell_type": "code",
   "execution_count": 20,
   "id": "2b26585e",
   "metadata": {},
   "outputs": [],
   "source": [
    "connection.close()"
   ]
  },
  {
   "cell_type": "code",
   "execution_count": null,
   "id": "fee450c1",
   "metadata": {},
   "outputs": [],
   "source": []
  }
 ],
 "metadata": {
  "kernelspec": {
   "display_name": "Python 3 (ipykernel)",
   "language": "python",
   "name": "python3"
  },
  "language_info": {
   "codemirror_mode": {
    "name": "ipython",
    "version": 3
   },
   "file_extension": ".py",
   "mimetype": "text/x-python",
   "name": "python",
   "nbconvert_exporter": "python",
   "pygments_lexer": "ipython3",
   "version": "3.9.12"
  }
 },
 "nbformat": 4,
 "nbformat_minor": 5
}
