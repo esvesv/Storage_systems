{
 "cells": [
  {
   "cell_type": "markdown",
   "id": "67b606ba",
   "metadata": {},
   "source": [
    "**Цель домашнего задания**\n",
    "\n",
    "Отработать навык работы с оконными функциями на транзакционных данных.\n",
    "\n",
    " \n",
    "\n",
    "**Условия**\n",
    "\n",
    "Дано 2 csv-файла: один с транзакциями за период 01.01.2023 - 20.04.2023, второй с информацией о клиентах.\n",
    "\n",
    "**За дефолтную дату для выборки действующих клиентов брать ‘2023-05-01’**\n",
    "\n",
    "Необходимо в Jupyter-ноутбуке выполнить следующие пункты, используя SQLite:\n",
    "\n",
    "**Шаг 1. Подготовительный этап**\n",
    "\n",
    "*Аналогичные действия вы делали в прошлом домашнем задании.*\n",
    "\n",
    "**(Балл - 2)** Необходимо скачать CSV-файл - «[transactions_for_dz2.csv](https://drive.google.com/file/d/1GsKxPQ3cp1_uuyoLoAQLlsHTLEbXOMIo/view?usp=share_link)», создать таблицу transaction_bd со всеми полями, загрузить данные из файла в таблицу и оставить таблицу со структурой:\n",
    "\n",
    "(0, 'TRANSACTION_ID', 'INTEGER', 0, None, 0) - id транзакции\n",
    "\n",
    "(1, 'TX_DATETIME', 'NUMERIC', 0, None, 0) - дата транзакции\n",
    "\n",
    "(2, 'CUSTOMER_ID', 'INTEGER', 0, None, 0) - id клиента\n",
    "\n",
    "(3, 'TERMINAL_ID', 'INTEGER', 0, None, 0) - id терминала\n",
    "\n",
    "(4, 'TX_AMOUNT', 'REAL', 0, None, 0) - сумма транзакции\n",
    "\n",
    "Также необходимо скачать второй CSV-файл - «[client_info.csv](https://drive.google.com/file/d/1oFzZfwHBtP0NOulBYlp4osIY5NIPIdn-/view?usp=share_link)», создать таблицу customer_bd со всеми полями, загрузить данные из файла в таблицу и получить таблицу со структурой:\n",
    "\n",
    "(0, 'CLIENT_ID', 'INTEGER', 0, None, 0) - id клиента\n",
    "\n",
    "(1, 'START_DT', 'NUMERIC', 0, None, 0) - дата начало записи о клиенте\n",
    "\n",
    "(2, 'END_DT', 'NUMERIC', 0, None, 0) - дата закрытия записи о клиенте\n",
    "\n",
    "(3, 'CLIENT_NAME', 'TEXT', 0, None, 0) - название клиента\n",
    "\n",
    "(4, 'YEAR_BIRTH', 'TEXT', 0, None, 0) - дата рождения клиента\n",
    "\n",
    "**Шаг 2**\n",
    "\n",
    "**(Балл - 2 за каждый пункт)** Написать скрипты:\n",
    "\n",
    "- a. Вывести список всех клиентов, у которых между двумя ближайшими транзакциями был перерыв больше 35 дней хотя бы один раз (клиент должен быть действующим, то есть дата закрытия записи о клиенте не должна быть меньше дня относительно которого мы считаемся).\n",
    "\n",
    "- b. Вывести список клиентов, у которых максимальная сумма транзакции (имеется ввиду максимальное значение TX_AMOUNT) больше 50000. В ответе должен быть id клиента, максимальное значение суммы транзакций, минимальное значение суммы транзакций (клиент должен быть действующим, то есть дата закрытия записи о клиенте не должна быть меньше дня относительно которого мы считаемся).\n",
    "- c. Вывести топ-10 клиентов (сортируя их по убыванию id), у которых сумма дневных транзакций больше суммы вечерних транзакций Условимся, что дневными считаются транзакции, которые были произведены до 12 часов, а вечерними - после 12 часов включительно. (клиент должен быть действующим, то есть дата закрытия записи о клиенте не должна быть меньше дня относительно которого мы считаемся).\n",
    "\n",
    "- d. Найти для каждого клиента день, когда у него была максимальная сумма транзакции, то есть вывести клиента, дату транзакции, сумму транзакции (клиент должен быть действующим, то есть дата закрытия записи о клиенте не должна быть меньше дня относительно которого мы считаемся).\n",
    "\n",
    "- e. Вычислить интегральное распределение суммы транзакций для каждого дня за весь период, то есть вывести дату транзакции, сумму транзакции и интегральное распределение по сумме (не учитываем что клиент может быть недействующим)\n",
    " \n",
    "\n",
    " \n",
    "\n",
    "Сроки выполнения задания\n",
    "До 16.04.2023, 23:59."
   ]
  },
  {
   "cell_type": "markdown",
   "id": "4f256da2",
   "metadata": {},
   "source": [
    "Импортируем библиотеки"
   ]
  },
  {
   "cell_type": "code",
   "execution_count": 1,
   "id": "73c0d3be",
   "metadata": {},
   "outputs": [],
   "source": [
    "import pandas as pd\n",
    "import sqlite3"
   ]
  },
  {
   "cell_type": "markdown",
   "id": "9480ed84",
   "metadata": {},
   "source": [
    "Создадим функции для подключения к базе данных, выполнения запросов и создании таблиц."
   ]
  },
  {
   "cell_type": "code",
   "execution_count": 2,
   "id": "4eff5e5d",
   "metadata": {},
   "outputs": [],
   "source": [
    "def create_connection(path):\n",
    "    connection = None\n",
    "    try:\n",
    "        connection = sqlite3.connect(path)\n",
    "        print(\"Connection to SQLite DB successful\")\n",
    "    except Error as e:\n",
    "        print(f\"The error '{e}' occurred\")\n",
    "\n",
    "    return connection"
   ]
  },
  {
   "cell_type": "code",
   "execution_count": 3,
   "id": "d374da24",
   "metadata": {},
   "outputs": [],
   "source": [
    "def execute_query(connection, query):\n",
    "    cursor = connection.cursor()\n",
    "    try:\n",
    "        cursor.execute(query)\n",
    "        connection.commit()\n",
    "        print(\"Query executed successfully\")\n",
    "    except Error as e:\n",
    "        print(f\"The error '{e}' occurred\")"
   ]
  },
  {
   "cell_type": "code",
   "execution_count": 4,
   "id": "637977cd",
   "metadata": {},
   "outputs": [],
   "source": [
    "def sql_insert(con, entities, text_sql_insert_into_table):\n",
    "\n",
    "    cursorObj = con.cursor()\n",
    "    cursorObj.execute(text_sql_insert_into_table, entities)"
   ]
  },
  {
   "cell_type": "markdown",
   "id": "5b0b02f5",
   "metadata": {},
   "source": [
    "## Шаг 1"
   ]
  },
  {
   "cell_type": "markdown",
   "id": "42ca8246",
   "metadata": {},
   "source": [
    "Подключимся к базе данных"
   ]
  },
  {
   "cell_type": "code",
   "execution_count": 5,
   "id": "c7f5bf27",
   "metadata": {
    "scrolled": true
   },
   "outputs": [
    {
     "name": "stdout",
     "output_type": "stream",
     "text": [
      "Connection to SQLite DB successful\n"
     ]
    }
   ],
   "source": [
    "connection = create_connection('database.db')"
   ]
  },
  {
   "cell_type": "code",
   "execution_count": 6,
   "id": "89053bee",
   "metadata": {},
   "outputs": [],
   "source": [
    "cursor = sqlite3.Cursor(connection)"
   ]
  },
  {
   "cell_type": "markdown",
   "id": "d9a0217e",
   "metadata": {},
   "source": [
    "Создадим таблицу transaction_bd"
   ]
  },
  {
   "cell_type": "code",
   "execution_count": 12,
   "id": "1e3b88fd",
   "metadata": {},
   "outputs": [],
   "source": [
    "sql_create_table = '''\n",
    "                        CREATE TABLE IF NOT EXISTS transaction_bd (\n",
    "                                            \"TRANSACTION_ID\" INTEGER,\n",
    "                                            \"TX_DATETIME\" NUMERIC,\n",
    "                                            \"CUSTOMER_ID\" INTEGER,\n",
    "                                            \"TERMINAL_ID\" INTEGER,\n",
    "                                            \"TX_AMOUNT\" REAL NOT NULL\n",
    "                                                        )\n",
    "                     '''"
   ]
  },
  {
   "cell_type": "code",
   "execution_count": 13,
   "id": "8397ff04",
   "metadata": {},
   "outputs": [
    {
     "name": "stdout",
     "output_type": "stream",
     "text": [
      "Query executed successfully\n"
     ]
    }
   ],
   "source": [
    "execute_query(connection, sql_create_table)"
   ]
  },
  {
   "cell_type": "markdown",
   "id": "1485d019",
   "metadata": {},
   "source": [
    "Создадим таблицу customer_bd"
   ]
  },
  {
   "cell_type": "code",
   "execution_count": 14,
   "id": "ce114812",
   "metadata": {},
   "outputs": [],
   "source": [
    "sql_create_table = '''\n",
    "                        CREATE TABLE IF NOT EXISTS customer_bd (\n",
    "                                            \"CLIENT_ID\" INTEGER,\n",
    "                                            \"START_DT\" NUMERIC,\n",
    "                                            \"END_DT\" NUMERIC,\n",
    "                                            \"CLIENT_NAME\" TEXT,\n",
    "                                            \"YEAR_BIRTH\" TEXT\n",
    "                                                        )\n",
    "                     '''"
   ]
  },
  {
   "cell_type": "code",
   "execution_count": 15,
   "id": "41cc604b",
   "metadata": {},
   "outputs": [
    {
     "name": "stdout",
     "output_type": "stream",
     "text": [
      "Query executed successfully\n"
     ]
    }
   ],
   "source": [
    "execute_query(connection, sql_create_table)"
   ]
  },
  {
   "cell_type": "markdown",
   "id": "332a140e",
   "metadata": {},
   "source": [
    "Прочитаем данные из файлов и вставим их в таблицы"
   ]
  },
  {
   "cell_type": "code",
   "execution_count": 16,
   "id": "e808ce2c",
   "metadata": {},
   "outputs": [],
   "source": [
    "text_sql_insert_into_table = '''\n",
    "                                 INSERT INTO transaction_bd(\n",
    "                                                         TRANSACTION_ID,\n",
    "                                                         TX_DATETIME,\n",
    "                                                         CUSTOMER_ID,\n",
    "                                                         TERMINAL_ID,\n",
    "                                                         TX_AMOUNT\n",
    "                                                      )\n",
    "                                 VALUES(?, ?, ?, ?, ?)\n",
    "                             '''"
   ]
  },
  {
   "cell_type": "code",
   "execution_count": 17,
   "id": "d07e055e",
   "metadata": {},
   "outputs": [],
   "source": [
    "with open('transactions_for_dz2.csv', encoding='utf-8') as file:\n",
    "    text = file.readlines()\n",
    "for line in text[1:]:\n",
    "    sql_insert(connection, line.split(','), text_sql_insert_into_table)\n",
    "connection.commit()"
   ]
  },
  {
   "cell_type": "code",
   "execution_count": 18,
   "id": "5d0a408b",
   "metadata": {},
   "outputs": [],
   "source": [
    "text_sql_insert_into_table = '''\n",
    "                                 INSERT INTO customer_bd(\n",
    "                                                         START_DT,\n",
    "                                                         END_DT,\n",
    "                                                         CLIENT_NAME,\n",
    "                                                         YEAR_BIRTH,\n",
    "                                                         CLIENT_ID\n",
    "                                                      )\n",
    "                                 VALUES(?, ?, ?, ?, ?)\n",
    "                             '''"
   ]
  },
  {
   "cell_type": "code",
   "execution_count": 19,
   "id": "d6ac9878",
   "metadata": {},
   "outputs": [],
   "source": [
    "with open('client_info.csv', encoding='utf-8') as file:\n",
    "    text = file.readlines()\n",
    "for line in text[1:]:\n",
    "    sql_insert(connection, line.split(';'), text_sql_insert_into_table)\n",
    "connection.commit()"
   ]
  },
  {
   "cell_type": "code",
   "execution_count": 4,
   "id": "a0456974",
   "metadata": {},
   "outputs": [
    {
     "data": {
      "text/html": [
       "<div>\n",
       "<style scoped>\n",
       "    .dataframe tbody tr th:only-of-type {\n",
       "        vertical-align: middle;\n",
       "    }\n",
       "\n",
       "    .dataframe tbody tr th {\n",
       "        vertical-align: top;\n",
       "    }\n",
       "\n",
       "    .dataframe thead th {\n",
       "        text-align: right;\n",
       "    }\n",
       "</style>\n",
       "<table border=\"1\" class=\"dataframe\">\n",
       "  <thead>\n",
       "    <tr style=\"text-align: right;\">\n",
       "      <th></th>\n",
       "      <th>START_DT</th>\n",
       "      <th>END_DT</th>\n",
       "      <th>CLIENT_NAME</th>\n",
       "      <th>YEAR_BIRTH</th>\n",
       "      <th>CLIENT_ID</th>\n",
       "    </tr>\n",
       "  </thead>\n",
       "  <tbody>\n",
       "    <tr>\n",
       "      <th>0</th>\n",
       "      <td>2015-07-16</td>\n",
       "      <td>2021-01-01</td>\n",
       "      <td>Olivia</td>\n",
       "      <td>1979</td>\n",
       "      <td>2213</td>\n",
       "    </tr>\n",
       "    <tr>\n",
       "      <th>1</th>\n",
       "      <td>2015-07-17</td>\n",
       "      <td>2021-01-01</td>\n",
       "      <td>Emma</td>\n",
       "      <td>1979</td>\n",
       "      <td>1148</td>\n",
       "    </tr>\n",
       "    <tr>\n",
       "      <th>2</th>\n",
       "      <td>2015-07-18</td>\n",
       "      <td>2021-01-01</td>\n",
       "      <td>Charlotte</td>\n",
       "      <td>1979</td>\n",
       "      <td>2293</td>\n",
       "    </tr>\n",
       "  </tbody>\n",
       "</table>\n",
       "</div>"
      ],
      "text/plain": [
       "    START_DT      END_DT CLIENT_NAME  YEAR_BIRTH  CLIENT_ID\n",
       "0 2015-07-16  2021-01-01      Olivia        1979       2213\n",
       "1 2015-07-17  2021-01-01        Emma        1979       1148\n",
       "2 2015-07-18  2021-01-01   Charlotte        1979       2293"
      ]
     },
     "execution_count": 4,
     "metadata": {},
     "output_type": "execute_result"
    }
   ],
   "source": [
    "customers = pd.read_csv('client_info.csv', sep=';', parse_dates=['START_DT', 'END_DT'])\n",
    "customers.head(3)"
   ]
  },
  {
   "cell_type": "code",
   "execution_count": 57,
   "id": "f0a76bf0",
   "metadata": {},
   "outputs": [],
   "source": [
    "customers['END_DT'] = customers['END_DT'].apply(lambda x: '2261-12-31' if x == '2999-12-31' else x)"
   ]
  },
  {
   "cell_type": "code",
   "execution_count": 59,
   "id": "737b937e",
   "metadata": {},
   "outputs": [],
   "source": [
    "customers['END_DT'] = pd.to_datetime(customers['END_DT'])"
   ]
  },
  {
   "cell_type": "code",
   "execution_count": 60,
   "id": "8758d6f7",
   "metadata": {
    "scrolled": false
   },
   "outputs": [
    {
     "name": "stdout",
     "output_type": "stream",
     "text": [
      "<class 'pandas.core.frame.DataFrame'>\n",
      "RangeIndex: 4988 entries, 0 to 4987\n",
      "Data columns (total 5 columns):\n",
      " #   Column       Non-Null Count  Dtype         \n",
      "---  ------       --------------  -----         \n",
      " 0   START_DT     4988 non-null   datetime64[ns]\n",
      " 1   END_DT       4988 non-null   datetime64[ns]\n",
      " 2   CLIENT_NAME  4988 non-null   object        \n",
      " 3   YEAR_BIRTH   4988 non-null   int64         \n",
      " 4   CLIENT_ID    4988 non-null   int64         \n",
      "dtypes: datetime64[ns](2), int64(2), object(1)\n",
      "memory usage: 195.0+ KB\n"
     ]
    }
   ],
   "source": [
    "customers.info()"
   ]
  },
  {
   "cell_type": "code",
   "execution_count": 66,
   "id": "68445806",
   "metadata": {
    "scrolled": true
   },
   "outputs": [
    {
     "data": {
      "text/html": [
       "<div>\n",
       "<style scoped>\n",
       "    .dataframe tbody tr th:only-of-type {\n",
       "        vertical-align: middle;\n",
       "    }\n",
       "\n",
       "    .dataframe tbody tr th {\n",
       "        vertical-align: top;\n",
       "    }\n",
       "\n",
       "    .dataframe thead th {\n",
       "        text-align: right;\n",
       "    }\n",
       "</style>\n",
       "<table border=\"1\" class=\"dataframe\">\n",
       "  <thead>\n",
       "    <tr style=\"text-align: right;\">\n",
       "      <th></th>\n",
       "      <th>START_DT</th>\n",
       "      <th>END_DT</th>\n",
       "      <th>CLIENT_NAME</th>\n",
       "      <th>YEAR_BIRTH</th>\n",
       "      <th>CLIENT_ID</th>\n",
       "    </tr>\n",
       "  </thead>\n",
       "  <tbody>\n",
       "    <tr>\n",
       "      <th>0</th>\n",
       "      <td>2015-07-16</td>\n",
       "      <td>2021-01-01</td>\n",
       "      <td>Olivia</td>\n",
       "      <td>1979</td>\n",
       "      <td>2213</td>\n",
       "    </tr>\n",
       "    <tr>\n",
       "      <th>1</th>\n",
       "      <td>2015-07-17</td>\n",
       "      <td>2021-01-01</td>\n",
       "      <td>Emma</td>\n",
       "      <td>1979</td>\n",
       "      <td>1148</td>\n",
       "    </tr>\n",
       "    <tr>\n",
       "      <th>2</th>\n",
       "      <td>2015-07-18</td>\n",
       "      <td>2021-01-01</td>\n",
       "      <td>Charlotte</td>\n",
       "      <td>1979</td>\n",
       "      <td>2293</td>\n",
       "    </tr>\n",
       "  </tbody>\n",
       "</table>\n",
       "</div>"
      ],
      "text/plain": [
       "    START_DT     END_DT CLIENT_NAME  YEAR_BIRTH  CLIENT_ID\n",
       "0 2015-07-16 2021-01-01      Olivia        1979       2213\n",
       "1 2015-07-17 2021-01-01        Emma        1979       1148\n",
       "2 2015-07-18 2021-01-01   Charlotte        1979       2293"
      ]
     },
     "execution_count": 66,
     "metadata": {},
     "output_type": "execute_result"
    }
   ],
   "source": [
    "customers.head(3)"
   ]
  },
  {
   "cell_type": "code",
   "execution_count": 65,
   "id": "dec513da",
   "metadata": {},
   "outputs": [
    {
     "data": {
      "text/html": [
       "<div>\n",
       "<style scoped>\n",
       "    .dataframe tbody tr th:only-of-type {\n",
       "        vertical-align: middle;\n",
       "    }\n",
       "\n",
       "    .dataframe tbody tr th {\n",
       "        vertical-align: top;\n",
       "    }\n",
       "\n",
       "    .dataframe thead th {\n",
       "        text-align: right;\n",
       "    }\n",
       "</style>\n",
       "<table border=\"1\" class=\"dataframe\">\n",
       "  <thead>\n",
       "    <tr style=\"text-align: right;\">\n",
       "      <th></th>\n",
       "      <th>TRANSACTION_ID</th>\n",
       "      <th>TX_DATETIME</th>\n",
       "      <th>CUSTOMER_ID</th>\n",
       "      <th>TERMINAL_ID</th>\n",
       "      <th>TX_AMOUNT</th>\n",
       "    </tr>\n",
       "  </thead>\n",
       "  <tbody>\n",
       "    <tr>\n",
       "      <th>0</th>\n",
       "      <td>0</td>\n",
       "      <td>2023-01-01 00:00:31</td>\n",
       "      <td>596</td>\n",
       "      <td>3156</td>\n",
       "      <td>533.07</td>\n",
       "    </tr>\n",
       "    <tr>\n",
       "      <th>1</th>\n",
       "      <td>1</td>\n",
       "      <td>2023-01-01 00:02:10</td>\n",
       "      <td>4961</td>\n",
       "      <td>3412</td>\n",
       "      <td>808.56</td>\n",
       "    </tr>\n",
       "    <tr>\n",
       "      <th>2</th>\n",
       "      <td>2</td>\n",
       "      <td>2023-01-01 00:07:56</td>\n",
       "      <td>2</td>\n",
       "      <td>1365</td>\n",
       "      <td>1442.94</td>\n",
       "    </tr>\n",
       "  </tbody>\n",
       "</table>\n",
       "</div>"
      ],
      "text/plain": [
       "   TRANSACTION_ID         TX_DATETIME  CUSTOMER_ID  TERMINAL_ID  TX_AMOUNT\n",
       "0               0 2023-01-01 00:00:31          596         3156     533.07\n",
       "1               1 2023-01-01 00:02:10         4961         3412     808.56\n",
       "2               2 2023-01-01 00:07:56            2         1365    1442.94"
      ]
     },
     "execution_count": 65,
     "metadata": {},
     "output_type": "execute_result"
    }
   ],
   "source": [
    "transaction = pd.read_csv('transactions_for_dz2.csv', parse_dates=['TX_DATETIME'])\n",
    "transaction.head(3)"
   ]
  },
  {
   "cell_type": "code",
   "execution_count": 69,
   "id": "eca373e5",
   "metadata": {},
   "outputs": [
    {
     "data": {
      "text/html": [
       "<div>\n",
       "<style scoped>\n",
       "    .dataframe tbody tr th:only-of-type {\n",
       "        vertical-align: middle;\n",
       "    }\n",
       "\n",
       "    .dataframe tbody tr th {\n",
       "        vertical-align: top;\n",
       "    }\n",
       "\n",
       "    .dataframe thead th {\n",
       "        text-align: right;\n",
       "    }\n",
       "</style>\n",
       "<table border=\"1\" class=\"dataframe\">\n",
       "  <thead>\n",
       "    <tr style=\"text-align: right;\">\n",
       "      <th></th>\n",
       "      <th>TRANSACTION_ID</th>\n",
       "      <th>TX_DATETIME</th>\n",
       "      <th>CUSTOMER_ID</th>\n",
       "      <th>TERMINAL_ID</th>\n",
       "      <th>TX_AMOUNT</th>\n",
       "      <th>START_DT</th>\n",
       "      <th>END_DT</th>\n",
       "      <th>CLIENT_NAME</th>\n",
       "      <th>YEAR_BIRTH</th>\n",
       "      <th>CLIENT_ID</th>\n",
       "    </tr>\n",
       "  </thead>\n",
       "  <tbody>\n",
       "    <tr>\n",
       "      <th>0</th>\n",
       "      <td>0</td>\n",
       "      <td>2023-01-01 00:00:31</td>\n",
       "      <td>596</td>\n",
       "      <td>3156</td>\n",
       "      <td>533.07</td>\n",
       "      <td>2011-03-03</td>\n",
       "      <td>2023-03-03</td>\n",
       "      <td>Janice</td>\n",
       "      <td>1957</td>\n",
       "      <td>596</td>\n",
       "    </tr>\n",
       "    <tr>\n",
       "      <th>1</th>\n",
       "      <td>6440</td>\n",
       "      <td>2023-01-01 14:32:25</td>\n",
       "      <td>596</td>\n",
       "      <td>7633</td>\n",
       "      <td>558.99</td>\n",
       "      <td>2011-03-03</td>\n",
       "      <td>2023-03-03</td>\n",
       "      <td>Janice</td>\n",
       "      <td>1957</td>\n",
       "      <td>596</td>\n",
       "    </tr>\n",
       "    <tr>\n",
       "      <th>2</th>\n",
       "      <td>8491</td>\n",
       "      <td>2023-01-01 18:33:13</td>\n",
       "      <td>596</td>\n",
       "      <td>2440</td>\n",
       "      <td>589.15</td>\n",
       "      <td>2011-03-03</td>\n",
       "      <td>2023-03-03</td>\n",
       "      <td>Janice</td>\n",
       "      <td>1957</td>\n",
       "      <td>596</td>\n",
       "    </tr>\n",
       "  </tbody>\n",
       "</table>\n",
       "</div>"
      ],
      "text/plain": [
       "   TRANSACTION_ID         TX_DATETIME  CUSTOMER_ID  TERMINAL_ID  TX_AMOUNT  \\\n",
       "0               0 2023-01-01 00:00:31          596         3156     533.07   \n",
       "1            6440 2023-01-01 14:32:25          596         7633     558.99   \n",
       "2            8491 2023-01-01 18:33:13          596         2440     589.15   \n",
       "\n",
       "    START_DT     END_DT CLIENT_NAME  YEAR_BIRTH  CLIENT_ID  \n",
       "0 2011-03-03 2023-03-03      Janice        1957        596  \n",
       "1 2011-03-03 2023-03-03      Janice        1957        596  \n",
       "2 2011-03-03 2023-03-03      Janice        1957        596  "
      ]
     },
     "execution_count": 69,
     "metadata": {},
     "output_type": "execute_result"
    }
   ],
   "source": [
    "df = pd.merge(transaction, customers, left_on='CUSTOMER_ID', right_on='CLIENT_ID')\n",
    "df.head(3)"
   ]
  },
  {
   "cell_type": "code",
   "execution_count": null,
   "id": "f5550e4b",
   "metadata": {},
   "outputs": [],
   "source": []
  },
  {
   "cell_type": "code",
   "execution_count": null,
   "id": "efec574b",
   "metadata": {},
   "outputs": [],
   "source": []
  },
  {
   "cell_type": "code",
   "execution_count": null,
   "id": "0dbd3f52",
   "metadata": {},
   "outputs": [],
   "source": []
  },
  {
   "cell_type": "code",
   "execution_count": null,
   "id": "27f20583",
   "metadata": {},
   "outputs": [],
   "source": []
  },
  {
   "cell_type": "markdown",
   "id": "975949d8",
   "metadata": {},
   "source": [
    "## Шаг 2\n",
    "Напишем скрипты:"
   ]
  },
  {
   "cell_type": "markdown",
   "id": "0bc42391",
   "metadata": {},
   "source": [
    "- a. Вывести список всех клиентов, у которых между двумя ближайшими транзакциями был перерыв больше 35 дней хотя бы один раз (клиент должен быть действующим, то есть дата закрытия записи о клиенте не должна быть меньше дня относительно которого мы считаемся)."
   ]
  },
  {
   "cell_type": "code",
   "execution_count": 8,
   "id": "6f5bed70",
   "metadata": {},
   "outputs": [
    {
     "data": {
      "text/html": [
       "<div>\n",
       "<style scoped>\n",
       "    .dataframe tbody tr th:only-of-type {\n",
       "        vertical-align: middle;\n",
       "    }\n",
       "\n",
       "    .dataframe tbody tr th {\n",
       "        vertical-align: top;\n",
       "    }\n",
       "\n",
       "    .dataframe thead th {\n",
       "        text-align: right;\n",
       "    }\n",
       "</style>\n",
       "<table border=\"1\" class=\"dataframe\">\n",
       "  <thead>\n",
       "    <tr style=\"text-align: right;\">\n",
       "      <th></th>\n",
       "      <th>CUSTOMER_ID</th>\n",
       "      <th>MAX_DELTA_BETWEEN_TRANSACTIONS</th>\n",
       "    </tr>\n",
       "  </thead>\n",
       "  <tbody>\n",
       "    <tr>\n",
       "      <th>0</th>\n",
       "      <td>24</td>\n",
       "      <td>40</td>\n",
       "    </tr>\n",
       "    <tr>\n",
       "      <th>1</th>\n",
       "      <td>480</td>\n",
       "      <td>54</td>\n",
       "    </tr>\n",
       "    <tr>\n",
       "      <th>2</th>\n",
       "      <td>812</td>\n",
       "      <td>83</td>\n",
       "    </tr>\n",
       "    <tr>\n",
       "      <th>3</th>\n",
       "      <td>896</td>\n",
       "      <td>50</td>\n",
       "    </tr>\n",
       "    <tr>\n",
       "      <th>4</th>\n",
       "      <td>1129</td>\n",
       "      <td>42</td>\n",
       "    </tr>\n",
       "    <tr>\n",
       "      <th>5</th>\n",
       "      <td>1299</td>\n",
       "      <td>66</td>\n",
       "    </tr>\n",
       "    <tr>\n",
       "      <th>6</th>\n",
       "      <td>1334</td>\n",
       "      <td>56</td>\n",
       "    </tr>\n",
       "    <tr>\n",
       "      <th>7</th>\n",
       "      <td>1459</td>\n",
       "      <td>45</td>\n",
       "    </tr>\n",
       "    <tr>\n",
       "      <th>8</th>\n",
       "      <td>1637</td>\n",
       "      <td>36</td>\n",
       "    </tr>\n",
       "    <tr>\n",
       "      <th>9</th>\n",
       "      <td>1923</td>\n",
       "      <td>56</td>\n",
       "    </tr>\n",
       "    <tr>\n",
       "      <th>10</th>\n",
       "      <td>2061</td>\n",
       "      <td>58</td>\n",
       "    </tr>\n",
       "    <tr>\n",
       "      <th>11</th>\n",
       "      <td>2093</td>\n",
       "      <td>49</td>\n",
       "    </tr>\n",
       "    <tr>\n",
       "      <th>12</th>\n",
       "      <td>2105</td>\n",
       "      <td>55</td>\n",
       "    </tr>\n",
       "    <tr>\n",
       "      <th>13</th>\n",
       "      <td>2201</td>\n",
       "      <td>43</td>\n",
       "    </tr>\n",
       "    <tr>\n",
       "      <th>14</th>\n",
       "      <td>2284</td>\n",
       "      <td>42</td>\n",
       "    </tr>\n",
       "    <tr>\n",
       "      <th>15</th>\n",
       "      <td>2307</td>\n",
       "      <td>37</td>\n",
       "    </tr>\n",
       "    <tr>\n",
       "      <th>16</th>\n",
       "      <td>2368</td>\n",
       "      <td>39</td>\n",
       "    </tr>\n",
       "    <tr>\n",
       "      <th>17</th>\n",
       "      <td>2374</td>\n",
       "      <td>52</td>\n",
       "    </tr>\n",
       "    <tr>\n",
       "      <th>18</th>\n",
       "      <td>3216</td>\n",
       "      <td>37</td>\n",
       "    </tr>\n",
       "    <tr>\n",
       "      <th>19</th>\n",
       "      <td>3352</td>\n",
       "      <td>41</td>\n",
       "    </tr>\n",
       "    <tr>\n",
       "      <th>20</th>\n",
       "      <td>3403</td>\n",
       "      <td>45</td>\n",
       "    </tr>\n",
       "    <tr>\n",
       "      <th>21</th>\n",
       "      <td>3418</td>\n",
       "      <td>45</td>\n",
       "    </tr>\n",
       "    <tr>\n",
       "      <th>22</th>\n",
       "      <td>3478</td>\n",
       "      <td>42</td>\n",
       "    </tr>\n",
       "    <tr>\n",
       "      <th>23</th>\n",
       "      <td>3608</td>\n",
       "      <td>46</td>\n",
       "    </tr>\n",
       "    <tr>\n",
       "      <th>24</th>\n",
       "      <td>3645</td>\n",
       "      <td>41</td>\n",
       "    </tr>\n",
       "    <tr>\n",
       "      <th>25</th>\n",
       "      <td>3990</td>\n",
       "      <td>44</td>\n",
       "    </tr>\n",
       "    <tr>\n",
       "      <th>26</th>\n",
       "      <td>4224</td>\n",
       "      <td>42</td>\n",
       "    </tr>\n",
       "    <tr>\n",
       "      <th>27</th>\n",
       "      <td>4388</td>\n",
       "      <td>41</td>\n",
       "    </tr>\n",
       "    <tr>\n",
       "      <th>28</th>\n",
       "      <td>4562</td>\n",
       "      <td>64</td>\n",
       "    </tr>\n",
       "    <tr>\n",
       "      <th>29</th>\n",
       "      <td>4618</td>\n",
       "      <td>49</td>\n",
       "    </tr>\n",
       "    <tr>\n",
       "      <th>30</th>\n",
       "      <td>4650</td>\n",
       "      <td>50</td>\n",
       "    </tr>\n",
       "    <tr>\n",
       "      <th>31</th>\n",
       "      <td>4875</td>\n",
       "      <td>50</td>\n",
       "    </tr>\n",
       "  </tbody>\n",
       "</table>\n",
       "</div>"
      ],
      "text/plain": [
       "    CUSTOMER_ID  MAX_DELTA_BETWEEN_TRANSACTIONS\n",
       "0            24                              40\n",
       "1           480                              54\n",
       "2           812                              83\n",
       "3           896                              50\n",
       "4          1129                              42\n",
       "5          1299                              66\n",
       "6          1334                              56\n",
       "7          1459                              45\n",
       "8          1637                              36\n",
       "9          1923                              56\n",
       "10         2061                              58\n",
       "11         2093                              49\n",
       "12         2105                              55\n",
       "13         2201                              43\n",
       "14         2284                              42\n",
       "15         2307                              37\n",
       "16         2368                              39\n",
       "17         2374                              52\n",
       "18         3216                              37\n",
       "19         3352                              41\n",
       "20         3403                              45\n",
       "21         3418                              45\n",
       "22         3478                              42\n",
       "23         3608                              46\n",
       "24         3645                              41\n",
       "25         3990                              44\n",
       "26         4224                              42\n",
       "27         4388                              41\n",
       "28         4562                              64\n",
       "29         4618                              49\n",
       "30         4650                              50\n",
       "31         4875                              50"
      ]
     },
     "execution_count": 8,
     "metadata": {},
     "output_type": "execute_result"
    }
   ],
   "source": [
    "sql_task_a = '''\n",
    "                WITH\n",
    "                    actual_cusomers as\n",
    "                        (SELECT\n",
    "                            CLIENT_ID\n",
    "                        FROM\n",
    "                            customer_bd\n",
    "                        WHERE END_DT >= '2023-05-01'),\n",
    "\n",
    "                    next_transactions as\n",
    "                        (SELECT\n",
    "                            CUSTOMER_ID,\n",
    "                            (strftime('%s', date(lead(TX_DATETIME) over(PARTITION by CUSTOMER_ID))) - strftime('%s', date(TX_DATETIME))) / 86400 as delta_date_transaction\n",
    "\n",
    "                        FROM\n",
    "                            transaction_bd)\n",
    "\n",
    "\n",
    "                SELECT\n",
    "                    CUSTOMER_ID,\n",
    "                    max(delta_date_transaction) as MAX_DELTA_BETWEEN_TRANSACTIONS\n",
    "                FROM\n",
    "                    next_transactions\n",
    "                WHERE CUSTOMER_ID in actual_cusomers\n",
    "                GROUP by CUSTOMER_ID\n",
    "                HAVING MAX_DELTA_BETWEEN_TRANSACTIONS > 35\n",
    "                '''\n",
    "data = pd.read_sql(sql_task_a, connection)\n",
    "data"
   ]
  },
  {
   "cell_type": "markdown",
   "id": "ef59cee8",
   "metadata": {},
   "source": [
    "- b. Вывести список клиентов, у которых максимальная сумма транзакции (имеется ввиду максимальное значение TX_AMOUNT) больше 50000. В ответе должен быть id клиента, максимальное значение суммы транзакций, минимальное значение суммы транзакций (клиент должен быть действующим, то есть дата закрытия записи о клиенте не должна быть меньше дня относительно которого мы считаемся)."
   ]
  },
  {
   "cell_type": "code",
   "execution_count": 41,
   "id": "cba05a09",
   "metadata": {},
   "outputs": [
    {
     "data": {
      "text/html": [
       "<div>\n",
       "<style scoped>\n",
       "    .dataframe tbody tr th:only-of-type {\n",
       "        vertical-align: middle;\n",
       "    }\n",
       "\n",
       "    .dataframe tbody tr th {\n",
       "        vertical-align: top;\n",
       "    }\n",
       "\n",
       "    .dataframe thead th {\n",
       "        text-align: right;\n",
       "    }\n",
       "</style>\n",
       "<table border=\"1\" class=\"dataframe\">\n",
       "  <thead>\n",
       "    <tr style=\"text-align: right;\">\n",
       "      <th></th>\n",
       "      <th>CUSTOMER_ID</th>\n",
       "      <th>MAX_TX_AMOUNT</th>\n",
       "      <th>MIN_TX_AMOUNT</th>\n",
       "    </tr>\n",
       "  </thead>\n",
       "  <tbody>\n",
       "    <tr>\n",
       "      <th>0</th>\n",
       "      <td>3013</td>\n",
       "      <td>77212.50</td>\n",
       "      <td>1.46</td>\n",
       "    </tr>\n",
       "    <tr>\n",
       "      <th>1</th>\n",
       "      <td>3494</td>\n",
       "      <td>53213.00</td>\n",
       "      <td>85.76</td>\n",
       "    </tr>\n",
       "    <tr>\n",
       "      <th>2</th>\n",
       "      <td>4253</td>\n",
       "      <td>51937.25</td>\n",
       "      <td>37.95</td>\n",
       "    </tr>\n",
       "  </tbody>\n",
       "</table>\n",
       "</div>"
      ],
      "text/plain": [
       "   CUSTOMER_ID  MAX_TX_AMOUNT  MIN_TX_AMOUNT\n",
       "0         3013       77212.50           1.46\n",
       "1         3494       53213.00          85.76\n",
       "2         4253       51937.25          37.95"
      ]
     },
     "execution_count": 41,
     "metadata": {},
     "output_type": "execute_result"
    }
   ],
   "source": [
    "sql_task_b = '''\n",
    "                WITH\n",
    "                    actual_cusomers as\n",
    "                        (SELECT\n",
    "                            CLIENT_ID\n",
    "                        FROM\n",
    "                            customer_bd\n",
    "                        WHERE END_DT >= '2023-05-01'),\n",
    "\n",
    "                    agregate_tx_amount as\n",
    "                        (SELECT\n",
    "                            CUSTOMER_ID,\n",
    "                            max(TX_AMOUNT) over (PARTITION by CUSTOMER_ID) as MAX_TX_AMOUNT,\n",
    "                            min(TX_AMOUNT) over (PARTITION by CUSTOMER_ID) as MIN_TX_AMOUNT\n",
    "                        FROM\n",
    "                            transaction_bd\n",
    "                        WHERE CUSTOMER_ID in actual_cusomers)\n",
    "\n",
    "                SELECT\n",
    "                    *\n",
    "                FROM\n",
    "                    agregate_tx_amount\n",
    "                GROUP by CUSTOMER_ID\n",
    "                HAVING MAX_TX_AMOUNT > 50000\n",
    "                '''\n",
    "data = pd.read_sql(sql_task_b, connection)\n",
    "data"
   ]
  },
  {
   "cell_type": "code",
   "execution_count": 74,
   "id": "dfcba404",
   "metadata": {},
   "outputs": [
    {
     "data": {
      "text/html": [
       "<div>\n",
       "<style scoped>\n",
       "    .dataframe tbody tr th:only-of-type {\n",
       "        vertical-align: middle;\n",
       "    }\n",
       "\n",
       "    .dataframe tbody tr th {\n",
       "        vertical-align: top;\n",
       "    }\n",
       "\n",
       "    .dataframe thead th {\n",
       "        text-align: right;\n",
       "    }\n",
       "</style>\n",
       "<table border=\"1\" class=\"dataframe\">\n",
       "  <thead>\n",
       "    <tr style=\"text-align: right;\">\n",
       "      <th></th>\n",
       "      <th>TRANSACTION_ID</th>\n",
       "      <th>TX_DATETIME</th>\n",
       "      <th>CUSTOMER_ID</th>\n",
       "      <th>TERMINAL_ID</th>\n",
       "      <th>TX_AMOUNT</th>\n",
       "      <th>START_DT</th>\n",
       "      <th>END_DT</th>\n",
       "      <th>CLIENT_NAME</th>\n",
       "      <th>YEAR_BIRTH</th>\n",
       "      <th>CLIENT_ID</th>\n",
       "    </tr>\n",
       "  </thead>\n",
       "  <tbody>\n",
       "    <tr>\n",
       "      <th>424</th>\n",
       "      <td>1</td>\n",
       "      <td>2023-01-01 00:02:10</td>\n",
       "      <td>4961</td>\n",
       "      <td>3412</td>\n",
       "      <td>808.56</td>\n",
       "      <td>2010-09-30</td>\n",
       "      <td>2261-12-31</td>\n",
       "      <td>Alivia</td>\n",
       "      <td>1954</td>\n",
       "      <td>4961</td>\n",
       "    </tr>\n",
       "    <tr>\n",
       "      <th>425</th>\n",
       "      <td>537</td>\n",
       "      <td>2023-01-01 03:51:38</td>\n",
       "      <td>4961</td>\n",
       "      <td>6658</td>\n",
       "      <td>559.58</td>\n",
       "      <td>2010-09-30</td>\n",
       "      <td>2261-12-31</td>\n",
       "      <td>Alivia</td>\n",
       "      <td>1954</td>\n",
       "      <td>4961</td>\n",
       "    </tr>\n",
       "    <tr>\n",
       "      <th>426</th>\n",
       "      <td>1996</td>\n",
       "      <td>2023-01-01 07:42:16</td>\n",
       "      <td>4961</td>\n",
       "      <td>9415</td>\n",
       "      <td>663.98</td>\n",
       "      <td>2010-09-30</td>\n",
       "      <td>2261-12-31</td>\n",
       "      <td>Alivia</td>\n",
       "      <td>1954</td>\n",
       "      <td>4961</td>\n",
       "    </tr>\n",
       "  </tbody>\n",
       "</table>\n",
       "</div>"
      ],
      "text/plain": [
       "     TRANSACTION_ID         TX_DATETIME  CUSTOMER_ID  TERMINAL_ID  TX_AMOUNT  \\\n",
       "424               1 2023-01-01 00:02:10         4961         3412     808.56   \n",
       "425             537 2023-01-01 03:51:38         4961         6658     559.58   \n",
       "426            1996 2023-01-01 07:42:16         4961         9415     663.98   \n",
       "\n",
       "      START_DT     END_DT CLIENT_NAME  YEAR_BIRTH  CLIENT_ID  \n",
       "424 2010-09-30 2261-12-31      Alivia        1954       4961  \n",
       "425 2010-09-30 2261-12-31      Alivia        1954       4961  \n",
       "426 2010-09-30 2261-12-31      Alivia        1954       4961  "
      ]
     },
     "execution_count": 74,
     "metadata": {},
     "output_type": "execute_result"
    }
   ],
   "source": [
    "df_actual = df[df['END_DT'] >= '2023-05-01']\n",
    "df_actual.head(3)"
   ]
  },
  {
   "cell_type": "code",
   "execution_count": 83,
   "id": "8daaf760",
   "metadata": {},
   "outputs": [
    {
     "data": {
      "text/html": [
       "<div>\n",
       "<style scoped>\n",
       "    .dataframe tbody tr th:only-of-type {\n",
       "        vertical-align: middle;\n",
       "    }\n",
       "\n",
       "    .dataframe tbody tr th {\n",
       "        vertical-align: top;\n",
       "    }\n",
       "\n",
       "    .dataframe thead th {\n",
       "        text-align: right;\n",
       "    }\n",
       "</style>\n",
       "<table border=\"1\" class=\"dataframe\">\n",
       "  <thead>\n",
       "    <tr style=\"text-align: right;\">\n",
       "      <th></th>\n",
       "      <th>max</th>\n",
       "      <th>min</th>\n",
       "    </tr>\n",
       "    <tr>\n",
       "      <th>CUSTOMER_ID</th>\n",
       "      <th></th>\n",
       "      <th></th>\n",
       "    </tr>\n",
       "  </thead>\n",
       "  <tbody>\n",
       "    <tr>\n",
       "      <th>0</th>\n",
       "      <td>1258.86</td>\n",
       "      <td>12.62</td>\n",
       "    </tr>\n",
       "    <tr>\n",
       "      <th>1</th>\n",
       "      <td>17152.00</td>\n",
       "      <td>5.34</td>\n",
       "    </tr>\n",
       "    <tr>\n",
       "      <th>2</th>\n",
       "      <td>1720.11</td>\n",
       "      <td>5.77</td>\n",
       "    </tr>\n",
       "  </tbody>\n",
       "</table>\n",
       "</div>"
      ],
      "text/plain": [
       "                  max    min\n",
       "CUSTOMER_ID                 \n",
       "0             1258.86  12.62\n",
       "1            17152.00   5.34\n",
       "2             1720.11   5.77"
      ]
     },
     "execution_count": 83,
     "metadata": {},
     "output_type": "execute_result"
    }
   ],
   "source": [
    "df_result = df_actual.groupby('CUSTOMER_ID', as_index=False)['TX_AMOUNT'].agg(['max', 'min'])\n",
    "df_result.head(3)"
   ]
  },
  {
   "cell_type": "code",
   "execution_count": 84,
   "id": "810b4de7",
   "metadata": {},
   "outputs": [
    {
     "data": {
      "text/html": [
       "<div>\n",
       "<style scoped>\n",
       "    .dataframe tbody tr th:only-of-type {\n",
       "        vertical-align: middle;\n",
       "    }\n",
       "\n",
       "    .dataframe tbody tr th {\n",
       "        vertical-align: top;\n",
       "    }\n",
       "\n",
       "    .dataframe thead th {\n",
       "        text-align: right;\n",
       "    }\n",
       "</style>\n",
       "<table border=\"1\" class=\"dataframe\">\n",
       "  <thead>\n",
       "    <tr style=\"text-align: right;\">\n",
       "      <th></th>\n",
       "      <th>max</th>\n",
       "      <th>min</th>\n",
       "    </tr>\n",
       "    <tr>\n",
       "      <th>CUSTOMER_ID</th>\n",
       "      <th></th>\n",
       "      <th></th>\n",
       "    </tr>\n",
       "  </thead>\n",
       "  <tbody>\n",
       "    <tr>\n",
       "      <th>3013</th>\n",
       "      <td>77212.50</td>\n",
       "      <td>1.46</td>\n",
       "    </tr>\n",
       "    <tr>\n",
       "      <th>3494</th>\n",
       "      <td>53213.00</td>\n",
       "      <td>85.76</td>\n",
       "    </tr>\n",
       "    <tr>\n",
       "      <th>4253</th>\n",
       "      <td>51937.25</td>\n",
       "      <td>37.95</td>\n",
       "    </tr>\n",
       "  </tbody>\n",
       "</table>\n",
       "</div>"
      ],
      "text/plain": [
       "                  max    min\n",
       "CUSTOMER_ID                 \n",
       "3013         77212.50   1.46\n",
       "3494         53213.00  85.76\n",
       "4253         51937.25  37.95"
      ]
     },
     "execution_count": 84,
     "metadata": {},
     "output_type": "execute_result"
    }
   ],
   "source": [
    "df_result[df_result['max'] > 50000]"
   ]
  },
  {
   "cell_type": "markdown",
   "id": "a718daaf",
   "metadata": {},
   "source": [
    "- c. Вывести топ-10 клиентов (сортируя их по убыванию id), у которых сумма дневных транзакций больше суммы вечерних транзакций Условимся, что дневными считаются транзакции, которые были произведены до 12 часов, а вечерними - после 12 часов включительно. (клиент должен быть действующим, то есть дата закрытия записи о клиенте не должна быть меньше дня относительно которого мы считаемся)."
   ]
  },
  {
   "cell_type": "code",
   "execution_count": null,
   "id": "e9801d17",
   "metadata": {},
   "outputs": [],
   "source": []
  },
  {
   "cell_type": "markdown",
   "id": "e6b61ce1",
   "metadata": {},
   "source": [
    "- d. Найти для каждого клиента день, когда у него была максимальная сумма транзакции, то есть вывести клиента, дату транзакции, сумму транзакции (клиент должен быть действующим, то есть дата закрытия записи о клиенте не должна быть меньше дня относительно которого мы считаемся)."
   ]
  },
  {
   "cell_type": "code",
   "execution_count": null,
   "id": "5d469b6a",
   "metadata": {},
   "outputs": [],
   "source": []
  },
  {
   "cell_type": "markdown",
   "id": "d567137c",
   "metadata": {},
   "source": [
    "- e. Вычислить интегральное распределение суммы транзакций для каждого дня за весь период, то есть вывести дату транзакции, сумму транзакции и интегральное распределение по сумме (не учитываем что клиент может быть недействующим)"
   ]
  },
  {
   "cell_type": "code",
   "execution_count": null,
   "id": "c5e99751",
   "metadata": {},
   "outputs": [],
   "source": []
  },
  {
   "cell_type": "code",
   "execution_count": 42,
   "id": "2b26585e",
   "metadata": {},
   "outputs": [],
   "source": [
    "connection.close()"
   ]
  },
  {
   "cell_type": "code",
   "execution_count": null,
   "id": "c17a4e00",
   "metadata": {},
   "outputs": [],
   "source": []
  }
 ],
 "metadata": {
  "kernelspec": {
   "display_name": "Python 3 (ipykernel)",
   "language": "python",
   "name": "python3"
  },
  "language_info": {
   "codemirror_mode": {
    "name": "ipython",
    "version": 3
   },
   "file_extension": ".py",
   "mimetype": "text/x-python",
   "name": "python",
   "nbconvert_exporter": "python",
   "pygments_lexer": "ipython3",
   "version": "3.9.12"
  }
 },
 "nbformat": 4,
 "nbformat_minor": 5
}
